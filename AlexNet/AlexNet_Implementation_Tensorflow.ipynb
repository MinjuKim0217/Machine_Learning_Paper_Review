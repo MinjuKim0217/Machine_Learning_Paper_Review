{
  "nbformat": 4,
  "nbformat_minor": 0,
  "metadata": {
    "colab": {
      "name": "AlexNet_Implementation_Tensorflow.ipynb",
      "provenance": [],
      "machine_shape": "hm",
      "authorship_tag": "ABX9TyMjk7QhPXXJyeC6Dead4D24",
      "include_colab_link": true
    },
    "kernelspec": {
      "name": "python3",
      "display_name": "Python 3"
    },
    "language_info": {
      "name": "python"
    },
    "accelerator": "TPU"
  },
  "cells": [
    {
      "cell_type": "markdown",
      "metadata": {
        "id": "view-in-github",
        "colab_type": "text"
      },
      "source": [
        "<a href=\"https://colab.research.google.com/github/MinjuKim0217/Machine_Learning_Paper_Review/blob/main/AlexNet/AlexNet_Implementation_Tensorflow.ipynb\" target=\"_parent\"><img src=\"https://colab.research.google.com/assets/colab-badge.svg\" alt=\"Open In Colab\"/></a>"
      ]
    },
    {
      "cell_type": "code",
      "execution_count": 1,
      "metadata": {
        "id": "jCEMsN7Z2-Uk"
      },
      "outputs": [],
      "source": [
        "import tensorflow as tf\n",
        "from tensorflow import keras\n",
        "import matplotlib.pyplot as plt\n",
        "import os\n",
        "import time"
      ]
    },
    {
      "cell_type": "markdown",
      "source": [
        "# Load Dataset\n",
        "The CIFAR-10 dataset\n",
        "\n",
        "60,000개의 이미지, 32x32px.\n",
        "\n",
        "10개의 class"
      ],
      "metadata": {
        "id": "GPY-nqDJ3UXc"
      }
    },
    {
      "cell_type": "code",
      "source": [
        "(train_images, train_labels), (test_images, test_labels)= keras.datasets.cifar10.load_data()"
      ],
      "metadata": {
        "colab": {
          "base_uri": "https://localhost:8080/"
        },
        "id": "QcK1TtS53Qgk",
        "outputId": "209c91f7-9394-43d0-c14c-89b49fb9c888"
      },
      "execution_count": 2,
      "outputs": [
        {
          "output_type": "stream",
          "name": "stdout",
          "text": [
            "Downloading data from https://www.cs.toronto.edu/~kriz/cifar-10-python.tar.gz\n",
            "170500096/170498071 [==============================] - 2s 0us/step\n",
            "170508288/170498071 [==============================] - 2s 0us/step\n"
          ]
        }
      ]
    },
    {
      "cell_type": "code",
      "source": [
        "# class 이름 붙여주기\n",
        "CLASS_NAMES=['airplanes', 'automobile', 'bird','cat','deer','dog','frog','horse','ship','truck']"
      ],
      "metadata": {
        "id": "1APfWDfY3suF"
      },
      "execution_count": 3,
      "outputs": []
    },
    {
      "cell_type": "markdown",
      "source": [
        "validation data 따로 나눠주기\n",
        "\n",
        "CIFAR dataset은 50,000 training data, 10,000 test data가 있다. (default)\n",
        "5000개 데이터 validation data로"
      ],
      "metadata": {
        "id": "CaK_M31x4MGL"
      }
    },
    {
      "cell_type": "code",
      "source": [
        "validation_images, validation_labels = train_images[:5000], train_labels[:5000]\n",
        "train_images, train_labels = train_images[5000:], train_labels[5000:]"
      ],
      "metadata": {
        "id": "_MPLTbbU38Mr"
      },
      "execution_count": 4,
      "outputs": []
    },
    {
      "cell_type": "code",
      "source": [
        "train_ds=tf.data.Dataset.from_tensor_slices((train_images,train_labels))\n",
        "test_ds=tf.data.Dataset.from_tensor_slices((test_images,test_labels))\n",
        "validation_ds=tf.data.Dataset.from_tensor_slices((validation_images,validation_labels))"
      ],
      "metadata": {
        "id": "5VsPXx5U4c7D"
      },
      "execution_count": 5,
      "outputs": []
    },
    {
      "cell_type": "markdown",
      "source": [
        "# Preprocessing"
      ],
      "metadata": {
        "id": "J5PSnZbj5aT2"
      }
    },
    {
      "cell_type": "code",
      "source": [
        "plt.figure(figsize=(20,20))\n",
        "for i, (image,label) in enumerate(train_ds.take(5)):\n",
        "  ax=plt.subplot(5,5,i+1)\n",
        "  plt.imshow(image)\n",
        "  plt.title(CLASS_NAMES[label.numpy()[0]])\n",
        "  plt.axis('off')"
      ],
      "metadata": {
        "colab": {
          "base_uri": "https://localhost:8080/",
          "height": 234
        },
        "id": "MEeqF8WW5XnA",
        "outputId": "8293d834-07b5-4679-e26b-4c33a2378ab5"
      },
      "execution_count": 6,
      "outputs": [
        {
          "output_type": "display_data",
          "data": {
            "image/png": "[encoded data removed]",
            "text/plain": [
              "<Figure size 1440x1440 with 5 Axes>"
            ]
          },
          "metadata": {
            "needs_background": "light"
          }
        }
      ]
    },
    {
      "cell_type": "markdown",
      "source": [
        "먼저 해야 할 전처리\n",
        "- normaliaing, standardizing \n",
        "- 32x32 이미지 227x227 이미지로 변환\n",
        "\n"
      ],
      "metadata": {
        "id": "9viNOhuk6Eeh"
      }
    },
    {
      "cell_type": "code",
      "source": [
        "#preprocess 하는 함수\n",
        "def process_images(image, label):\n",
        "  #Normalize images to have a mean of 0 and standard deviation of 1\n",
        "  image=tf.image.per_image_standardization(image)\n",
        "  #Resize images from 32x32 to 227x227\n",
        "  image=tf.image.resize(image,(227,227))\n",
        "  return image, label"
      ],
      "metadata": {
        "id": "a9RpLR8n6AbC"
      },
      "execution_count": 7,
      "outputs": []
    },
    {
      "cell_type": "markdown",
      "source": [
        "# Data/Input Pipline\n",
        "\n",
        "나누어진 데이터셋의 크기는 반드시 알아놔야 한다. 왜냐하면 나중에 네트워크에 들어가기 전에 충분히 잘 shuffle 되었는지 확인하기 위해!\n",
        "\n",
        "\n"
      ],
      "metadata": {
        "id": "C2cemW5U6tCQ"
      }
    },
    {
      "cell_type": "code",
      "source": [
        "train_ds_size=tf.data.experimental.cardinality(train_ds).numpy()\n",
        "test_ds_size=tf.data.experimental.cardinality(test_ds).numpy()\n",
        "validation_ds_size=tf.data.experimental.cardinality(validation_ds).numpy()\n",
        "print(\"Training data size:\", train_ds_size)\n",
        "print(\"Test data size:\", test_ds_size)\n",
        "print(\"Validation data size:\", validation_ds_size)"
      ],
      "metadata": {
        "colab": {
          "base_uri": "https://localhost:8080/"
        },
        "id": "EpWtv6CO6q-3",
        "outputId": "970bb9a7-1870-4d3a-b041-1b371a454ade"
      },
      "execution_count": 8,
      "outputs": [
        {
          "output_type": "stream",
          "name": "stdout",
          "text": [
            "Training data size: 45000\n",
            "Test data size: 10000\n",
            "Validation data size: 5000\n"
          ]
        }
      ]
    },
    {
      "cell_type": "markdown",
      "source": [
        "파이프라인 구축 전 해야할 것\n",
        "\n",
        "1. 데이터셋 내에서 데이터 전처리\n",
        "2. 데이터셋 shuffle\n",
        "3. 데이터셋 내의 데이터들 배치로 나누기"
      ],
      "metadata": {
        "id": "HfxvRduu7nkM"
      }
    },
    {
      "cell_type": "code",
      "source": [
        "train_ds = (train_ds\n",
        "                  .map(process_images)\n",
        "                  .shuffle(buffer_size=train_ds_size)\n",
        "                  .batch(batch_size=32, drop_remainder=True))\n",
        "test_ds = (test_ds\n",
        "                  .map(process_images)\n",
        "                  .shuffle(buffer_size=train_ds_size)\n",
        "                  .batch(batch_size=32, drop_remainder=True))\n",
        "validation_ds = (validation_ds\n",
        "                  .map(process_images)\n",
        "                  .shuffle(buffer_size=train_ds_size)\n",
        "                  .batch(batch_size=32, drop_remainder=True))"
      ],
      "metadata": {
        "id": "5GOW-QpP7hCu"
      },
      "execution_count": 9,
      "outputs": []
    },
    {
      "cell_type": "markdown",
      "source": [
        "# Model Implementation"
      ],
      "metadata": {
        "id": "xO0mWsqq8dDf"
      }
    },
    {
      "cell_type": "code",
      "source": [
        "# keras implementation of the AlexNet CNN architecture\n",
        "\n",
        "model= keras.models.Sequential([\n",
        "                                keras.layers.Conv2D(filters=96, kernel_size=(11,11), strides=(4,4), activation='relu',input_shape=(227,227,3)),\n",
        "                                keras.layers.BatchNormalization(),\n",
        "                                keras.layers.MaxPool2D(pool_size=(3,3), strides=(2,2)),\n",
        "                                keras.layers.Conv2D(filters=256, kernel_size=(5,5), strides=(1,1), activation='relu', padding='same'),\n",
        "                                keras.layers.BatchNormalization(),\n",
        "                                keras.layers.MaxPool2D(pool_size=(3,3), strides=(2,2)),\n",
        "                                keras.layers.Conv2D(filters=384, kernel_size=(3,3), strides=(1,1), activation='relu', padding='same'),\n",
        "                                keras.layers.BatchNormalization(),\n",
        "                                keras.layers.Conv2D(filters=384, kernel_size=(3,3), strides=(1,1), activation='relu', padding='same'),\n",
        "                                keras.layers.BatchNormalization(),\n",
        "                                keras.layers.Conv2D(filters=256, kernel_size=(5,5), strides=(1,1), activation='relu', padding='same'),\n",
        "                                keras.layers.BatchNormalization(),\n",
        "                                keras.layers.MaxPool2D(pool_size=(3,3), strides=(2,2)),\n",
        "                                keras.layers.Flatten(),\n",
        "                                keras.layers.Dense(4096, activation='relu'),\n",
        "                                keras.layers.Dropout(0.5),\n",
        "                                keras.layers.Dense(4096, activation='relu'),\n",
        "                                keras.layers.Dropout(0.5),\n",
        "                                keras.layers.Dense(10, activation='softmax')\n",
        "\n",
        "])"
      ],
      "metadata": {
        "id": "QZ9LctFQ8SGk"
      },
      "execution_count": 10,
      "outputs": []
    },
    {
      "cell_type": "code",
      "source": [
        "#Tensorboard\n",
        "\n",
        "root_logdir = os.path.join(os.curdir, \"logs\\\\fit\\\\\")\n",
        "def get_run_logdir():\n",
        "    run_id = time.strftime(\"run_%Y_%m_%d-%H_%M_%S\")\n",
        "    return os.path.join(root_logdir, run_id)\n",
        "run_logdir = get_run_logdir()\n",
        "tensorboard_cb = keras.callbacks.TensorBoard(run_logdir)"
      ],
      "metadata": {
        "id": "1MoR0CHz-BFf"
      },
      "execution_count": 11,
      "outputs": []
    },
    {
      "cell_type": "markdown",
      "source": [
        "# Training and Results"
      ],
      "metadata": {
        "id": "DePOUv6c-KhH"
      }
    },
    {
      "cell_type": "code",
      "source": [
        "model.compile(loss='sparse_categorical_crossentropy', optimizer=tf.optimizers.SGD(lr=0.001), metrics=['accuracy'])\n",
        "model.summary()"
      ],
      "metadata": {
        "colab": {
          "base_uri": "https://localhost:8080/"
        },
        "id": "dhif9VIG-JiQ",
        "outputId": "bc2b79c3-db4e-4b23-ee84-c7fa26c9d16b"
      },
      "execution_count": 12,
      "outputs": [
        {
          "output_type": "stream",
          "name": "stdout",
          "text": [
            "Model: \"sequential\"\n",
            "_________________________________________________________________\n",
            " Layer (type)                Output Shape              Param #   \n",
            "=================================================================\n",
            " conv2d (Conv2D)             (None, 55, 55, 96)        34944     \n",
            "                                                                 \n",
            " batch_normalization (BatchN  (None, 55, 55, 96)       384       \n",
            " ormalization)                                                   \n",
            "                                                                 \n",
            " max_pooling2d (MaxPooling2D  (None, 27, 27, 96)       0         \n",
            " )                                                               \n",
            "                                                                 \n",
            " conv2d_1 (Conv2D)           (None, 27, 27, 256)       614656    \n",
            "                                                                 \n",
            " batch_normalization_1 (Batc  (None, 27, 27, 256)      1024      \n",
            " hNormalization)                                                 \n",
            "                                                                 \n",
            " max_pooling2d_1 (MaxPooling  (None, 13, 13, 256)      0         \n",
            " 2D)                                                             \n",
            "                                                                 \n",
            " conv2d_2 (Conv2D)           (None, 13, 13, 384)       885120    \n",
            "                                                                 \n",
            " batch_normalization_2 (Batc  (None, 13, 13, 384)      1536      \n",
            " hNormalization)                                                 \n",
            "                                                                 \n",
            " conv2d_3 (Conv2D)           (None, 13, 13, 384)       1327488   \n",
            "                                                                 \n",
            " batch_normalization_3 (Batc  (None, 13, 13, 384)      1536      \n",
            " hNormalization)                                                 \n",
            "                                                                 \n",
            " conv2d_4 (Conv2D)           (None, 13, 13, 256)       2457856   \n",
            "                                                                 \n",
            " batch_normalization_4 (Batc  (None, 13, 13, 256)      1024      \n",
            " hNormalization)                                                 \n",
            "                                                                 \n",
            " max_pooling2d_2 (MaxPooling  (None, 6, 6, 256)        0         \n",
            " 2D)                                                             \n",
            "                                                                 \n",
            " flatten (Flatten)           (None, 9216)              0         \n",
            "                                                                 \n",
            " dense (Dense)               (None, 4096)              37752832  \n",
            "                                                                 \n",
            " dropout (Dropout)           (None, 4096)              0         \n",
            "                                                                 \n",
            " dense_1 (Dense)             (None, 4096)              16781312  \n",
            "                                                                 \n",
            " dropout_1 (Dropout)         (None, 4096)              0         \n",
            "                                                                 \n",
            " dense_2 (Dense)             (None, 10)                40970     \n",
            "                                                                 \n",
            "=================================================================\n",
            "Total params: 59,900,682\n",
            "Trainable params: 59,897,930\n",
            "Non-trainable params: 2,752\n",
            "_________________________________________________________________\n"
          ]
        },
        {
          "output_type": "stream",
          "name": "stderr",
          "text": [
            "/usr/local/lib/python3.7/dist-packages/keras/optimizer_v2/gradient_descent.py:102: UserWarning: The `lr` argument is deprecated, use `learning_rate` instead.\n",
            "  super(SGD, self).__init__(name, **kwargs)\n"
          ]
        }
      ]
    },
    {
      "cell_type": "code",
      "source": [
        "model.fit(train_ds,\n",
        "          epochs=10,\n",
        "          validation_data=validation_ds,\n",
        "          validation_freq=1,\n",
        "          callbacks=[tensorboard_cb])"
      ],
      "metadata": {
        "colab": {
          "base_uri": "https://localhost:8080/"
        },
        "id": "8M3C5oaK-GK2",
        "outputId": "8ff0c3f4-eac0-4712-e846-13bcdbdf9c4b"
      },
      "execution_count": null,
      "outputs": [
        {
          "output_type": "stream",
          "name": "stdout",
          "text": [
            "Epoch 1/10\n",
            " 594/1406 [===========>..................] - ETA: 9:22 - loss: 2.4016 - accuracy: 0.3034"
          ]
        }
      ]
    },
    {
      "cell_type": "code",
      "source": [
        ""
      ],
      "metadata": {
        "id": "kVXQzAV5-nGb"
      },
      "execution_count": null,
      "outputs": []
    }
  ]
}
{
  "nbformat": 4,
  "nbformat_minor": 0,
  "metadata": {
    "colab": {
      "name": "BERT 모델 훈련 전 데이터 정제.ipynb",
      "provenance": [],
      "authorship_tag": "ABX9TyOotetaFYndUgTmC+bi4fzN",
      "include_colab_link": true
    },
    "kernelspec": {
      "name": "python3",
      "display_name": "Python 3"
    },
    "language_info": {
      "name": "python"
    }
  },
  "cells": [
    {
      "cell_type": "markdown",
      "metadata": {
        "id": "view-in-github",
        "colab_type": "text"
      },
      "source": [
        "<a href=\"https://colab.research.google.com/github/MinjuKim0217/Machine_Learning_Paper_Review/blob/main/BERT/BERT_%EB%AA%A8%EB%8D%B8_%ED%9B%88%EB%A0%A8_%EC%A0%84_%EB%8D%B0%EC%9D%B4%ED%84%B0_%EC%A0%95%EC%A0%9C.ipynb\" target=\"_parent\"><img src=\"https://colab.research.google.com/assets/colab-badge.svg\" alt=\"Open In Colab\"/></a>"
      ]
    },
    {
      "cell_type": "code",
      "metadata": {
        "colab": {
          "base_uri": "https://localhost:8080/"
        },
        "id": "7oONv7Ix5kD6",
        "outputId": "f72668e9-b8a3-428a-dc40-7a4942208511"
      },
      "source": [
        "!pip install sentencepiece"
      ],
      "execution_count": 3,
      "outputs": [
        {
          "output_type": "stream",
          "name": "stdout",
          "text": [
            "Collecting sentencepiece\n",
            "  Downloading sentencepiece-0.1.96-cp37-cp37m-manylinux_2_17_x86_64.manylinux2014_x86_64.whl (1.2 MB)\n",
            "\u001b[?25l\r\u001b[K     |▎                               | 10 kB 24.3 MB/s eta 0:00:01\r\u001b[K     |▌                               | 20 kB 25.1 MB/s eta 0:00:01\r\u001b[K     |▉                               | 30 kB 28.6 MB/s eta 0:00:01\r\u001b[K     |█                               | 40 kB 32.8 MB/s eta 0:00:01\r\u001b[K     |█▍                              | 51 kB 22.1 MB/s eta 0:00:01\r\u001b[K     |█▋                              | 61 kB 14.6 MB/s eta 0:00:01\r\u001b[K     |██                              | 71 kB 13.4 MB/s eta 0:00:01\r\u001b[K     |██▏                             | 81 kB 14.7 MB/s eta 0:00:01\r\u001b[K     |██▍                             | 92 kB 15.8 MB/s eta 0:00:01\r\u001b[K     |██▊                             | 102 kB 16.2 MB/s eta 0:00:01\r\u001b[K     |███                             | 112 kB 16.2 MB/s eta 0:00:01\r\u001b[K     |███▎                            | 122 kB 16.2 MB/s eta 0:00:01\r\u001b[K     |███▌                            | 133 kB 16.2 MB/s eta 0:00:01\r\u001b[K     |███▉                            | 143 kB 16.2 MB/s eta 0:00:01\r\u001b[K     |████                            | 153 kB 16.2 MB/s eta 0:00:01\r\u001b[K     |████▎                           | 163 kB 16.2 MB/s eta 0:00:01\r\u001b[K     |████▋                           | 174 kB 16.2 MB/s eta 0:00:01\r\u001b[K     |████▉                           | 184 kB 16.2 MB/s eta 0:00:01\r\u001b[K     |█████▏                          | 194 kB 16.2 MB/s eta 0:00:01\r\u001b[K     |█████▍                          | 204 kB 16.2 MB/s eta 0:00:01\r\u001b[K     |█████▊                          | 215 kB 16.2 MB/s eta 0:00:01\r\u001b[K     |██████                          | 225 kB 16.2 MB/s eta 0:00:01\r\u001b[K     |██████▏                         | 235 kB 16.2 MB/s eta 0:00:01\r\u001b[K     |██████▌                         | 245 kB 16.2 MB/s eta 0:00:01\r\u001b[K     |██████▊                         | 256 kB 16.2 MB/s eta 0:00:01\r\u001b[K     |███████                         | 266 kB 16.2 MB/s eta 0:00:01\r\u001b[K     |███████▎                        | 276 kB 16.2 MB/s eta 0:00:01\r\u001b[K     |███████▋                        | 286 kB 16.2 MB/s eta 0:00:01\r\u001b[K     |███████▉                        | 296 kB 16.2 MB/s eta 0:00:01\r\u001b[K     |████████                        | 307 kB 16.2 MB/s eta 0:00:01\r\u001b[K     |████████▍                       | 317 kB 16.2 MB/s eta 0:00:01\r\u001b[K     |████████▋                       | 327 kB 16.2 MB/s eta 0:00:01\r\u001b[K     |█████████                       | 337 kB 16.2 MB/s eta 0:00:01\r\u001b[K     |█████████▏                      | 348 kB 16.2 MB/s eta 0:00:01\r\u001b[K     |█████████▌                      | 358 kB 16.2 MB/s eta 0:00:01\r\u001b[K     |█████████▊                      | 368 kB 16.2 MB/s eta 0:00:01\r\u001b[K     |██████████                      | 378 kB 16.2 MB/s eta 0:00:01\r\u001b[K     |██████████▎                     | 389 kB 16.2 MB/s eta 0:00:01\r\u001b[K     |██████████▌                     | 399 kB 16.2 MB/s eta 0:00:01\r\u001b[K     |██████████▉                     | 409 kB 16.2 MB/s eta 0:00:01\r\u001b[K     |███████████                     | 419 kB 16.2 MB/s eta 0:00:01\r\u001b[K     |███████████▍                    | 430 kB 16.2 MB/s eta 0:00:01\r\u001b[K     |███████████▋                    | 440 kB 16.2 MB/s eta 0:00:01\r\u001b[K     |███████████▉                    | 450 kB 16.2 MB/s eta 0:00:01\r\u001b[K     |████████████▏                   | 460 kB 16.2 MB/s eta 0:00:01\r\u001b[K     |████████████▍                   | 471 kB 16.2 MB/s eta 0:00:01\r\u001b[K     |████████████▊                   | 481 kB 16.2 MB/s eta 0:00:01\r\u001b[K     |█████████████                   | 491 kB 16.2 MB/s eta 0:00:01\r\u001b[K     |█████████████▎                  | 501 kB 16.2 MB/s eta 0:00:01\r\u001b[K     |█████████████▌                  | 512 kB 16.2 MB/s eta 0:00:01\r\u001b[K     |█████████████▊                  | 522 kB 16.2 MB/s eta 0:00:01\r\u001b[K     |██████████████                  | 532 kB 16.2 MB/s eta 0:00:01\r\u001b[K     |██████████████▎                 | 542 kB 16.2 MB/s eta 0:00:01\r\u001b[K     |██████████████▋                 | 552 kB 16.2 MB/s eta 0:00:01\r\u001b[K     |██████████████▉                 | 563 kB 16.2 MB/s eta 0:00:01\r\u001b[K     |███████████████▏                | 573 kB 16.2 MB/s eta 0:00:01\r\u001b[K     |███████████████▍                | 583 kB 16.2 MB/s eta 0:00:01\r\u001b[K     |███████████████▋                | 593 kB 16.2 MB/s eta 0:00:01\r\u001b[K     |████████████████                | 604 kB 16.2 MB/s eta 0:00:01\r\u001b[K     |████████████████▏               | 614 kB 16.2 MB/s eta 0:00:01\r\u001b[K     |████████████████▌               | 624 kB 16.2 MB/s eta 0:00:01\r\u001b[K     |████████████████▊               | 634 kB 16.2 MB/s eta 0:00:01\r\u001b[K     |█████████████████               | 645 kB 16.2 MB/s eta 0:00:01\r\u001b[K     |█████████████████▎              | 655 kB 16.2 MB/s eta 0:00:01\r\u001b[K     |█████████████████▌              | 665 kB 16.2 MB/s eta 0:00:01\r\u001b[K     |█████████████████▉              | 675 kB 16.2 MB/s eta 0:00:01\r\u001b[K     |██████████████████              | 686 kB 16.2 MB/s eta 0:00:01\r\u001b[K     |██████████████████▍             | 696 kB 16.2 MB/s eta 0:00:01\r\u001b[K     |██████████████████▋             | 706 kB 16.2 MB/s eta 0:00:01\r\u001b[K     |███████████████████             | 716 kB 16.2 MB/s eta 0:00:01\r\u001b[K     |███████████████████▏            | 727 kB 16.2 MB/s eta 0:00:01\r\u001b[K     |███████████████████▍            | 737 kB 16.2 MB/s eta 0:00:01\r\u001b[K     |███████████████████▊            | 747 kB 16.2 MB/s eta 0:00:01\r\u001b[K     |████████████████████            | 757 kB 16.2 MB/s eta 0:00:01\r\u001b[K     |████████████████████▎           | 768 kB 16.2 MB/s eta 0:00:01\r\u001b[K     |████████████████████▌           | 778 kB 16.2 MB/s eta 0:00:01\r\u001b[K     |████████████████████▉           | 788 kB 16.2 MB/s eta 0:00:01\r\u001b[K     |█████████████████████           | 798 kB 16.2 MB/s eta 0:00:01\r\u001b[K     |█████████████████████▎          | 808 kB 16.2 MB/s eta 0:00:01\r\u001b[K     |█████████████████████▋          | 819 kB 16.2 MB/s eta 0:00:01\r\u001b[K     |█████████████████████▉          | 829 kB 16.2 MB/s eta 0:00:01\r\u001b[K     |██████████████████████▏         | 839 kB 16.2 MB/s eta 0:00:01\r\u001b[K     |██████████████████████▍         | 849 kB 16.2 MB/s eta 0:00:01\r\u001b[K     |██████████████████████▊         | 860 kB 16.2 MB/s eta 0:00:01\r\u001b[K     |███████████████████████         | 870 kB 16.2 MB/s eta 0:00:01\r\u001b[K     |███████████████████████▏        | 880 kB 16.2 MB/s eta 0:00:01\r\u001b[K     |███████████████████████▌        | 890 kB 16.2 MB/s eta 0:00:01\r\u001b[K     |███████████████████████▊        | 901 kB 16.2 MB/s eta 0:00:01\r\u001b[K     |████████████████████████        | 911 kB 16.2 MB/s eta 0:00:01\r\u001b[K     |████████████████████████▎       | 921 kB 16.2 MB/s eta 0:00:01\r\u001b[K     |████████████████████████▋       | 931 kB 16.2 MB/s eta 0:00:01\r\u001b[K     |████████████████████████▉       | 942 kB 16.2 MB/s eta 0:00:01\r\u001b[K     |█████████████████████████       | 952 kB 16.2 MB/s eta 0:00:01\r\u001b[K     |█████████████████████████▍      | 962 kB 16.2 MB/s eta 0:00:01\r\u001b[K     |█████████████████████████▋      | 972 kB 16.2 MB/s eta 0:00:01\r\u001b[K     |██████████████████████████      | 983 kB 16.2 MB/s eta 0:00:01\r\u001b[K     |██████████████████████████▏     | 993 kB 16.2 MB/s eta 0:00:01\r\u001b[K     |██████████████████████████▌     | 1.0 MB 16.2 MB/s eta 0:00:01\r\u001b[K     |██████████████████████████▊     | 1.0 MB 16.2 MB/s eta 0:00:01\r\u001b[K     |███████████████████████████     | 1.0 MB 16.2 MB/s eta 0:00:01\r\u001b[K     |███████████████████████████▎    | 1.0 MB 16.2 MB/s eta 0:00:01\r\u001b[K     |███████████████████████████▌    | 1.0 MB 16.2 MB/s eta 0:00:01\r\u001b[K     |███████████████████████████▉    | 1.1 MB 16.2 MB/s eta 0:00:01\r\u001b[K     |████████████████████████████    | 1.1 MB 16.2 MB/s eta 0:00:01\r\u001b[K     |████████████████████████████▍   | 1.1 MB 16.2 MB/s eta 0:00:01\r\u001b[K     |████████████████████████████▋   | 1.1 MB 16.2 MB/s eta 0:00:01\r\u001b[K     |████████████████████████████▉   | 1.1 MB 16.2 MB/s eta 0:00:01\r\u001b[K     |█████████████████████████████▏  | 1.1 MB 16.2 MB/s eta 0:00:01\r\u001b[K     |█████████████████████████████▍  | 1.1 MB 16.2 MB/s eta 0:00:01\r\u001b[K     |█████████████████████████████▊  | 1.1 MB 16.2 MB/s eta 0:00:01\r\u001b[K     |██████████████████████████████  | 1.1 MB 16.2 MB/s eta 0:00:01\r\u001b[K     |██████████████████████████████▎ | 1.1 MB 16.2 MB/s eta 0:00:01\r\u001b[K     |██████████████████████████████▌ | 1.2 MB 16.2 MB/s eta 0:00:01\r\u001b[K     |██████████████████████████████▊ | 1.2 MB 16.2 MB/s eta 0:00:01\r\u001b[K     |███████████████████████████████ | 1.2 MB 16.2 MB/s eta 0:00:01\r\u001b[K     |███████████████████████████████▎| 1.2 MB 16.2 MB/s eta 0:00:01\r\u001b[K     |███████████████████████████████▋| 1.2 MB 16.2 MB/s eta 0:00:01\r\u001b[K     |███████████████████████████████▉| 1.2 MB 16.2 MB/s eta 0:00:01\r\u001b[K     |████████████████████████████████| 1.2 MB 16.2 MB/s \n",
            "\u001b[?25hInstalling collected packages: sentencepiece\n",
            "Successfully installed sentencepiece-0.1.96\n"
          ]
        }
      ]
    },
    {
      "cell_type": "code",
      "metadata": {
        "colab": {
          "base_uri": "https://localhost:8080/"
        },
        "id": "ioPRQKyv6cCt",
        "outputId": "24168300-355a-4ee9-ead1-6523c5c83159"
      },
      "source": [
        "\n",
        "from google.colab import drive\n",
        "drive.mount('/content/drive')\n",
        "# data를 저장할 폴더 입니다. 환경에 맞게 수정 하세요.\n",
        "data_dir = \"/content/drive/My Drive/BERT_DATA\""
      ],
      "execution_count": 4,
      "outputs": [
        {
          "output_type": "stream",
          "name": "stdout",
          "text": [
            "Mounted at /content/drive\n"
          ]
        }
      ]
    },
    {
      "cell_type": "code",
      "metadata": {
        "id": "Aer5jwl96gHd"
      },
      "source": [
        "import os\n",
        "import gzip\n",
        "import pandas as pd\n",
        "import sentencepiece as spm\n",
        "import shutil"
      ],
      "execution_count": 5,
      "outputs": []
    },
    {
      "cell_type": "code",
      "metadata": {
        "colab": {
          "base_uri": "https://localhost:8080/"
        },
        "id": "ycg2RLz96n2h",
        "outputId": "69d26ab9-082f-46ec-f478-db8e873aad51"
      },
      "source": [
        "for f in os.listdir(data_dir):\n",
        "  print(f)"
      ],
      "execution_count": 7,
      "outputs": [
        {
          "output_type": "stream",
          "name": "stdout",
          "text": [
            "kowiki.vocab\n",
            "kowiki_t5.vocab\n",
            "ratings_test.txt\n",
            "kowiki.model\n",
            "kowiki_t5.model\n",
            "ratings_test.json\n",
            "ratings_test_t5.json\n",
            "ratings_train_t5.json\n",
            "ratings_train.txt\n",
            "ratings_train.json\n",
            "save_gpt_pretrain.pth\n",
            "save_t5_pretrain.pth\n",
            "save_bert_pretrain.pth\n",
            "kowiki.csv.gz\n",
            "kowiki_bert_2.json\n",
            "kowiki_bert_3.json\n",
            "kowiki_bert_4.json\n",
            "kowiki_bert_5.json\n",
            "kowiki_bert_6.json\n",
            "kowiki_bert_7.json\n",
            "kowiki_bert_8.json\n",
            "kowiki_bert_9.json\n"
          ]
        }
      ]
    },
    {
      "cell_type": "code",
      "metadata": {
        "colab": {
          "base_uri": "https://localhost:8080/",
          "height": 34
        },
        "id": "QMAM36Th6pGA",
        "outputId": "9feaca91-5d69-4ec3-f6fd-edf12dda2a56"
      },
      "source": [
        "in_file = f\"{data_dir}/kowiki.csv.gz\"\n",
        "out_file = f\"{data_dir}/kowiki.txt\"\n",
        "SEPARATOR = u\"\\u241D\"\n",
        "\n",
        "if not os.path.isfile(out_file):\n",
        "    df = pd.read_csv(in_file, sep=SEPARATOR, engine=\"python\", compression='gzip')\n",
        "    with open(out_file, \"w\") as f:\n",
        "      for index, row in df.iterrows():\n",
        "        f.write(row[\"text\"]) # title 과 text를 중복 되므로 text만 저장 함\n",
        "        f.write(\"\\n\\n\\n\\n\") # 구분자\n",
        "\n",
        "shutil.copy(out_file, \"kowiki.txt\")"
      ],
      "execution_count": 8,
      "outputs": [
        {
          "output_type": "execute_result",
          "data": {
            "application/vnd.google.colaboratory.intrinsic+json": {
              "type": "string"
            },
            "text/plain": [
              "'kowiki.txt'"
            ]
          },
          "metadata": {},
          "execution_count": 8
        }
      ]
    },
    {
      "cell_type": "code",
      "metadata": {
        "colab": {
          "base_uri": "https://localhost:8080/",
          "height": 141
        },
        "id": "KE4-Pm8p63_2",
        "outputId": "108f7890-aed6-4652-b19f-82799c438bf6"
      },
      "source": [
        "corpus = \"kowiki.txt\"\n",
        "prefix = \"kowiki\"\n",
        "vocab_size = 8000\n",
        "spm.SentencePieceTrainer.train(\n",
        "    f\"--input={corpus} --model_prefix={prefix} --vocab_size={vocab_size + 7}\" + \n",
        "    \" --model_type=bpe\" +\n",
        "    \" --max_sentence_length=999999\" + # 문장 최대 길이\n",
        "    \" --pad_id=0 --pad_piece=[PAD]\" + # pad (0)\n",
        "    \" --unk_id=1 --unk_piece=[UNK]\" + # unknown (1)\n",
        "    \" --bos_id=2 --bos_piece=[BOS]\" + # begin of sequence (2)\n",
        "    \" --eos_id=3 --eos_piece=[EOS]\" + # end of sequence (3)\n",
        "    \" --user_defined_symbols=[SEP],[CLS],[MASK]\") # 기타 추가 토큰\n",
        "\n",
        "for f in os.listdir(\".\"):\n",
        "  print(f)\n",
        "shutil.copy(\"kowiki.model\", f\"{data_dir}/kowiki.model\")\n",
        "shutil.copy(\"kowiki.vocab\", f\"{data_dir}/kowiki.vocab\")"
      ],
      "execution_count": 9,
      "outputs": [
        {
          "output_type": "stream",
          "name": "stdout",
          "text": [
            ".config\n",
            "kowiki.model\n",
            "kowiki.txt\n",
            "kowiki.vocab\n",
            "drive\n",
            "sample_data\n"
          ]
        },
        {
          "output_type": "execute_result",
          "data": {
            "application/vnd.google.colaboratory.intrinsic+json": {
              "type": "string"
            },
            "text/plain": [
              "'/content/drive/My Drive/BERT_DATA/kowiki.vocab'"
            ]
          },
          "metadata": {},
          "execution_count": 9
        }
      ]
    },
    {
      "cell_type": "code",
      "metadata": {
        "colab": {
          "base_uri": "https://localhost:8080/"
        },
        "id": "mhsQGBS666Hy",
        "outputId": "630cbefc-2278-4920-c00b-d88aa96d549d"
      },
      "source": [
        "vocab_file = f\"{data_dir}/kowiki.model\"\n",
        "vocab = spm.SentencePieceProcessor()\n",
        "vocab.load(vocab_file)\n",
        "\n",
        "lines = [\n",
        "  \"겨울이 되어서 날씨가 무척 추워요.\",\n",
        "  \"이번 성탄절은 화이트 크리스마스가 될까요?\",\n",
        "  \"겨울에 감기 조심하시고 행복한 연말 되세요.\"\n",
        "]\n",
        "for line in lines:\n",
        "  pieces = vocab.encode_as_pieces(line)\n",
        "  ids = vocab.encode_as_ids(line)\n",
        "  print(line)\n",
        "  print(pieces)\n",
        "  print(ids)\n",
        "  print()"
      ],
      "execution_count": 10,
      "outputs": [
        {
          "output_type": "stream",
          "name": "stdout",
          "text": [
            "겨울이 되어서 날씨가 무척 추워요.\n",
            "['▁겨울', '이', '▁되어', '서', '▁날', '씨', '가', '▁무', '척', '▁추', '워', '요', '.']\n",
            "[3091, 3588, 601, 3602, 683, 4014, 3599, 108, 4193, 206, 3958, 3760, 3590]\n",
            "\n",
            "이번 성탄절은 화이트 크리스마스가 될까요?\n",
            "['▁이번', '▁성', '탄', '절', '은', '▁화', '이트', '▁크리스', '마', '스가', '▁될', '까', '요', '?']\n",
            "[3224, 86, 3967, 3923, 3604, 264, 669, 1970, 3664, 780, 1450, 3794, 3760, 4245]\n",
            "\n",
            "겨울에 감기 조심하시고 행복한 연말 되세요.\n",
            "['▁겨울', '에', '▁감', '기', '▁조', '심', '하', '시', '고', '▁행', '복', '한', '▁연', '말', '▁되', '세', '요', '.']\n",
            "[3091, 3591, 212, 3605, 53, 3832, 3596, 3613, 3600, 234, 3871, 3603, 61, 3823, 445, 3682, 3760, 3590]\n",
            "\n"
          ]
        }
      ]
    },
    {
      "cell_type": "code",
      "metadata": {
        "id": "bpMov80G67fE"
      },
      "source": [
        ""
      ],
      "execution_count": null,
      "outputs": []
    }
  ]
}
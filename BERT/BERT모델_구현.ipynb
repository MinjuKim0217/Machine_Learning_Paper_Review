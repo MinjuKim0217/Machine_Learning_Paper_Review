{
  "nbformat": 4,
  "nbformat_minor": 0,
  "metadata": {
    "colab": {
      "name": "BERT모델 구현.ipynb",
      "provenance": [],
      "collapsed_sections": []
    },
    "kernelspec": {
      "name": "python3",
      "display_name": "Python 3"
    },
    "language_info": {
      "name": "python"
    },
    "widgets": {
      "application/vnd.jupyter.widget-state+json": {
        "250832f1e0254aabb502ed7caa0cecbb": {
          "model_module": "@jupyter-widgets/controls",
          "model_name": "HBoxModel",
          "model_module_version": "1.5.0",
          "state": {
            "_view_name": "HBoxView",
            "_dom_classes": [],
            "_model_name": "HBoxModel",
            "_view_module": "@jupyter-widgets/controls",
            "_model_module_version": "1.5.0",
            "_view_count": null,
            "_view_module_version": "1.5.0",
            "box_style": "",
            "layout": "IPY_MODEL_46e97d0db0c847289ae5819071050699",
            "_model_module": "@jupyter-widgets/controls",
            "children": [
              "IPY_MODEL_c22be067b6d84f69afe5a54f303e6081",
              "IPY_MODEL_51d8fa56b7c54ff58bfd1838a4a9bc7e",
              "IPY_MODEL_a0107317f7574ade898d60e6947fd41b"
            ]
          }
        },
        "46e97d0db0c847289ae5819071050699": {
          "model_module": "@jupyter-widgets/base",
          "model_name": "LayoutModel",
          "model_module_version": "1.2.0",
          "state": {
            "_view_name": "LayoutView",
            "grid_template_rows": null,
            "right": null,
            "justify_content": null,
            "_view_module": "@jupyter-widgets/base",
            "overflow": null,
            "_model_module_version": "1.2.0",
            "_view_count": null,
            "flex_flow": null,
            "width": null,
            "min_width": null,
            "border": null,
            "align_items": null,
            "bottom": null,
            "_model_module": "@jupyter-widgets/base",
            "top": null,
            "grid_column": null,
            "overflow_y": null,
            "overflow_x": null,
            "grid_auto_flow": null,
            "grid_area": null,
            "grid_template_columns": null,
            "flex": null,
            "_model_name": "LayoutModel",
            "justify_items": null,
            "grid_row": null,
            "max_height": null,
            "align_content": null,
            "visibility": null,
            "align_self": null,
            "height": null,
            "min_height": null,
            "padding": null,
            "grid_auto_rows": null,
            "grid_gap": null,
            "max_width": null,
            "order": null,
            "_view_module_version": "1.2.0",
            "grid_template_areas": null,
            "object_position": null,
            "object_fit": null,
            "grid_auto_columns": null,
            "margin": null,
            "display": null,
            "left": null
          }
        },
        "c22be067b6d84f69afe5a54f303e6081": {
          "model_module": "@jupyter-widgets/controls",
          "model_name": "HTMLModel",
          "model_module_version": "1.5.0",
          "state": {
            "_view_name": "HTMLView",
            "style": "IPY_MODEL_af01cd1a5ace4b5999aed91a5f7bd257",
            "_dom_classes": [],
            "description": "",
            "_model_name": "HTMLModel",
            "placeholder": "​",
            "_view_module": "@jupyter-widgets/controls",
            "_model_module_version": "1.5.0",
            "value": "Loading: ",
            "_view_count": null,
            "_view_module_version": "1.5.0",
            "description_tooltip": null,
            "_model_module": "@jupyter-widgets/controls",
            "layout": "IPY_MODEL_2575733298fe46d0891ee27fc81c8822"
          }
        },
        "51d8fa56b7c54ff58bfd1838a4a9bc7e": {
          "model_module": "@jupyter-widgets/controls",
          "model_name": "FloatProgressModel",
          "model_module_version": "1.5.0",
          "state": {
            "_view_name": "ProgressView",
            "style": "IPY_MODEL_bf8a716ccb5047f798b7d98c7c502efd",
            "_dom_classes": [],
            "description": "",
            "_model_name": "FloatProgressModel",
            "bar_style": "success",
            "max": 1,
            "_view_module": "@jupyter-widgets/controls",
            "_model_module_version": "1.5.0",
            "value": 0,
            "_view_count": null,
            "_view_module_version": "1.5.0",
            "orientation": "horizontal",
            "min": 0,
            "description_tooltip": null,
            "_model_module": "@jupyter-widgets/controls",
            "layout": "IPY_MODEL_0d86e46545f84591a63083f5cda130a2"
          }
        },
        "a0107317f7574ade898d60e6947fd41b": {
          "model_module": "@jupyter-widgets/controls",
          "model_name": "HTMLModel",
          "model_module_version": "1.5.0",
          "state": {
            "_view_name": "HTMLView",
            "style": "IPY_MODEL_f2d8dfe5a8ce4d2c9fd855a73aca0622",
            "_dom_classes": [],
            "description": "",
            "_model_name": "HTMLModel",
            "placeholder": "​",
            "_view_module": "@jupyter-widgets/controls",
            "_model_module_version": "1.5.0",
            "value": " 0/0 [00:00&lt;?, ?it/s]",
            "_view_count": null,
            "_view_module_version": "1.5.0",
            "description_tooltip": null,
            "_model_module": "@jupyter-widgets/controls",
            "layout": "IPY_MODEL_8145eb4b8b674b6195b5205b526d9777"
          }
        },
        "af01cd1a5ace4b5999aed91a5f7bd257": {
          "model_module": "@jupyter-widgets/controls",
          "model_name": "DescriptionStyleModel",
          "model_module_version": "1.5.0",
          "state": {
            "_view_name": "StyleView",
            "_model_name": "DescriptionStyleModel",
            "description_width": "",
            "_view_module": "@jupyter-widgets/base",
            "_model_module_version": "1.5.0",
            "_view_count": null,
            "_view_module_version": "1.2.0",
            "_model_module": "@jupyter-widgets/controls"
          }
        },
        "2575733298fe46d0891ee27fc81c8822": {
          "model_module": "@jupyter-widgets/base",
          "model_name": "LayoutModel",
          "model_module_version": "1.2.0",
          "state": {
            "_view_name": "LayoutView",
            "grid_template_rows": null,
            "right": null,
            "justify_content": null,
            "_view_module": "@jupyter-widgets/base",
            "overflow": null,
            "_model_module_version": "1.2.0",
            "_view_count": null,
            "flex_flow": null,
            "width": null,
            "min_width": null,
            "border": null,
            "align_items": null,
            "bottom": null,
            "_model_module": "@jupyter-widgets/base",
            "top": null,
            "grid_column": null,
            "overflow_y": null,
            "overflow_x": null,
            "grid_auto_flow": null,
            "grid_area": null,
            "grid_template_columns": null,
            "flex": null,
            "_model_name": "LayoutModel",
            "justify_items": null,
            "grid_row": null,
            "max_height": null,
            "align_content": null,
            "visibility": null,
            "align_self": null,
            "height": null,
            "min_height": null,
            "padding": null,
            "grid_auto_rows": null,
            "grid_gap": null,
            "max_width": null,
            "order": null,
            "_view_module_version": "1.2.0",
            "grid_template_areas": null,
            "object_position": null,
            "object_fit": null,
            "grid_auto_columns": null,
            "margin": null,
            "display": null,
            "left": null
          }
        },
        "bf8a716ccb5047f798b7d98c7c502efd": {
          "model_module": "@jupyter-widgets/controls",
          "model_name": "ProgressStyleModel",
          "model_module_version": "1.5.0",
          "state": {
            "_view_name": "StyleView",
            "_model_name": "ProgressStyleModel",
            "description_width": "",
            "_view_module": "@jupyter-widgets/base",
            "_model_module_version": "1.5.0",
            "_view_count": null,
            "_view_module_version": "1.2.0",
            "bar_color": null,
            "_model_module": "@jupyter-widgets/controls"
          }
        },
        "0d86e46545f84591a63083f5cda130a2": {
          "model_module": "@jupyter-widgets/base",
          "model_name": "LayoutModel",
          "model_module_version": "1.2.0",
          "state": {
            "_view_name": "LayoutView",
            "grid_template_rows": null,
            "right": null,
            "justify_content": null,
            "_view_module": "@jupyter-widgets/base",
            "overflow": null,
            "_model_module_version": "1.2.0",
            "_view_count": null,
            "flex_flow": null,
            "width": "20px",
            "min_width": null,
            "border": null,
            "align_items": null,
            "bottom": null,
            "_model_module": "@jupyter-widgets/base",
            "top": null,
            "grid_column": null,
            "overflow_y": null,
            "overflow_x": null,
            "grid_auto_flow": null,
            "grid_area": null,
            "grid_template_columns": null,
            "flex": null,
            "_model_name": "LayoutModel",
            "justify_items": null,
            "grid_row": null,
            "max_height": null,
            "align_content": null,
            "visibility": null,
            "align_self": null,
            "height": null,
            "min_height": null,
            "padding": null,
            "grid_auto_rows": null,
            "grid_gap": null,
            "max_width": null,
            "order": null,
            "_view_module_version": "1.2.0",
            "grid_template_areas": null,
            "object_position": null,
            "object_fit": null,
            "grid_auto_columns": null,
            "margin": null,
            "display": null,
            "left": null
          }
        },
        "f2d8dfe5a8ce4d2c9fd855a73aca0622": {
          "model_module": "@jupyter-widgets/controls",
          "model_name": "DescriptionStyleModel",
          "model_module_version": "1.5.0",
          "state": {
            "_view_name": "StyleView",
            "_model_name": "DescriptionStyleModel",
            "description_width": "",
            "_view_module": "@jupyter-widgets/base",
            "_model_module_version": "1.5.0",
            "_view_count": null,
            "_view_module_version": "1.2.0",
            "_model_module": "@jupyter-widgets/controls"
          }
        },
        "8145eb4b8b674b6195b5205b526d9777": {
          "model_module": "@jupyter-widgets/base",
          "model_name": "LayoutModel",
          "model_module_version": "1.2.0",
          "state": {
            "_view_name": "LayoutView",
            "grid_template_rows": null,
            "right": null,
            "justify_content": null,
            "_view_module": "@jupyter-widgets/base",
            "overflow": null,
            "_model_module_version": "1.2.0",
            "_view_count": null,
            "flex_flow": null,
            "width": null,
            "min_width": null,
            "border": null,
            "align_items": null,
            "bottom": null,
            "_model_module": "@jupyter-widgets/base",
            "top": null,
            "grid_column": null,
            "overflow_y": null,
            "overflow_x": null,
            "grid_auto_flow": null,
            "grid_area": null,
            "grid_template_columns": null,
            "flex": null,
            "_model_name": "LayoutModel",
            "justify_items": null,
            "grid_row": null,
            "max_height": null,
            "align_content": null,
            "visibility": null,
            "align_self": null,
            "height": null,
            "min_height": null,
            "padding": null,
            "grid_auto_rows": null,
            "grid_gap": null,
            "max_width": null,
            "order": null,
            "_view_module_version": "1.2.0",
            "grid_template_areas": null,
            "object_position": null,
            "object_fit": null,
            "grid_auto_columns": null,
            "margin": null,
            "display": null,
            "left": null
          }
        }
      }
    }
  },
  "cells": [
    {
      "cell_type": "code",
      "metadata": {
        "colab": {
          "base_uri": "https://localhost:8080/"
        },
        "id": "xL8QUiZl-Gb-",
        "outputId": "d2cc65d7-b71f-4ddb-bb58-6d3222476fa7"
      },
      "source": [
        "!pip install sentencepiece\n",
        "!pip install wget"
      ],
      "execution_count": 12,
      "outputs": [
        {
          "output_type": "stream",
          "name": "stdout",
          "text": [
            "Requirement already satisfied: sentencepiece in /usr/local/lib/python3.7/dist-packages (0.1.96)\n",
            "Requirement already satisfied: wget in /usr/local/lib/python3.7/dist-packages (3.2)\n"
          ]
        }
      ]
    },
    {
      "cell_type": "code",
      "metadata": {
        "colab": {
          "base_uri": "https://localhost:8080/"
        },
        "id": "k0_O6rzz-H-M",
        "outputId": "e18de20e-1da8-49ed-beec-10c614043df6"
      },
      "source": [
        "from google.colab import drive\n",
        "drive.mount('/content/drive')\n",
        "# data를 저장할 폴더 입니다. 환경에 맞게 수정 하세요.\n",
        "data_dir = \"/content/drive/My Drive/BERT_DATA\""
      ],
      "execution_count": 13,
      "outputs": [
        {
          "output_type": "stream",
          "name": "stdout",
          "text": [
            "Drive already mounted at /content/drive; to attempt to forcibly remount, call drive.mount(\"/content/drive\", force_remount=True).\n"
          ]
        }
      ]
    },
    {
      "cell_type": "code",
      "metadata": {
        "id": "BZqb7Ac3-Q8p"
      },
      "source": [
        "import os\n",
        "import numpy as np\n",
        "import math\n",
        "from random import random, randrange, randint, shuffle, choice\n",
        "import matplotlib.pyplot as plt\n",
        "import json\n",
        "import pandas as pd\n",
        "from IPython.display import display\n",
        "from tqdm import tqdm, tqdm_notebook, trange\n",
        "import sentencepiece as spm\n",
        "import wget\n",
        "\n",
        "import torch\n",
        "import torch.nn as nn\n",
        "import torch.nn.functional as F"
      ],
      "execution_count": 14,
      "outputs": []
    },
    {
      "cell_type": "code",
      "metadata": {
        "colab": {
          "base_uri": "https://localhost:8080/"
        },
        "id": "zGDcDs8a-Y0H",
        "outputId": "795879ea-c48d-48bf-f6a6-6f2f4bec6bfa"
      },
      "source": [
        "for f in os.listdir(data_dir):\n",
        "  print(f)"
      ],
      "execution_count": 15,
      "outputs": [
        {
          "output_type": "stream",
          "name": "stdout",
          "text": [
            "kowiki.vocab\n",
            "kowiki_t5.vocab\n",
            "ratings_test.txt\n",
            "kowiki.model\n",
            "kowiki_t5.model\n",
            "ratings_test.json\n",
            "ratings_test_t5.json\n",
            "ratings_train_t5.json\n",
            "ratings_train.txt\n",
            "ratings_train.json\n",
            "save_gpt_pretrain.pth\n",
            "save_t5_pretrain.pth\n",
            "save_bert_pretrain.pth\n",
            "kowiki.csv.gz\n"
          ]
        }
      ]
    },
    {
      "cell_type": "code",
      "metadata": {
        "colab": {
          "base_uri": "https://localhost:8080/"
        },
        "id": "ISzKcKdY-aT7",
        "outputId": "306ed0bd-8e68-450e-eca1-b18b083d95ed"
      },
      "source": [
        "# vocab loading\n",
        "vocab_file = f\"{data_dir}/kowiki.model\"\n",
        "vocab = spm.SentencePieceProcessor()\n",
        "vocab.load(vocab_file)"
      ],
      "execution_count": 16,
      "outputs": [
        {
          "output_type": "execute_result",
          "data": {
            "text/plain": [
              "True"
            ]
          },
          "metadata": {},
          "execution_count": 16
        }
      ]
    },
    {
      "cell_type": "markdown",
      "metadata": {
        "id": "d8qLnEVw-10X"
      },
      "source": [
        "### config 설정하기\n",
        "\n",
        "BERT는 Encoder만 사용하므로 항목 중 Decoder 부분은 제거 했습니다.\n",
        "BERT Encoder는 기본 입력에 추가로 Segment 정보를 입력 받는데 Segment개수를 정의하는 n_seg_type을 추가로 정의 했습니다."
      ]
    },
    {
      "cell_type": "code",
      "metadata": {
        "id": "uhPT8HAI-tEK"
      },
      "source": [
        "\"\"\" configuration json을 읽어들이는 class \"\"\"\n",
        "class Config(dict): \n",
        "    __getattr__ = dict.__getitem__\n",
        "    __setattr__ = dict.__setitem__\n",
        "\n",
        "    @classmethod\n",
        "    def load(cls, file):\n",
        "        with open(file, 'r') as f:\n",
        "            config = json.loads(f.read())\n",
        "            return Config(config)"
      ],
      "execution_count": 17,
      "outputs": []
    },
    {
      "cell_type": "code",
      "metadata": {
        "colab": {
          "base_uri": "https://localhost:8080/"
        },
        "id": "HHM0J5kt-7bI",
        "outputId": "85b26942-95fd-4f67-9bbc-6e4922196d03"
      },
      "source": [
        "config = Config({\n",
        "    \"n_enc_vocab\": len(vocab),\n",
        "    \"n_enc_seq\": 256,\n",
        "    \"n_seg_type\": 2,\n",
        "    \"n_layer\": 6,\n",
        "    \"d_hidn\": 256,\n",
        "    \"i_pad\": 0,\n",
        "    \"d_ff\": 1024,\n",
        "    \"n_head\": 4,\n",
        "    \"d_head\": 64,\n",
        "    \"dropout\": 0.1,\n",
        "    \"layer_norm_epsilon\": 1e-12\n",
        "})\n",
        "print(config)"
      ],
      "execution_count": 18,
      "outputs": [
        {
          "output_type": "stream",
          "name": "stdout",
          "text": [
            "{'n_enc_vocab': 8007, 'n_enc_seq': 256, 'n_seg_type': 2, 'n_layer': 6, 'd_hidn': 256, 'i_pad': 0, 'd_ff': 1024, 'n_head': 4, 'd_head': 64, 'dropout': 0.1, 'layer_norm_epsilon': 1e-12}\n"
          ]
        }
      ]
    },
    {
      "cell_type": "markdown",
      "metadata": {
        "id": "rDMPdb8j_G3P"
      },
      "source": [
        "### Common Class\n",
        "\n",
        "공통으로 사용되는 Class 및 함수"
      ]
    },
    {
      "cell_type": "code",
      "metadata": {
        "id": "H_Yth38I-9Qh"
      },
      "source": [
        "# sigusoid position encoding\n",
        "\n",
        "def get_sigusoid_encoding_table(n_seq, d_hidn):\n",
        "  def cal_angle(position, i_hidn):\n",
        "    return position/np.power(10000, 2*(i_hidn//2)/d_hidn)\n",
        "  def get_posi_angle_vec(position):\n",
        "    return [cal_angle(position, i_hidn) for i_hidn in range(d_hidn)]\n",
        "\n",
        "  sinusoid_table=np.array([get_posi_angle_vec(i_seq) for i_seq in range (n_seq)])\n",
        "  sinusoid_table[:,0::2]=np.sin(sinusoid_table[:,0::2]) #even index sin\n",
        "  sinusoid_table[:,1::2]=np.cos(sinusoid_table[:,1::2]) #odd index cas\n",
        "\n",
        "  return sinusoid_table\n",
        "\n",
        "  \"\"\" attention pad mask \"\"\"\n",
        "def get_attn_pad_mask(seq_q, seq_k, i_pad):\n",
        "    batch_size, len_q = seq_q.size()\n",
        "    batch_size, len_k = seq_k.size()\n",
        "    pad_attn_mask = seq_k.data.eq(i_pad).unsqueeze(1).expand(batch_size, len_q, len_k)  # <pad>\n",
        "    return pad_attn_mask\n",
        "\n",
        "\n",
        "\"\"\" attention decoder mask \"\"\"\n",
        "def get_attn_decoder_mask(seq):\n",
        "    subsequent_mask = torch.ones_like(seq).unsqueeze(-1).expand(seq.size(0), seq.size(1), seq.size(1))\n",
        "    subsequent_mask = subsequent_mask.triu(diagonal=1) # upper triangular part of a matrix(2-D)\n",
        "    return subsequent_mask\n",
        "\n",
        "# scale dot product attention \n",
        "class ScaledDotProductAttention(nn.Module):\n",
        "    def __init__(self, config):\n",
        "        super().__init__()\n",
        "        self.config = config\n",
        "        self.dropout = nn.Dropout(config.dropout)\n",
        "        self.scale = 1 / (self.config.d_head ** 0.5)\n",
        "    \n",
        "    def forward(self, Q, K, V, attn_mask):\n",
        "        # (bs, n_head, n_q_seq, n_k_seq)\n",
        "        scores = torch.matmul(Q, K.transpose(-1, -2)).mul_(self.scale)\n",
        "        scores.masked_fill_(attn_mask, -1e9)\n",
        "        # (bs, n_head, n_q_seq, n_k_seq)\n",
        "        attn_prob = nn.Softmax(dim=-1)(scores)\n",
        "        attn_prob = self.dropout(attn_prob)\n",
        "        # (bs, n_head, n_q_seq, d_v)\n",
        "        context = torch.matmul(attn_prob, V)\n",
        "        # (bs, n_head, n_q_seq, d_v), (bs, n_head, n_q_seq, n_v_seq)\n",
        "        return context, attn_prob\n",
        "\"\"\" multi head attention \"\"\"\n",
        "class MultiHeadAttention(nn.Module):\n",
        "    def __init__(self, config):\n",
        "        super().__init__()\n",
        "        self.config = config\n",
        "\n",
        "        self.W_Q = nn.Linear(self.config.d_hidn, self.config.n_head * self.config.d_head)\n",
        "        self.W_K = nn.Linear(self.config.d_hidn, self.config.n_head * self.config.d_head)\n",
        "        self.W_V = nn.Linear(self.config.d_hidn, self.config.n_head * self.config.d_head)\n",
        "        self.scaled_dot_attn = ScaledDotProductAttention(self.config)\n",
        "        self.linear = nn.Linear(self.config.n_head * self.config.d_head, self.config.d_hidn)\n",
        "        self.dropout = nn.Dropout(config.dropout)\n",
        "    \n",
        "    def forward(self, Q, K, V, attn_mask):\n",
        "        batch_size = Q.size(0)\n",
        "        # (bs, n_head, n_q_seq, d_head)\n",
        "        q_s = self.W_Q(Q).view(batch_size, -1, self.config.n_head, self.config.d_head).transpose(1,2)\n",
        "        # (bs, n_head, n_k_seq, d_head)\n",
        "        k_s = self.W_K(K).view(batch_size, -1, self.config.n_head, self.config.d_head).transpose(1,2)\n",
        "        # (bs, n_head, n_v_seq, d_head)\n",
        "        v_s = self.W_V(V).view(batch_size, -1, self.config.n_head, self.config.d_head).transpose(1,2)\n",
        "\n",
        "        # (bs, n_head, n_q_seq, n_k_seq)\n",
        "        attn_mask = attn_mask.unsqueeze(1).repeat(1, self.config.n_head, 1, 1)\n",
        "    # (bs, n_head, n_q_seq, d_head), (bs, n_head, n_q_seq, n_k_seq)\n",
        "        context, attn_prob = self.scaled_dot_attn(q_s, k_s, v_s, attn_mask)\n",
        "        # (bs, n_head, n_q_seq, h_head * d_head)\n",
        "        context = context.transpose(1, 2).contiguous().view(batch_size, -1, self.config.n_head * self.config.d_head)\n",
        "        # (bs, n_head, n_q_seq, e_embd)\n",
        "        output = self.linear(context)\n",
        "        output = self.dropout(output)\n",
        "        # (bs, n_q_seq, d_hidn), (bs, n_head, n_q_seq, n_k_seq)\n",
        "        return output, attn_prob\n",
        "\n",
        "\n",
        "\"\"\" feed forward \"\"\"\n",
        "class PoswiseFeedForwardNet(nn.Module):\n",
        "    def __init__(self, config):\n",
        "        super().__init__()\n",
        "        self.config = config\n",
        "\n",
        "        self.conv1 = nn.Conv1d(in_channels=self.config.d_hidn, out_channels=self.config.d_ff, kernel_size=1)\n",
        "        self.conv2 = nn.Conv1d(in_channels=self.config.d_ff, out_channels=self.config.d_hidn, kernel_size=1)\n",
        "        self.active = F.gelu\n",
        "        self.dropout = nn.Dropout(config.dropout)\n",
        "\n",
        "    def forward(self, inputs):\n",
        "        # (bs, d_ff, n_seq)\n",
        "        output = self.active(self.conv1(inputs.transpose(1, 2)))\n",
        "        # (bs, n_seq, d_hidn)\n",
        "        output = self.conv2(output).transpose(1, 2)\n",
        "        output = self.dropout(output)\n",
        "        # (bs, n_seq, d_hidn)\n",
        "        return output"
      ],
      "execution_count": 19,
      "outputs": []
    },
    {
      "cell_type": "markdown",
      "metadata": {
        "id": "AJ2_dzXCBkPd"
      },
      "source": [
        "### Encoder\n",
        "\n",
        "표준 transformer Encoder 에서 BERT에서 추가된 정의한 segment embedding만 추가"
      ]
    },
    {
      "cell_type": "code",
      "metadata": {
        "id": "0ziZBM_TAMQ6"
      },
      "source": [
        "# 표준 Transformer EncoderLayer와 동일하다\n",
        "class EncoderLayer(nn.Module):\n",
        "  def __init__(self, config):\n",
        "    super().__init__()\n",
        "    self.config=config\n",
        "\n",
        "    self.self_attn=MultiHeadAttention(self.config)\n",
        "    self.layer_norm1=nn.LayerNorm(self.config_hidn, eps=self.config.layer_norm_epsilon)\n",
        "    self.pos_ffn=PoswiseFeedForwardNet(self.config)\n",
        "    self.layer_norm2=nn.LayerNorm(self.config.d_hidn, eps=self.config.layer_norm_epsilon)\n",
        "\n",
        "\n",
        "  def forward(self, inputs, attn_mask):\n",
        "    attn_outputs, attn_prob=self.self_attn(inputs, inputs, inputs, attn_mask)\n",
        "    attn_outputs=self.layer_norm1(inputs+attn_outputs)\n",
        "    ffn_outputs=self.pos_ffn(attn_outputs)\n",
        "    ffn_outputs=self.layer_norm2(ffn_outputs+attn_outputs)\n",
        "\n",
        "    return ffn_outputs, attn_prob"
      ],
      "execution_count": 20,
      "outputs": []
    },
    {
      "cell_type": "code",
      "metadata": {
        "id": "zhvHILQQCt2r"
      },
      "source": [
        "## encoder\n",
        "class Encoder(nn.Module):\n",
        "  def __init__(self, config):\n",
        "    super().__init__()\n",
        "    self.config=config\n",
        "    self.enc_emb=nn.Embedding(self.config.n_enc_vocab, self.config.d_hidn)\n",
        "    self.pos_emb=nn.Embedding(self.config.n_enc_seq+1, self.config.d_hidn)\n",
        "    self.seg_emb=nn.Embedding(self.config.n_seg_type, self.config.d_hidn)\n",
        "    self.layers=nn.ModuleList([EncoderLayer(self.config) for _ in range(self.config.n_layer)])\n",
        "\n",
        "  def forward(self, inputs, segments):\n",
        "    positions=torch.arrange(intput.size(1), device=inputs.device, dtype=inputs.dtype).expand(inputs.size(0), inputs.size(1)).contiguous()+1\n",
        "    pos_mask=inputs.eq(self.config.i_pad)\n",
        "    positions.masked_fill_(pos_mask,0)\n",
        "\n",
        "    ouputs=self.enc_emb(inputs)+self.pos_emb(positions)+self.seg_emb(segments)\n",
        "    attn_mask=get_attn_pad_mask(inputs, inputs, self.config.i_pad)\n",
        "    attn_probs=[]\n",
        "\n",
        "    for layer in self.layers:\n",
        "      outputs, attn_prob=layer(outputs, attn_mask)\n",
        "      attn_probs.append(attn_prob)\n",
        "\n",
        "    return outputs, attn_probs"
      ],
      "execution_count": 21,
      "outputs": []
    },
    {
      "cell_type": "markdown",
      "metadata": {
        "id": "drMNHmfH8FEp"
      },
      "source": [
        "### BERT \n",
        "\n",
        "Transformer Encoder를 실행 합니다.\n",
        "이후 첫번째 토큰을 linear, tahn를 실행 합니다.\n",
        "\n",
        "\n",
        "BERT는 Transformer Encoder를 실행합니다. (줄: 14)\n",
        "\n",
        "1번의 결과(outputs)의 첫 번째([CLS]) Token을 outputs_cls로 저장 합니다. (줄: 16)\n",
        "\n",
        "outputs_cls에 Linear 및 tanh를 실행합니다. (줄: 17, 18)\n",
        "\n",
        "Pretrain된 모델을 저장하기위한 save 함수 입니다. (줄: 22 ~ 27)\n",
        "\n",
        "Pretrain된 모델을 읽기위한 load 함수 입니다. (줄: 29 ~ 32)"
      ]
    },
    {
      "cell_type": "code",
      "metadata": {
        "id": "BXv4aN66HS0z"
      },
      "source": [
        "\"\"\" bert \"\"\"\n",
        "class BERT(nn.Module):\n",
        "    def __init__(self, config):\n",
        "        super().__init__()\n",
        "        self.config = config\n",
        "\n",
        "        self.encoder = Encoder(self.config)\n",
        "\n",
        "        self.linear = nn.Linear(config.d_hidn, config.d_hidn)\n",
        "        self.activation = torch.tanh\n",
        "    \n",
        "    def forward(self, inputs, segments):\n",
        "        # (bs, n_seq, d_hidn), [(bs, n_head, n_enc_seq, n_enc_seq)]\n",
        "        outputs, self_attn_probs = self.encoder(inputs, segments)\n",
        "        # (bs, d_hidn)\n",
        "        outputs_cls = outputs[:, 0].contiguous()\n",
        "        outputs_cls = self.linear(outputs_cls)\n",
        "        outputs_cls = self.activation(outputs_cls)\n",
        "        # (bs, n_enc_seq, n_enc_vocab), (bs, d_hidn), [(bs, n_head, n_enc_seq, n_enc_seq)]\n",
        "        return outputs, outputs_cls, self_attn_probs\n",
        "    \n",
        "    def save(self, epoch, loss, path):\n",
        "        torch.save({\n",
        "            \"epoch\": epoch,\n",
        "            \"loss\": loss,\n",
        "            \"state_dict\": self.state_dict()\n",
        "        }, path)\n",
        "    \n",
        "    def load(self, path):\n",
        "        save = torch.load(path)\n",
        "        self.load_state_dict(save[\"state_dict\"])\n",
        "        return save[\"epoch\"], save[\"loss\"]"
      ],
      "execution_count": 22,
      "outputs": []
    },
    {
      "cell_type": "markdown",
      "metadata": {
        "id": "Sw2HD-Hf8Ugm"
      },
      "source": [
        "### BERT\n",
        "![image.png](data:image/png;base64,iVBORw0KGgoAAAANSUhEUgAABRwAAAFTCAYAAABbI8DbAAAgAElEQVR4AeydB/gUxcH/7dG8lteWqK/RJLZoYjRqTOwtMdG/MZaYGDuCii1i11goCmJX7AjYe0HBhoAoTaQK0gSkd5Dei/N/vquzzO7t3u3d7a/s3Wee555tUz8ztzPz3SnrrYeBAAQgAAEIQAACEIAABCAAAQhAAAIQgAAEIJAmgWbNmm1+8803b88PBpQBygBlgDJAGaAMUAYoA5QBygBlgDJAGaAMUAYoA5QBykA5ZcDTLZs2bfpY06ZNDT8YUAYoA5QBygBlgDJAGaAMUAYoA5QBygBlgDJAGaAMUAYoA+WUgYDg2LJlS3PPPffwgwFlgDJAGaAMUAYoA5QBygBlgDJAGaAMUAYoA5QBygBlgDJQdBm44447TEBw7N+/v8FAAAIQgAAEIAABCEAAAhCAAAQgAAEIQAACECiFwHvvvYfgWAo43EAAAhCAAAQgAAEIQAACEIAABCAAAQhAAAK5BBAcc5lwBwIQgAAEIAABCEAAAhCAAAQgAAEIQAACECiRAIJjieBwBgEIQAACEIAABCAAAQhAAAIQgAAEIAABCOQSQHDMZcIdCEAAAhCAAAQgAAEIQAACEIAABCAAAQhAoEQCCI4lgsMZBCAAAQhAAAIQgAAEIAABCEAAAhCAAAQgkEsAwTGXCXcgAAEIQAACEIAABCAAAQhAAAIQgAAEIACBEgkgOJYIDmcQgAAEIAABCEAAAhCAAAQgAAEIQAACEIBALgEEx1wm3IEABCAAAQhAAAIQgAAEIAABCEAAAhCAAARKJIDgWCI4nEEAAhCAAAQgAAEIQAACEIAABCAAAQhAAAK5BBAcc5lwBwIQgAAEIAABCEAAAhCAAAQgAAEIQAACECiRAIJjieBwBgEIQAACEIAABCAAAQhAAAIQgAAEIAABCOQSQHDMZcIdCEAAAhCAAAQgAAEIQAACEIAABCAAAQhAoEQCCI4lgsMZBCAAAQhAAAIQgAAEIAABCEAAAhCAAAQgkEsAwTGXCXcgAAEIQAACEIAABCAAAQhAAAIQgAAEIACBEgkgOJYIDmcQgAAEIAABCEAAAhCAAAQgAAEIQAACEIBALgEEx1wm3IEABCAAAQhAAAIQgAAEIAABCEAAAhCAAARKJIDgWCI4nEEAAhCAAAQgAAEIQAACEIAABCAAAQhAAAK5BBAcc5lwBwIQgAAEIAABCEAAAhCAAAQgAAEIQAACECiRAIJjieBwBgEIQAACEIAABCAAAQhAoNoIzJ8/38yePTtTv0WLFlVbNpFeCEAAAnVOAMGxzrOACEAAAhCoHAJZ7ITYThOdkcoph6QEAhCAAARqhsBjjz1m1ltvvcz9NtxwQ9O9e/eagYKvEIAABCAQSQDBMRILNyEAAQhAoFgCWe2E2I4TnZFicxz7EIAABCBQbQQuu+wyT2zcfPPNzfbbb5+J36abburFWe0UDAQgAAEI1B4BBMfaY01IEIAABCqaQBY7IbazRGekoosmiYMABCAAgZQI2Lo+S+JdFuOcUnbhDQQgAIE6JYDgWKf4CRwCEIBA5RDIcoM+y3GvnBJESiAAAQhAoL4TyGJ9mcU41/dyQPwgAAEIJCGA4JiEEnYgAAEIQKAggSw36LMc94IZgwUIQAACEIBASgSyWF9mMc4pZRfeQAACEKhTAgiOdYqfwCEAAQhUDoEsN+izHPfKKUGkBAIQgAAE6juBLNaXWYxzfS8HxA8CEIBAEgIIjkkoYQcCEIAABAoSyHKDPstxL5gxWIAABCAAAQikRCCL9WUW45xSduENBCAAgTolgOBYp/gJHAIQgEDlEMhygz7Lca+cEkRKIAABCECgvhPIYn2ZxTjX93JA/CAAAQgkIYDgmIQSdiAAAQhAoCCBLDfosxz3ghmDBQhAAAIQgEBKBLJYX2YxzillF95AAAIQqFMCCI51ip/AIQABCFQOgSw36LMc98opQaQEAhCAAATqO4Es1pdZjHN9LwfEDwIQgEASAgiOSShhBwIQgAAEChLIcoM+y3EvmDFYgAAEIAABCKREIIv1ZRbjnFJ24Q0EIACBOiWA4Fin+AkcAhCAQOUQyHKDPstxr5wSREogAAEIQKC+E8hifZnFONf3ckD8IAABCCQhgOCYhBJ2IAABCECgIIEsN+izHPeCGYMFCEAAAhCAQEoEslhfZjHOKWUX3kAAAhCoUwIIjnWKn8AhAAEIVA6BLDfosxz3yilBpAQCEIAABOo7gbTqy7Fjx5ovv/wy8jd8+HAzY8aM1FCkFefUIoRHEIAABKqEAIJjlWQ0yYQABCBQ0wSy3KDPctxrOl/xHwIQgAAEIGAJpFVf7rfffma99dbL+9t1113NNddcY1atWmWDL+mYVpxLChxHEIAABKqYAIJjFWc+SYcABCCQJoGabNCPGjXKHwWxZs2aNKPt+VWTcU89sngIAQhAAAIQqCMCadWXSQRHK0gee+yxZv78+SWnOK04lxwBHEIAAhCoUgIIjlWa8SQbAhCAQNoEaqpBP3PmTLPRRhv5oyA6duyYdtRNTcU99YjiIQQgAAEIQKAOCaRVX1rBceeddzb9+vXzf7179zYff/yxefzxx80uu+zi1/1NmjQpOdVpxbnkCOAQAhCAQJUSQHCs0own2RCAAATSJlBTDfp7773X73BotMPxxx+fdtQRHFMniocQgAAEIFCJBNKq663guNdee8Vimjt3rtlhhx28NsDuu+8ea6/Qg7TiXCgcnkMAAhCAQJAAgmOQB1cQgAAEIFAigZpq0O+9995eZ8OOclx//fXNuHHjSoxltLOaint0aNyFAAQgAAEIZJNAWvVlEsFRhM4++2z/o+Ps2bNLgpZWnEsKHEcQgAAEqpgAgmMVZz5JhwAEIJAmgZpo0Pft29fvaLRv395IbNQox+uvvz7NqDPCMVWaeAYBCEAAApVKIK26PqngqPUbVe//7Gc/KxlpWnEuOQI4hAAEIFClBBAcqzTjSTYEIACBtAnURIO+UaNGXkfjxz/+sVm+fLk56qijvOvtttvOrFixIrUk1ETcU4scHkEAAhCAAATqCYG06stCguN3331nnnjiCX8N58aNG5dMIK04lxwBHEIAAhCoUgIIjlWa8SQbAhCAQNoE0m7QL1myxGyxxRaewHjyySd70W3Xrp13rdEOL7zwQmpJSDvuqUUMjyAAAQhAAAL1iEBa9aUVHPVB8YwzzvB/p59+ujnxxBPNbrvt5tf3ul68eHHJFNKKc8kRwCEEIACBKiWA4FilGU+yIQABCKRNIO0G/TPPPON3Nt58800vugsXLjTqnEhwPOyww1JLQtpxTy1ieAQBCEAAAhCoRwTSqi+t4Kj6vNCve/fuZRFIK85lRQLHEIAABKqQAIJjFWY6SYYABCBQEwTSbtAfccQRXidkm222MStXrvSjfM455/idk2HDhvn3yzlJO+7lxAW3EIAABCAAgfpKIK360gqOP/rRj8xxxx3n/7Rm429+8xuz5ZZb+nW91m++9NJLzbJly0rCklacSwocRxCAAASqmACCYxVnPkmHAAQgkCaBNBv0Y8aM8TsaV1xxRSCa3bp185+pA5KGSTPuacQHPyAAAQhAAAL1kUBa9aUVHPfaa6/YZA4cONDssccefp3fqlWrWLv5HqQV53xh8AwCEIAABHIJIDjmMuEOBCAAAQiUQCDNBv1NN93kdzAGDBgQiI0Wkt91112951rjsZx1nazHacbd+skRAhCAAAQgUGkE0qovkwiOYjd27Fi/PbD33nuXhDOtOJcUOI4gAAEIVDEBBMcqznySDgEIQCBNAmk16NesWWN23HFHv4OhKdTh3w477OA/f/LJJ8tORlpxLzsieAABCEAAAhCoxwTSqi+TCo5Cscsuu3h1/qabbloSmbTiXFLgOIIABCBQxQQQHKs480k6BCAAgTQJpNWg79y5sy8mFlpIXs/VaSnXpBX3cuOBewhAAAIQgEB9JpBWfZlUcFy1apXZbLPNvHbBPvvsUxKatOJcUuA4ggAEIFDFBBAcqzjzSToEIACBNAmk1aA/9dRTvY6FFolv3LixufzyyyN/e+65py9M9u3bt6ykpBX3siKBYwhAAAIQgEA9J5BWfZlUcLzhhhv8ur5Ro0Yl0UkrziUFjiMIQAACVUwAwbGKM5+kQwACEEiTQBoN+lmzZpmNN97Y61wceeSReaP3/PPP+52Qc889N6/dQg/TiHuhMHgOAQhAAAIQyDqBtOpLKzhuv/325qmnngr82rRpY5o2bWoOOOAAv57XbtbhNZ2TskwrzknDwx4EIAABCHxPAMGRkgABCEAAAqkQSKNBf//99/udi6effjpvvJYtW2a22morz77WdZo7d25e+/kephH3fP7zDAIQgAAEIFAJBNKqL63gmGTplA033NC0b9++ZHxpxbnkCOAQAhCAQJUSQHCs0own2RCAAATSJpBGg17rM6nzIQFxwYIFBaN4ySWX+ALlfffdV9B+nIU04h7nN/chAAEIQAAClUIgrfrSHb0YFh032WQTs+uuu5pDDz3UXHPNNWbixIll4UsrzmVFAscQgAAEqpAAgmMVZjpJhgAEIFATBMpt0Pfr188XD88444xEUezfv7/vZo899jDfffddIndhS+XGPewf1xCAAAQgAIFKJJDF+jKLca7EskOaIACB6iOA4Fh9eU6KIQABCNQIgXIb9FdddZUvHnbq1ClxHPfdd1/fXe/evRO7cy2WG3fXL84hAAEIQAAClUogi/VlFuNcqeWHdEEAAtVFAMGxuvKb1EIAAhCoMQJZbtBnOe41lqF4DAEIQAACEAgRyGJ9mcU4h7BzCQEIQCCTBBAcM5ltRBoCEIBA/SOQ5QZ9luNe/0oCMYIABCAAgUolkMX6MotxrtTyQ7ogAIHqIoDgWF35TWohAAEI1BiBLDfosxz3GstQPIYABCAAAQiECGSxvsxinEPYuYQABCCQSQIIjpnMNiINAQhAoP4RyHKDPstxr38lgRhBAAIQgEClEshifZnFOFdq+SFdEIBAdRFAcKyu/Ca1EIAABGqMQJYb9FmOe41lKB5DAAIQgAAEQgSyWF9mMc4h7FxCAAIQyCQBBMdMZhuRhgAEIFD/CGS5QZ/luNe/kkCMIAABCECgUglksb7MYpwrtfyQLghAoLoIIDhWV36TWghAAAI1RiDLDfosx73GMhSPIQABCEAAAiECWawvsxjnEHYuIQABCGSSAIJjJrONSEMAAhCofwSy3KDPctzrX0kgRhCAAAQgUKkEslhfZjHOlVp+SBcEIFBdBBAcqyu/SS0EIACBGiOQ5QZ9luNeYxmKxxCAAAQgAIEQgSzWl1mMcwg7lxCAAAQySQDBMZPZRqQhAAEI1D8CWW7QZznu9a8kECMIQAACEKhUAlmsL7MY50otP6QLAhCoLgIIjtWV36QWAhCAQI0RyHKDPstxr7EMxWMIQAACEIBAiICtL1u3bm1mz56diV+DBg3MeuutZx577LFQariEAAQgAIGaJIDgWJN08RsCEIBAFRGwnZAsNuizHPcqKmIkFQIQgAAE6piArS8l4GXtl8X2SR1nN8FDAAIQKIsAgmNZ+HAMAQhAAAKWgO2EZGnUgx2dwegHm4scIQABCEAAAvEE3n77bbPjjjua7bffPlO/n//852bIkCHxCeMJBCAAAQikTgDBMXWkeAgBCECgOglYwTFrIx7c+DL6oTrLLqmGAAQgAAEIQAACEIAABNIlgOCYLk98gwAEIFC1BLI66sGO0mD0Q9UWXRIOAQhAAAIQgAAEIAABCKRMAMExZaB4BwEIQAACEIAABCAAAQhAAAIQgAAEIACBaiaA4FjNuU/aIQABCGSIwOLFi73dMJcvX56hWBNVCEAAAhCAAASSENC6ynPnzk1iFTsQgAAEIJABAgiOGcgkoggBCEAAAsY0btzY2xGzTZs24IAABCAAAQhAoIIIzJw506vjt9lmmwpKFUmBAAQgUN0EEByrO/9JPQQgAIHMEGjYsKHXGXnggQcyE2ciCgEIQAACEIBAYQJTpkzx6vgtt9yysGVsQAACEIBAJgggOGYim4gkBCAAAQicffbZXmekVatWwIAABCAAAQhAoIIIjB071qvjN9lkkwpKFUmBAAQgUN0EEByrO/9JPQQgAIHMEDj55JO9zsjNN9+cmTgTUQhAAAIQgAAEChMYPHiwV8evt956ZuXKlYUdYAMCEIAABOo9AQTHep9FRBACEIAABETgiCOO8DojWssRAwEIQAACEIBA5RDo3r27LzhqPUcMBCAAAQhknwCCY/bzkBRAAAIQqAoCe+65p9cZOfXUU6sivSQSAhCAAAQgUC0EXn75ZV9wHDp0aLUkm3RCAAIQqGgCCI4Vnb0kDgIQgEDlENhss828zsiBBx5YOYkiJRCAAAQgAAEImNatW/uCY+fOnSECAQhAAAIVQADBsQIykSRAAAIQqHQCdvdKre201VZbVXpySR8EIAABCECgqgg0bNjQFxwfeOCBqko7iYUABCBQqQQQHCs1Z0kXBCAAgQoi0KlTJ78jItFx3LhxFZQ6kgIBCEAAAhCobgIHHHCAX8+fc8451Q2D1EMAAhCoEAIIjhWSkSSjcgjMmTPHzJ49mx8MKANOGbjooou8jsiGG27oHe+77z74OHx4Z/DOVBmYN29e5VSGGUkJdTb/Pd6/5ZeB0aNHmw022MDYOn6HHXYws2bNop6nnqcMlFkGaBdkpDFRwdFEcKzgzCVp2SKwevVqc/TRR/tfdzWKix8MKAPryoA6Io8//jj/C94NlIE8ZeDiiy/OVuWX0dhSZ697N1NPwSKtMnDhhReaP/zhD7zj87zj02KNP9Xzv6VdkNGGRoVEG8GxQjKSZGSfwIsvvug1sLQxxvbbb88PBpQBpwxotINd0+nSSy81P/nJT+Dj8OGdwTtTZWDjjTf26pHBgwdnv1Ks5ymgzuY/x3s33TJw8MEHm2nTpplBgwaZvfbaizqeOp4ykEIZoF1QzxsTVRA9BMcqyGSSmA0CJ510ktdRfOGFF7IRYWIJAQhAAAL1isBNN93k1SM33HBDvYpXJUaGOrsSc5U0QQACEKgsArQLKis/s5gaBMcs5hpxrkgCW2yxhddRnD59ekWmj0RBAAIQgEDNEujatatXj2hKIqZmCVBn1yxffIcABCAAgfIJ0C4onyE+lEcAwbE8friGQCoEJk6c6HUSNT0HAwEIQAACECiFgDav0Lpcm2++eSnOcZOQAHV2QlBYgwAEIACBOiVAu6BO8RO4MQbBkWIAgXpAoFu3bl4n8ZBDDqkHsSEKEIAABCCQVQJbbrmlV5/MmDEjq0mo9/Gmzq73WUQEIQABCEDgBwK0CygKdUkAwbEu6RM2BH4g8Pzzz3sdxDPOOAMmEIAABCAAgZIJ7LPPPl59oo0XMDVDgDq7ZrjiKwQgAAEIpE+AdkH6TPExOQEEx+SssAmBGiOg3Xc1De7yyy+vsTDwGAIQgAAEKp/AMccc49UnH330UeUnto5SSJ1dR+AJFgIQgAAEiiZw9NFH0y4omhoO0iKA4JgWSfyBQBkEmjVr5lUEt9xySxm+4BQCEIAABKqdwKmnnurVJ2+88Ua1o6ix9FNn1xhaPIYABCAAgZQJnHLKKbQLUmaKd8kJIDgmZ4VNCNQYgeuuu86rCFq3bl1jYeAxBCAAAQhUPoFzzz3Xq0+eeeaZyk9sHaWQOruOwBMsBCAAAQgUTYB2QdHIcJAiAQTHFGHiFQRKJdCkSROvg/jggw+W6gXuIAABCEAAAqZRo0ZefdK2bVto1BAB6uwaAou3EIAABCCQOgHaBakjxcMiCCA4FgELqxCoKQI33XST2X777U27du1qKgj8hQAEIACBKiBw/fXXe/UJIxxrLrOps2uOLT5DAAIQgEC6BGgXpMsT34ojgOBYHC9sQwACEIAABCAAAQhAAAIQgAAEIAABCEAAAnkIIDjmgcMjCEAAAhCAAAQgAAEIQAACEIAABCAAAQhAoDgCCI7F8cI2BCAAAQhAAAIQgAAEIAABCEAAAhCAAAQgkIcAgmMeODyCAAQgAAEIQAACEIAABCAAAQhAAAIQgAAEiiOA4FgcL2xDAAIQgAAEIAABCEAAAhCAAAQgAAEIQAACeQggOOaBwyMIQAACEIAABCAAAQhAAAIQgAAEIAABCECgOAIIjsXxwjYEIAABCEAAAhCAAAQgAAEIQAACEIAABCCQhwCCYx44PIIABCAAAQhAAAIQgAAEIAABCEAAAhCAAASKI4DgWBwvbEMAAhCAAAQgAAEIQAACEIAABCAAAQhAAAJ5CCA45oHDIwhAAAIQgAAEIAABCEAAAhCAAAQgAAEIQKA4AgiOxfHCNgQgAAEIQAACEIAABCAAAQhAAAIQgAAEIJCHAIJjHjg8ggAEIAABCEAAAhCAAAQgAAEIQAACEIAABIojgOBYHC9sQwACEIAABCAAAQhAAAIQgAAEIAABCEAAAnkIIDjmgcMjCEAAAhCAAAQgAAEIQAACEIAABCAAAQhAoDgCCI7F8cI2BCAAAQhAAAIQgAAEIAABCEAAAhCAAAQgkIcAgmMeODyCAAQgAAEIQAACEIAABCAAAQhAAAIQgAAEiiOA4FgcL2xDAAIQgAAEIAABCEAAAhCAAAQgAAEIQAACeQggOOaBwyMIQAACEIAABCAAAQhAAAIQgAAEIAABCECgOAIIjsXxwjYEIAABCEAAAhCAAAQgAAEIQAACEIAABCCQhwCCYx44PIIABCAAAQhAAAIQgAAEIAABCEAAAhCAAASKI4DgWBwvbEMAAhCAAAQgAAEIQAACEIAABCAAAQhAAAJ5CCA45oHDIwhAAAIQgAAEIAABCEAAAhCAAAQgAAEIQKA4AgiOxfHCNgQgAAEIQAACEIAABCAAAQhAAAIQgAAEIJCHAIJjHjg8ggAEIAABCEAAAhCAAAQgAAEIQAACEIAABIojUCeC46JFi8yMGTP837x584qLNbZrlMDs6aPMxNE9c34rli/OG+63s8aZoX1fND07tzLvPX+56fbmf82gz9qbCaM/M2vXrsnrdv7cSX54Oi/XrF690kyfONgM7vWM+eiVa0zX128yw/q9YmZNHZE3Lt/O+saPh8tg6eJvy41SwP2CBQv88h94wAUEIJCXwHfffWfmzp+d81u8dJHvbt7CuYHny5Yv9Z8lOfl2QdB9Ejeys2DxfD/cJU58krp37U2fNcV82r+Lee3DZ83nX35m5syb5T6OPV++YpkfB50nMUuWLfbdiK3cLV2+JHDPMl+9elUSL7GTkMCalcvMwlF9c35Lp4yM9WHlvBlm3pCPzZR3HzTfPHOdmfbB42bB8J5m1aLC9dSqRXNzwooKP+reojH9c+K0aNzA/P593c8smfiVWT5zvFFao8x3a1ZH+rFkwrAo65H36nudumbNGr/OX7w4f1sqMoEVcLO+51EFIDbz58/3ytnMmTMDyVm9erVf/pYsWRJ4loWL+lrvr1q9MlBPKp6lGrVTvhoz2HTs+op5/7O3zNcTRhj5n8TYNouOSUyYp3Vn63n3uHDxgiRe1pqdfO/SuPKfz005EV867evIumtNnv4y9Xc5xHGbVQJ1IjieeuqpZr311vN/e++9d1b5lRTv6dOnm9tvv70kt7XhqN2dh5qmF6yX8xve/43I4EcO6mieaX2MaXrB+jlurD8P37C7GdLr2Vix7532F/pu32nfMDKcJDclinZ8+gLTvOHGvn82DvZ4R6NNzauPnG7mzZmQ4+XLD/890t0X3R7LsZv0xpAhQ8zbb78dsH7kkUf65X/ChNx4BCxzAYGUCUSVyWKCWLlypXnggQfM0qXFCXnFhBFnd9T4r8wf/7Vbzq9x0zM9J2vWrsl5dutD/4nzLuf+zDnTctxL/CtkVqxcYf7UYH/f7fk3nlzISc5zhXNN64bmuAv28/1x0/rXRr/3no8YNzTHrb3xyIt3+W4ffbG1vR17HDf5a3PCRb/33Rx21l6ewHnnEzf699w4dO37XqxfNfGgLstaTaQn7Of8YZ+YPmdtnfMbfP0hYatGdgdcuW+OXdf9wP/81sz85HkT1/Gd9v6jed27fkWdr1keFCui7MTd63v+DubrRxp56XDjJ2Exys0Xl+yewyDuRn2vU7t27erX+Q0blt7GiUt/Fu6nlUfl1l9ZYFVqHPfff3+/nLmDOd555x3//n/+k7w+LDUeaburr/X+cx2fCNSTPQd2Kzrpr33wrDmjyXHmkDN3D/ilelf18dnXnWDav/mIURsjyugDoVtHL1+5PMqaf0/v3nvbNw24ubTZv01U20f+/uua43239eGkZ8+eflk+55xzAlGKK//53AQ8KPJiWNO/RNZdc/q9k+MT9XcOEm5UEYE6ERxPOeUU/2Uh4fFXv/pVVSBfsWKFueuuu8zmm29uttlmm3qb5qSC46pVy827HS6KFOisuBc+vvLwKWbNmtU5aU9DcJwx6UvT5sY9E8en5SWbmynffBGIS5qCo0byXnHFFWbDDTc0l112WSCctBreAU+5gEABAvnKZAGn/mN1nPfcc0/vHT579mz/fm2djPomWnC8pOm/vCisXrM60JBWg/mY8/Y1hRrhNv4vdX46x/20WZPt49hjl96dctwNH/tlrP3wAwl5cUKj25mw54pnlGnzwjrBUeJjPiOxUSKm9fOIs/c2vQZ295zECo59OufzMtVndV3WUk1MjGdJBMfv1q41E19pFtmxiRLqdG90mwuN3IVNXQqOblwnvdHKj1o1CI4ff/yx3+698MIL/bRX00m57Z406q9K573ffvv55ezbb9eNeO7YsaN//8orr8wchvpa70sotPWnjk3uapCY7YJF88x1d18UcO/6FT5XWBp5GDYaGenazTezQWLjPe1uD9i/8s7zvFkNsYLj1X8OB1mn15999plfls8+++xAXOLKfz43AQ+KvEgiOFJ/F/8j5G0AACAASURBVAkV6xVJAMGxlrJ18ODBZrfddvNfklkRHD965Voz7POXvd/iheum9K1du/aHUY3rRkI2v3Aj8+aTZ5l+XR8xGvU4uGcH0+nZS4xGFLrC41tPnZMz+qJcwXHN6lXmgWt3DYTz+G37mR4dm5mBnz5tBvR4ynR78xajkZZuXO6+YjuzfOm66QISIG16n27xR99uKSMc33//fT+/L7/88kBJK7fhHfCMCwgkJJCvTCb0wvz+97/3y/WcOXOSOkvNntvxOPeGk4yEPv0GDf/cCyNKcFRjvEe/jxLF4YKb/x5ojMttEsHxijvOyXF3x+M3JApz0Ih+AbfHnv9bc/fTt5pX33/GfNjrHfNy53amxePXGwmCbsdCU67DJqngGBYbjzr31+aLob1878TZsm3SqoEfbtdaFBzruqz5MGrwxBUcNTpxdp83vN/8rz71Q53Z/dmA2Pj5+TuasW2vNNPef8zM6vmKmdq5jfn60YtMn3O2C9ib8s79vh/2xBUc5c/I+89K/Bv90PlmbWhKvSsiDr312Fy/7vmXGX7nyWbAFb8JxE3u5nz+/ch/TbW26XbjV0kjHBEcjSm33ZNG/WX/B5V6jBNcKklwrC/1/pejBvj1oq2XNUoxyYwIlb/Lmp8dcH/hLaeZDm89ajr3eMO82/010/b1B81Z1/41YEczJ9T/ck1SwTFKbLz27kZm5arvR07qaOv8Tp+87of7LwRHF3fg3BUcJ7x4q1+PrVywThim/g4g46JKCSA41lLGP/nkk34nXaM6syI4fjPi+9EuYUxap9EV7tq3OiJyirLcLZw31Tx2y28C9kcPCY6SKVdw1PqMbny+6PZoOMretdaS7P7WbQG7SkuUceOE4BhFiHtZI5BGh62uRSBXcLzh3sY5WRAnON6SYFr15BkT/Ea27UAkERzVwbD2L29xtjeiUtdHnbOPSbL+0VUtL/Ddq9OxaMnCnHTpxqy5073pTTasf1/715yPN0kEx7DYqBGgEj3jjOsngmMcpdLuu4LjsOYnRHoy6Nrf+2KdplqvXLDu45/rQOskulOuv7joFyY8BdoV9Ibe9ifXeUnnruC4aExwxoDr4Xdr15jJb7YOiKJDbjzMteKdr5g7xU8rgmMOnkzfQHCs+eyrBsGxvtT7+qBo6+Lr773EP3/s5XsKZrTWarRudfyo17uRbiQSvvxe+4Ddbp+/H7CbRHCMEhtvuv8yE7cms+tnfRMcNVvwq6++8n7aD8I1ceW/NkY4zh/+mRsV/5z620fBSRUTQHCspcyvJMFx/pyJgTUS2915mFm5IriuUxirRMe7r9zeF/o63HVUwIor7pWyhqM2hrGC4/P3/SXgd9TFc/f+2bcvsTTKuHFCcIwixL2sEahGwdFOUz76vN8UnFb9zFuPBhr2tkNQaITj068/5LvTJi9aM9K6feX9DgWLieJm7U+enn9N1/FTxvh25WbClLEB/11xMGpKdVhsFJ9hXw8K+BG+cP1EcAzTKe+6kOC4eulCX4CTuBe1cYsbg4WjPw/YD3eC6kpwtHGc8HLTdfE7exuzZtm6zZ5kB8HRkqq8I4JjzedpnOBSSSMckwiONV3va6M1W2//pdFBXj1s63CtiVxos5cX3m3r1+O3t2lSsGDog6n1/5YHg1PiXXFQdsJTqiU23t3uNt+97ChMfZyNM66f9U1wjIuz7seV/7oSHKm/8+UWz6qJQL0UHPv162eeffZZ/zd27PcdqsmTJ5sXX3zRXHrppeb00083zZs3Nx9++GHOCA9loHbDc/3o1KmTl6/a5KBLly7mxhtvNFpL8rbbbjOdO3c22sEtymg3QdcfnUdtlDBy5MiAPRue1lCRG60z4W6Us+mmm/r2+/TpExV0nd1z13CMGuHojm5s1mADM2vq8ERx/fTdO3yRT+Kgu2mLK+6VIjhqoxgrOMqvQkbTva19CaFRxo1TMYKjdgBUnmthbpvnRx11lJ/fKj/hhrcW93711VfNtddea/7+97+bW265xUgc0o5rhcykSZO8/8V1111nTj75ZG/dyHbt2pmvv/66kNPY55r+pTS8++73X11VjrXxjdL0j3/8wzz44INGC7erIWON1vN77bXXTOPGjc1pp51mbrrpJtOjRw/7OPao3RS1oHnr1q1NgwYNzP/7f//P/Otf//L+3716rZvi6XqgsBQ//eymO1q24LHHHjNaRPqss84y9913n+nbt6/rLNG50mX9HjFiRKSbAQMG+HYUbpQZOnSob0fvrrApJd9svqjzIKNyozwSa+W9ys9LL71k3LWbZC9JmQzHL3zdu3dvLz277LKLX64feugh717UO0zvVJWZZs2amTPPPNP7tWzZ0nvfLl+ef1HzcNjudTEjHI88Z2/T/NHr/Ib2J/0+dL3KObfTlzRy8B9XHeu7yyc4anrT3y873LcrwbD3oE/86382yT+KTLtB246EjnEjDtzIakqZdRNOkysOhgXHsZNGB9ZsPP7CA4x4FjKun6UIjgsXLjQdOnTwyqc2jTv33HO99Yz1v1ddHTa1Udb03rH/c/0/9X9s1aqV9/7VGmdRZbqU/2w4beHrQoLj8tmT1wl0Z21tVsydGvYi59od5Tj943aB53UtOBYSRNMSHMupU/Wf7tatm1eHqKz+85//NHfeeadRg1mja0ox4SnVCkN1/K233uqVuWuuucarP2fNih696oZZ6rtV4anMP/fcc4navJ988okbbOBc7Wi1OdQWP//8880TTzxhxowZ49lRm1rh2PaDdVhquyeN+svGwR5LaXdYt0mOaqOoDaINglQ3q00nLio/U6ZM8d89eqdEGbWt1H5RW06c1V9R2/CSSy4x7du3z6njrR9xgktSwVHtRrWjtP644q02n+IwatQoG0TOsdR2SY5HeW7Ut3pfU55tHWwFQ3c5Fk1NzmfcOvWJV3OXvgi7/az/x354aqe4xhUHFSdXcIwSG7U+c3hatuufzl0/ixUc3fa5yrfioHa1NhpU/0FlSuXR3dRI8fniiy+8foDaCI0aNfL6GWo7hM3cuXP9/0+4no4r/0kER7VXbZtAfZkkxp1SHf64J/fU30koYqcaCNRLwVELaluhRkdVfqrwNt5448B9a+fEE0804bXEBg4cGLC71157ecOvd9xxx8B968dhhx1mpk7NbcgPHz48x74VQN0Cos1grF862o1w9DJ070edSxxJaiRWbb/99ma77bYr6rfTTjslDcIUEhzd6dEvPXhSYn+XLp5rPn7tBqPdrhctCA6Dd8W9UgRHrdNoBcRWjbc0s6ZGC0U2slq3cdxXH5tpEwaZ+XOjG3xunIoRHNUwi8pne0+Ncrfh/corrxhXxLH2dPzJT35iJGZHGVXijzzyiNlss80iw9too4080W7NmjVRzvPes/HTuqMqw1tttVVkGFdddZXnjyrzLbbYItLORRddFBmWGt4tWrQwP/7xjyPdWQ7q7IX/3+oI2ecSMtQ4ttfhoxroxQhcjz76qO+XOlJR5k9/+pNvR52AKKP7Ni76iGJNOflm8+XnP/+5kaC5ww47+GHYsHT8v//7P+OKtUnKpI1f3FEisBuGex5+h2mzj1//+tex9vfee2/Tv3//uKDy3i+249FncA+/oR4eGeAGpJF/tgOhdZSSCo5a99C6s+KiRg64Oz8PHJ5f+NYulNaPt7q86EYr8nzsxFHmy9EDzcRp3wQ6F7LsdmRcwTEsNip+upfEuH4WKziqkaGN0tzy4p7/7Gc/M2FhozbKmj5W2nhIaPzpT3/qX9v79qNNOf/ZQnwLCY5yP+DyfXzRcVy7JkbTk/OZxeOHGAl7S6eONmuWLw5YrWvBccWcdVOmNWJz/tDgsi1pCI6l1qkCNX78eHP44YfnlAVbJn772996bckA1AQXruB4xhlneGKO9dM9armdDz74INbHct6tcZ1xNzC3zfvXvwaFDdlTO9ldVsON+yabbOK11e27f/fdg7uM2/pLborJozTqL5vGctod1o9CR32Ii2uXHXLIIV67zXLTIIqwUf9F9qydqKPahm+88UbYaewIr0KCoz78XH311bH9LG1+qA+bK1euzAnT5mux7ZIcj/LcqG/1/kW3neHX2R//sK6xdpu29XjjpmfmSY3x1pS2dv/xn2ONRkzmMxIRvxjW24weP9zM+jbYf3LFQflpBUfVW+GRjbrW/ULG9bNYwdFtnz/zzDPm3//+d2RZ3nrrrb337apVq7wPF1HlXH1XfeB3TT7xMO4dl8+N/L755pv9OK6//vref9QNM+68kOAod9TfcfS4X00EMiE4xnWq3ZeTRlS5Jiw4yq4acq6b8LmEvLDo6Da+rP26FBy1S5+NRzHHDTbYwMWT9zyf4Kip01bY01GbsqRhXHGvFMFxwdzJgXg1b7ixebdDI09U1G7apRg3TsUIjt98843ZcsstjRrfNo/EX/f0mzhxYkBwtHZ0VCP1f//3f313uieRXG7CJtwpl+D3u9/9Lsf98ccfH3Za8No2IBX+//zP//jxURhh4V87cLuiYdT/TCOZwkZfMN20S0Q/6KCDPKEq3Fi/4IILAs7dBo1GC1t/xFmNGHttjxo9ktRotJN1J/Zhs2zZMuOGqfwKfy1Wp8ZyU4PJbeCVk29uvrjlJFzeFP8f/ehHRl+aZZKUyXA6w9fKL4Vj2eiofNc9ibrWqLOsBptrTx0R/dx7EsRff/116yzxsdiOh0YMaiSfGuL5plU/+er9fmdhyoyJiQVHd/r0M28/5qfjoefu9P3774NX+PejTh59sbVvV/HU2kpaUzHJaMewf644aAXHsNh4UuNDzISp48JOY69dP4sRHDWqwX036L958MEHG/0n3LKg8uKK8rVR1lzB0Y2LPZdoYk05/1nrR9wxieCoDWLctRIHX3uw0cjF5bPyT7+PCrOuBcfZvV4LpGXFt9MC0UxDcLR5qGMxdapG2LgfzlQu9dFNH5BVt1h/9f7v3j0olAYSEXHhCo7WHx31/vzNb35j9D609xWuRrGFTbnv1rjOuBuO2+YNC46qT3bddVc/noqvhHoJi+F3vp7lExxtWnUslEdp1F82jeW0O6wf+Y733HNPgI/ydZ999gmUKzftYcFR/Qu3fSGhT+Uv6r2pZ2Ljmrg8zic46qO0Bl248dJ7W+XSfX/rudpoEohcU2q7xPWj0Hl9qvdVd1qx8NgL9vOXapm/8Ftz2Fl7+c+0/EmcWbJ0kTns33v6dlUnS7AMi4lx7t37rjhoBccosfGh51u6zvKeu36WIzi6782o9vm+++5r/vKXv/hlT+XNLf8qcwcccECgjZ1PPIwr//ncaKajLft6j7Vt2zYvG/dhEsGR+tslxnm1EsiE4GhfBDqq4o4SIPUi05dpa6IER+uPhIBw59c+C49ochtf1k5dCo4SO9TwUKVfzO/QQw+1aAoe8wmOc2eMCQh7w/sXLxhERcAV90oRHOWndtR2xVB7fsdFm5nn7z3efNappZk0po/RxjFJjBunYgRH63e+9fLcBprKlRp26sDYr8dy6wpnTZs2td56R03Zt+VRlbOm7tiRjGpo6Mu323HSNNtiTDh+Kj8SBCSsaXqTpjzY8O3xvPPO80ciapqzxE/7TKOQXaOFnq0gq/+uRjDb+MuevrZLyLTuZVfTKKxxBUfZUSNFDPT/kNEo0mOPPdZ3L5ZRSyFY/8JHN+7Dhg0LPNZUMhsvewx/gXXFDE0xt6bcfAvnyxFHHGG+/PJLz3ul74UXXgh0XDVyyzX5yqRrL9+5O7olPPJ0+vTp3ghsy0WjNNz3ssqFypJ9rs5qkmUD3PgU2/GQ25ZP3uQ37Lt/Hj16SKMM1FhvcPMpXnBJRjhqQxi7c7R2p9SmLtZoFKLtlKgTMnf+ul0LrR17nD57akDgtO60W/V191zs7VatkQ1hYdu6d4+uOCjBMSw2ym+NjizGuH4WIzi6I481NdUdaawRun/84x/9shA1Eromy5r7H1V51DtG7xyttyyB8amnnvIQlfufLcQ5ieCokYpRuzxLhBx09QFGox5n937drJw/s1BwxhUc+1+6l5n24ZOJf+7OmzYgVwjNt2mM7C+ZNNxoIxjrpn/jPaw3/jEtwbHYOlX1ptpU9t2kd9fo0etGAKv+0XIf9rlGacctxeMnxjkJC44Si1Rn2f+03oOu/xrBprrWmjTerXGdcRuGjm6bNyw4umLdtttuaz766CPfqT6K/uEPf/D5iFMhwbHYPCq3/iq33eEnNuZk3Lhx3oc+W0Y0skuDBGSUz5o9Ef5gGxYc3aV4VFeGPzar7bPzzjv7nMMfU+PyOJ/gqOneNs76UKlZZbY9pqOudd/aCbcrym2XxOAM3K5P9b7qVVtHt3rqv4F43nhfY//ZfR3yD8jQB0rrj3vUki4PPnuH+bR/F7Ng0byA/1EXrjgof3R999O3BvwuNOIy7K/rZzmCo8qM2viajWXbixqlHRay9XFfda3+J/pgH973wJ0Rk088jCv/cW605I8t14qnlpsoxiQRHKm/iyGK3UolkBnB8Re/+IXfcVXDUFP47EvCHt3pBXGCo9ZutI1ECQm//OUvA/7ohWM78Mp0t/FlwylGcFRY+gLpvtTkj6aY6b5+4fXW6rqw5RMcJ4z6NCDqzZxSeP2vJOlxxb1SBUeF069rG6N1Ja3YGHVsffk2RuHNmb6uMxEVRzdONSk4qvGoNX3C5v777/fL5gknrNu9VKKkGvK2PKoRG2XcClZTbK0YF2U3fM9tQMqt1jtyzbRp0wIjPmQ/bNxpUHaJAWtHAqqN/+WXX25vB45qeGh0ibWn0SfWhAVHTWEKG3XgNGrSuv/888/DVmKv3fjde++9AXtaT8n6aY933313wI7SZJ/ZTlka+ebmi8qN2yG1Ebjjjjv8sPXl2DXldtjkVz4RSJ0fm251Ju271o2DRkdoWqK1pw5WMaaUjoc77TlqWvXIccP8xrl2hJRJIji+/uFzvrsr7zwvJxnn3fg3/7mmaecz6lhc7EzTcjsg9vyvjX5vtDOmdriMM6442KRVA6MF7a17e1RcVY8mNa6fxQiOGplg81md8bDRRwz7XMuehE1NlrWw4KhlUcImjf9s2M/wdRLBUW5Wzptuhtx8hC/WWdEufBx663FmRvdnYqddu4Jj2G2h6/lf5a7J67qZ8NLtZlbPVwK/GV3bm4mvtjAj7/1XTtwVz7BJQ3Astk5VHLQ0hy2Lam9q/e6w0X/muOOO8+21adMmbCX2Oiw4aiRc2KjO23///X3/ta6xNWm8W+M64zYMHd02rys4qq5R+9gyckckW/cSCsTO2sknOJaSR+XWX269Xkq7w6Yz7qj+hU2722Zz7Wv0lLWjoys4Spy0H4olTEpkjjISRawf4XDi8jhOcFQ7yc1XrSUeZbSmnQ1TYpE7G6zcdklUeOF79aXe13IpJ178B79OHRr6eNdzQFf/mTaukXCXz3zw2duBUZG2jrZHfchsdOs/vJ2qtd5zlHHFQblz1622/hx65h7erIko91H3XD/LFRy1/m3YaFaMLU86Ro0Yd2cWuOXS7dtofwTXxJX/KDeKl42DRiJrmYdiTRLBUX5SfxdLFvuVRiATgqOGOIdHEOlLpX1R2KMdkaBMihIcw51v2evZs2eOPxJ6rHEbXzacYgRH60/4a42mndZXk09wHDPsw4CYpx2r0zCuuFeO4Ki4TJsw0JtOfe9VOwbiGhYfWzTcxPR4p3ls9N041aTgGP5abCMkQdyWOY0csEb/BXtfglw+4UAj4KzdqA6C9TN8dBuQUWKe7LvTIqOmTMuOnRqhRrRrlIbHH3/c20TCHUXi2tG5uw7ip59+6j92BUeNtIgStmTZTb8V/nxP8pxoIxjLTes1usaKZRLUNEpF9sLvFjuCWtPl7KjVNPLNzRdt3BNl1HCzcdcIMteU22GTX/lEIPdZeMOAuHhECU2u3fB5KR0PdRIk1qnx7U2rXvH9SFjr98PPt/KeqXE/+9vvxfUkgqMrKH7U6/sNlqyfOmrHatvg18YyawqMrl65aoV5p/ur5vIWZ5vDz/qV79b64R6bPnKNWbw0uMOvwnTFQde+Rku61891fMKNat5z189iBMeTTjrJL4v6SBg1mlWjkaOEc0XILU92dISNqPuslLLmCo56T9kRPdZ/HdP4z7r+RZ0nFRzlds2KpWZ6l7ZmWPMTTJ9ztssR8Fzxb8hNh5tl03Kn9NWk4OiGX+h8eKtTIuuuNATHYutUsXVHFz7//PNRWeXdc9+vriAX6+CHB67gqNE8cR8A9eHcvr+PPvpo39tyy7s8iuuM+4HkERy1kZON19/+9jfXSeBc7Ky9fIJjKXlUbv1VbrsjkNCIC3dt50GDBkXYMN57Zs899/QZuYKjRG6JHhJCtMFGnNFSFZaxW0ZkPy6P4wRHl6k+EOVrT2p2lQ3XFWfKbZfEpdO9X1/qfVdQVBshbLz1my8+2K9rVZ8XMlo/+p52twc2n3Pranv+t8aHmp4Du+V454qD1q49HnPevn5c5F7TvpMY189yBEfNLooqU67wro8sUUYfXGx5c/vlUeKhdR9X/sNu3H0XJO6/9dZb1ouijkkFR3lK/V0UWixXGIFMCI7qvEeZ8EL07tfmKMFRw7WjjIQD+1LTUbtgW4PgGFynSJusuMKdNl5Jw7jiXrmCo42PKrnpk4aYXu+19qZU33nx/wTibtMRJzq6capJwTGuotPIV1suVUatefnll/37qly182Hczx2Noem2SY3bgHQ3H3Hdu/+buI1t7AhDLWNQyCi/9NVcHTpNv9DC+u6age4XUFdwVCM4zmiat2UoRsUYbWYhtxIjbOdQIz3tWlWahmSnXit9dl0j952h3ZmtSSPf3HyJ21hAU5htmg888EAbvHd0OxdxIzwCDiIu3I6vKwJJNLLrkOkYJeBY7zSSx06pl904wdjad4+ldDzk3p1i5E6rVrk7+Yddpi9tvm4Dr0KCo6Y420a9u46TG1eNWnSFw6jOgmvfPddoBu1MqWlZmmJlw3KPF9/+T7NiZXDXXFcctHbPvv5E8+2Cueb6ey/x/dH6UcO+ju4Uu/HQuetnMYKj/se2LOqoPFenXFNJv/qq8Oj4mixrruCopVqiTBr/2Sh/3XvFCI6uu9VLFpg5/Tqace2uNoOuOShSfBxwxa+9kRWuO1dw1PTmKR3vS/xbOS+4WYH8LSQshp9rGvXMT543361d60bLP09DcCy2TlXgrgikchtXp7plQh/8khpXcNTyAnFGy4nY/4w+6smk9W6N64y7cXHrL1dQVfvaxivuI6T80S7b1l4+wbGUPEqj/nLTqvNi2h1ht+Fru3611lfOZ9THsIxcwTHOjZZL0RIUWvP4hhtu8Nsd8kMfVV0Tl8dxgqM2grFx0UysfMYdEebaLbddki9M+6y+1PtuHfpMzKwFrZVo697zbzzZJiHR8ZvJX5uXO7cz17RuaNSusP7Yo0Yqaqq1a1xx0NrTURvQjRg3NLBWpPxNYlw/yxEc1QeJMm+++aZf7rQxZJRxN3B0ZxqFxUPXbVz5d93Y8m6Pbp/f9SvJeTGCo+sf9bdLg/NqIJAJwTFcodqM0Ro39oWhYyHBUQ2pKHPKKacE/Pnzn//sW3MbXzYsjcgIG3cao+yFR+2kNcJRo6W0i3eDBg2K+l188cXhKMde5xvhuHDetIBo17dL9CirWM9jHrjiXlqCYzio1atXmrFfdTEd7joqkAaNdFS6wsaNU00KjnEd74ULF/rl0t3AoHnz5v59WyaTHG+//fZwEmOv3QbkiBHRO35rsWcb7rx50evMaCMm2YkTHDXtWuu8SRgLr+li/bbHOMFRwmSccdeBLFZwdN1KnJCRaGvj06NHD9OkSRP/2gqz7ldZdxpIGvmWJF+0sL+NY20KjuoQ2XDjPhK5+bTHHnv49vONcnXd6LzUjseg4Z/7jXd3E5cvRw3w73fsum5KTSHBUUKg27g//T/HmKifa6fJXQ3CyUl8rZGXr7zfwfypwf6BcHXPNa44qLDV4bHrQGl0gzsd7JTLjzCLlix0nUeeu34WIzhqiqU7LcqWD3vcZZddvJ1R3XU+3QjECY5plDVXcIzbaT6N/6ybnqjzUgXHsF/LZ082U955wHze4P8CIuA3z1wXsOoKjkNvC47eDlhMeOEKiiPvP8uMf/7mwG/Ci7eaae8/ZuZ+0cksHv+lN8ojn9dpCI7F1qn64BFeW8+W0XxHfSyxH5rypUnPXMFRmxTkM+6HNo16S6O8K7y4zrgbF7fN6wqO2rjNsogTC60/ti7PJzgWm0fyOy3BsdR2h01f1FFrLVo+ahvlM+7GMlGCo9r52t1Xo2419dx+5LT+u8dw/yguj+MER3c97meffTZftI3WArdhux9Ty22X5A30h4f1od7XOszuRi8SBKPq/KPO/XWgjh4+9vt1tpOk07Wj0ZIDh/c1aje47YgTLj448KHRFQdlTzM13u3+mu+VlnNx3dtlY3wLESeun+UIjnHtc71DbFmKW1ZHa4daOzUpOKp/Et58KQJJ5K1SBcewZ9Vef4d5cF15BDIhOMbtsquK2L6MdCwkOKqREWX0tdn1x52+6ja+rJ0oAebWW28N+BFesy4twbGud6nWhistG2/hC3baCboY88GL/zHvPX+5Gd7/DbN08bqh/a64V6zguGzpfDNpTG8zYsBb5psRudMNwvHTF+3PP37YT4NGOvb/JHd6oRunmhQctZFGlIkTHLUJiS2LxRyL+YrnNiDjxABXcIyaKqk05RMctd5RXENaHTktmO5uEBUnOIY3enJZuqJhsYKjuznM1Vdf7XlrR0xqV02JKT+8QL38kDghc/jhh3vXGs1lF4zX/TTyzc2XuHJTV4Kju2anNlQoZCSG2vIbN/0syo9SOx4aVWnFNnUIlv8wrfre9k29xrg2drHCnMLNJzhq6vOfL/xdoBHvNujjztURmDZrciBZxxgksgAAIABJREFUy1cuN9NnTfFGIqxavTLwLOpCwqNGNtowzr3hpIA1VxzUlO+woNh38Ke+W/lx4/3rRvQHPHIuXD+LERzlhd63GhGlMmHzO3zcaqutvP+SE6R3Gic4plHWXMExasMaRSCN/2w4TeHrQoLj0ikjzfyh3b1NYVYtWldnhv2x18tnTTRf3nykLzr2b7ynfeQda1JwLLRpTCAiMRdpCI5x78a4OlUj18NlMum1RvQlMa7gGDed2PqjdZNt+PqYl0Z5l99xYpQNV0cJgTZsV3B0p5y//fbbrpOcczvSL5/gWGweKZA0BMdy2h05CXVuuMsvaNmVfMYdLRoWHLVkk51dYfPBPWo6vrshXrmCo/tBSOs05jNqQ9m4uNPqy22X5AvTPqsP9f4L77YN1J22Di50bPH49TYZ3lFtEX3802jGKTOSLUv1/mdvBcLW7AdrXHFQcXnv0+D0YC3lcpGzPrRmXWjd6nzG9bMcwVFt5ijjCo5XXXVVlBVvsyJb3tIWHNWGd9ebVRlWW6VYU0hwpP4ulij2K5VAJgRHrQMVZYoVHDUNM8poRKN9qenofrmLEhzdTWWsf+6C3vKjvgmOWmsuqck3wlF+vPbYGb5Y98Ttv0vqrQnvcK2pzta44l6xguPQvi/68bn7yu0T70Ld5sY9fXddXg02CBQvN071SXBUZ8WWV3WUJQgm+bm7PFvuccckDchyBMfwVEtV/BqFqykU+p+qYyjjruFY24KjRhnYBdztlEs19sXejoLW6BM7MkbMxNiu6+h21pSWNPItSb7UleDoTgXUVPpCxh2hPnlyUITL57bUjof8vL9Dc7/R3u3z9701FTVaQI30q++6MBBsPsHx4z6dfX804lAjEPL93FGJj70c3CxCIxBth0XrQyUx/b7s6bvRGk2uccVB7aYZZazIasN9s0v+5RZcP4sVHN3wNZJVnW3V6RpVYN9jOup/E95ALU5wTKOsuYJj3AyANP6zbvqjzgsJjtqF2o4inP7R9ztnR/nj3pvd5w3fjdxq7ShrEBzX88qdO2tAAoBdb1hlUeU0SZ0qO3KbxLiCo5bjiDNaisLWIVr/TCaN8i5/XMFR9USU0eZq9n/p1mFXXnmlf/+JJ3I/0Fq/NP3buq9vgmO57Q6bxqijuwTOT3/60ygr/r3rr7/eZ+QKjmr3uBtZ6qOl8kAjYiUG2kET7hqO5QqO+phq8ytuA0Ibca27be1qppU15bZLrD/5jvWh3pfwZuvMBjefkrfOv+Dmv/t2jzpnH7Nw8QI/eVpaxfqjj4JJjTaPse5e6vy078wVB/Xcfkz1LRhjps6cZNx1nDUyc0nEGtDWjetnOYJj3ICAuhQctRybZijp/+Tuvv7www/b5Cc+FhIcqb8To8RihROoKsHx5ptvzslOiQpqHNhKVEe3Mai16dxnOnc3r7AehqdlhwVHbWjj+lNojRfrb9RRX9S1aU4xv7jGZZT/hQTHL/u84At1Gh04anDuZglR/n70yjW+u2YNNjQLvl23M7Mr7hUrOI4f1cP3V/FJMspR8Wvb/GDfXfe3bs2Jshun+iQ4umufnHxy/vVh1FHRjtLFfrlL0oAsR3B03TZq1Ch2DT9temL/NxpxaI27hmNcg0Z2yxnhKPeaDmLD79q1q3/u7h7qjmh0/+ca1eyaNPItSb7UleCotLoiYtw0e9nTiFjLVcfly5e7qPKel9Px+HL0QL/Brt2qB3zV17/+sGfHQLj5BEft8mwb/o++uO7DScAD50Iio7V/wkW/N+5Ixhvva+w/a9rm+5G0jtPI0/FTxvhutBOma1xxME5w1KjKf11zvO/HkefsbcZMHOl6Ezh3/SxWcNT7J2qHao0Q1gYTVlxROXCXIFAE4gRHPSu3rCURHNP4zwZARlwUEhy/avH/fPFwWLMTInzIvTVvyMe+mz5nb2PWOiNnERxzBUcRdNck1qZh+YxG52ldvWKMKzi6H7XDfmjJHvtuPOigg/zH5ZZ3eWTXHJb/cR95NHrRhu8Kju6oPNWrccbdeb6+CY7ltjvi0mzv25GdmrmhUbNxRlwtY1dwdEUYfbTTqMkoow3wrPtDDjkkYMUVld0POHFTql0RMW5qqw3AXUJGaz9aU267xPqT71jX9b7WO7Z1+BFn750zcyAcd80sUL1q3bhLn4ydOMq/r+eTZ0TPcgr7qaVgrH/utGhXHNTzKMFRfr3X403fvezd9nD0yELZdf2sNMHR3dm6ZcuW/n9JS0FEbQobzgf3upDgSP3t0uK8mglUleCodXHCjSx3jQhbgbs7FE6fPt1/Gdnn2t3KNRrxaNessXbCazi2a9cu4I++ptdXU0hwXLliqXngml18se6Ba3c13876Jm9yJEo2vWB9383LDwWFMlfcK1ZwXL50gXE3hHmy6QFm/txJeeMza+qIQHw0SjJs3DiVIjhqUw9bHsIjaJI00OKmf7lTnlSO8q09og6L4qCveE8/ve6LaDit4esk8XMb78VMqZZddyp1XMN8ypQp/uhBpcHdJKW2BEd1BmweuuKHNqWyRounWzsakaJzpU8fBFyTRr4lyZd8gmO+MunGNd+5u1Ol3o+useKrGDRt2tR9FDh3mYlrMaacjoeE979depjX6NZu1c0fvc471wgEbdLimjjBccacad4aSbbhrx0mC5lJ08YHGvpdeq/bwEwLxFu/FKfBI78o5J1p90Yb382Ft5wWsO+Kg3GCoxyMGv+V0TRyG7Y6FepkRBnXz6SCo5YesWvR6aNenEDjLmmipUlcU5NlLYngmMZ/1k1P1HkhwXHia3esEw/P2toUGuWoMv71I418Nxph4RoEx2jB8fTTT/ff4+H62uXnLqNR6qYxGjlvNyJz/da5RB9bn7iby6TxbpU4Zf3u2bNnOGjvWrMmrB1XcJQIa++rvRtXb7uzEtIWHMupv9Jod0QCc266ab/22mudJ+tOxdFt/7iCoyvoxS3zIJ/cpR7Cm+YVKzh269bNz1cNhIhry+m+bd+oHGh6uzXltkusP/mOdV3vt3zyJr+uvOn+eMHdTcPtbZr4bv7ZZN16ufrg+JdGB/nPJCSGN39z/dG52ifuCMW+Qz71rbjioOrzOMFRDhR3W+fr6K716HtYRYKj1u91/zMaMZx01Lp4FRIcqb/dUsV5NROoKsFRlaQ6Pm3btvXEC414dEdX6LnWznEbgloQ3J1qIzta+0GipKZby69dd93Vr7D1XL+w4OgKF9aOvhBq8egHHnigXpXBQoKjIqs1GDWa0P40lVn3tMaja7RRS58P7zctL9nct9u84cZm8ti+rrXA9OViBUd59MFLV/n+K06tL9/WW9NR4qhr1Bkb0uvZQHxaX76NWbF8sWvNOy9XcNSQfZvX4WUBkjTQ4gRHRe6YY47x/dYucJrGFDbuDm+amhPXQQi703WS+JUqOEp4cP93b7zxRk4UJJpplLDlp6O7blRtCY4apaf1JN14aBSD2yDp3bt34LnsamRmlCk335LkSz7BMV+ZjIpv1L2jjjrKT68rvMqu8tKyUqdaU7/CRh9orBAlu9qxuBhTTsdD4bg7SNqGt7uJjI1LnODoin3h9ROt26jjJU3/5Tf0dW7NkmWLAxvBaFH6Fzu1DZQxa3f16lXm0ZfuDgieb3d92T72jq44mE9wlOXnOj7hx0kswmtNWY9dP5MKjmrI2xE/ymfVdWGj97F2rbZlRp1f19RkWUsiOCou5f5n3fREnRcSHFfOn2n6nr+DLyBqivTXbRqa5bNzP6qt+HaaGX7XaQG7U965PxAsgmO04KiZK7YcShByP3BZgFoyQ207a6/QiDDrTkd3hKPca2dWTZ92zRdffOG3NzfYYAMzbNi6ddbSeLe66/VJwNT/zzXaNMSmTUdXcJQ9V1DT/za8TIvWWXPdpy04llN/pdHucFlFnbtiovoN4RHb+jjstpvEyhUc3R2jNeI2yrgjTeU+vF6kK54kGeGoMig/bL5pcyC9u10jO5pCbe3ova7ZYdaU2y6x/uQ71mW9L0HPFfvc9RPzxdmdQaH6VdfWtH/zkUDdq6nVcSMdlfYzmhzn2z/5ssON2gLWFCM4Llg835zU+BDfL61nrRkTYeP6WckjHJVutWPdPsmDDybfDLWQ4Ej9HS5ZXFcrgaoTHG2FGXfs0CG446cKxoknnuhXtHHuwvfDgqO+Joft2OvwGix1XRiTCI6KY8d2DQIin4Q+jXZ866lzzIcvX21efeQ0c//VO+fYGdL7uZwkuuKe/Lnrsq0L/p6562jfn2VL5plHbt47J6xmDTbw7mtE5VPNDjJ3XvzjHDsDekSvi+XGqZQRju46O+rAaBi/vmBr5F6SBlo+wVFityuEacff5557zmj9Je1uqCn+6rDYMnb55Zf7rJKcJImf23CO+yoet2mM28DV+o3aVOLrr782/fv3N+q0hMVGpUPivjW1JTgqvKOPPtrnqHicdlpwRJka53atR8vbnXJt46xjufmWJF/yCY75yqQbz3znbqdT7zl1ut3Rs+6C9up0tWjRwnz22Wfe78477/Q71JZluHOTL2w9K7fjoR0jrdBojz2+WDdd34YfJTiqg37KFUf67t11lKy7uGN4OpMWjLdGIp6Niz1qtKPWbLqn3e3mwWfvMP9peb6x601aO1onShvYuMYVBwsJjhLOGzc9MxB2eGq5/Hb9TCo4yp277ptGRWm5Er2j9F+XAONuRKHRNeEdf2uyrCUVHMv9z7p5E3VeSHCUmxld2wdERLumY7+Lfm6+uvNvZsRdp5sBV+6bY2fwtQeb1UuDu5C7gqP8kR/F/KZ2eiiQDBsXHbO6aYxNkKY623e46myVXy2lISFcm438/Oc/95/rnZ9vdoH10x7DgqPCUfmXkKj2oWbOuB+3tdRI2JT7bn333Xf9+Cv8v/zlL169qjbDWWedFWhT6HlYcJQAqo+XlpE2dZNApXaNnU1hn+mYtuBYbv1VbrsjnB9R1//+9799PmKgPLvuuuu8teHdD22Wkys4utPZ9Vxs9Z6aNGmSV0406tEdHSk7O+20UyAaxQqOcqz62cZHR4nRr7/+utceU/l02x1aezc8OtZ9HrcZUL52SSABMRd1We+7dffxFx4QWBIlJrrebbUXTr3iKL9+dT9sStDTOpC2LrdH2ddGblqGpekj1xgJke7O2LLX/fMPAsG64qCe5xvhKIdfDO0VCPesa/9qtMyKa1w/K11wVLrddVU1qEhLWyQxhQRH+UH9nYQkdiqdQFUJju4aPW7las/VwHNHLtnMl0AUNYrRulMjsdAu1fpCaDecsO7sUY3Y+mSSCo6qTD9+/cYcAc+Oegwf72i0qenbJfrLkSvuhd3FXT/6330C2DSNWtOp4+yH7ze/cCPT873g9HjXQzdOpQiO+gJsBTeb1zpqXbAkDbR8gqPiqWn64Y0X3HDsuTo1xYo6SeJXjuAowdAVRG1c3aO+omtkqL2nhrw1tSk46munjYOOWvMobNx4yo42HYgz5eRbknzJ17DPVybj4hu+rxHZLg+du6Mx1Al31woL27XXWn80LDCFw4q6LrfjIT9d0VBrIIZFO9mJEhz7D+vjN9QPPXMPM2desh1q5Z8a8O4oifs6NAsk753urxqJjLbjUegosXHewrkBP3ThioOFBEfZnz57qhEDG542oZk8PbimlOtnMYKjZgtECRG2DNij1iuLWhu5JstaUsFRjMr5z+ZkUOhGEsFRTqa+94jpe95Pc0RFV/Bzzwdf/0ezYs66dZJtsGHB0XWT5Hziq82tV97RdZN1wVGzANxRtbZ8ho9aokR1UDHGFRwl1IX9dK81qjY8elBhlftuVTvUXabADdOeS3jU/1HXYcFRcejTp0/OuufWrY4SMe21Wy/IbZL6K1+7p9z6q9x2R5L8VhwbNmzoM7As7FFtQveDqtqD1qj/oRkr1m7cUe0Nd/S4PuBYU4rgKLd33313YAmbqLAlxESV+yT5mq9dYuOe71iX9b47O+Hudrfli2bOM3cko5YwmTt/3WZNqr8vvv2fft1r6+C44xFn723e+vilnDBccVBuCwmO8uCBZ1sEwm3dNriRletnNQiOaqvoA4kt94cddlikHhCGn0RwlBvq7zA5rquNQJ0Ijv/4xz/8P7X+3OFGidbPsX96HTVaK8q4X5tlT+sxWqMh0q4fOp84caInDIbXW9Q066iRjdYvHfW1Q1/93K+7OtdLSQ0wd60nheXugGj90ciOsHCpYdwHHBBcY8nar6tjUsHRxm/ahIGm49MXGAmKYVFP17r/bodGZuG8qdZJzrHzc5dGuo3yz96L2iFbDbaBn7Y1Lz/8d3P/NT+L9FPrPWqn7RmTh+bEw71RruAov1QONYLPLYtapNidphdeV9TGQTsg26/ZakRGGW3GcPzxxwd2WrNh/exnP/P+E2oAF2uSxM+KSoqjOglRxors+rIfNurw77333gE2irtE1PPOO8+ogTpnzhxfmNSIEvtBwP0i7+6WGA7DHWEVNUUubD/qWowtUx3dxr21rxGa1k54wyhrxz2Wmm9J8kUdVRuX8PpOikNcmXTjl+9cHxq0hpT7LlQHXPetkZCoNRy33XZbPy42TupwabRQKeVS/hfqeKxZu8ZIDFTDWwJelNFGL7ZRHzeN2N1UZeacaZ43d7W9xXenEYfFmlZP3uy710gJl5n8UjjqCGhko6Y62Ti6R4140K7S9r8QjoO7Qc3jL98bfhx5rVGNbhjqBLmmVMFRfmhan0b4hOtdlQe9FyRQqG6OMjVZ1lwB6NJLL40KPnCv1P9swJOIi6SCo5wumzHOjGt/rRl663E506yt8Df4+kO8zs1aZ8qdG+z0Lk8nFi2tn+5x8pvBTZJcEXTx+C/doEo6XzF3ih+/Ly7ZPbEfSd6NSepUlTlNW9XIMfvOskfVdZoKrVGvxRr3I5naqvpZYc/6r1G+em/G/bcVZrnvVr13NSo9/LFSIqjey0r/zjvv7KU9vBSMTbM+wmtEkJhvtdVW3gZOsquRklOnTvW5qc3smjTyqNz6q5x2h5uWQucauahZLZoFoLpS7SW9Z8ROgxtsnoeXkdAyLmq3uDNYrN0999zT+2CtsN22jbtcxYEHHuj5rbLqzjzp3LmzH6Z2po4yWu5E63yGw5ZfyrtevXpFOUvUni3ULon02LlZV/W+Piq6daM2jynGqE4/5MzdfT9eff+ZgHP931T/alSj+yHUDfPYC/bzRjtqLegoo9GJNgwdC60HKT9kRyMb3XD0QdWacgTHJO1zd7R13Hqn7iaM7tJj6nPb/0R408i48p/PjU2z3tEq69bvQrqA3CUVHGWX+tuS5liNBOpEcKwN0FGCoxV2NNpLa6288847Jm74f1wc9RVELyX93LUe4+yH76shqdFP2jFO6/WU4kfYz7SvixUcbfhar1Gbx0wY/ZkZM+xDM+6rj838ORPzNp6t25o6Llk424z9qov5+sv3vJ/E0VUrlyUKLg3B0QY0fvx4o8acRlCogZG20ciFUaNGeWW6e/fuXrnWvfpu9H8QG01b69Spk7ebbU3wqa8c6jLfyi2T6ryrTEuAzbfLtDaW0Q7j6vAMHTq0ZKHR5mGhjoe1l/WjhFOtraTpUz0HdjNDRvY3s+YGN+mprTSWIzjaOKreHTlypFFHQ/WfdoNM+l+vq7Jm4+4e0/7PFiM4uvH4bs1qs2TSCDOnX0cz78uuZsHI3mb57MmulUyelyo41kRiJZar86zyqjZj3Ie1UsNW+Ve9Lf/1Hk36f7DhlfNuVd0r4dT+F62f+Y753vPWndv21uyKmjLl1F811e5YsSK4vEVc2t0ZEXE7UausDRo0yFu7WmLJokWL4rxL/b7Soenr2jVb06fDm8OlHmACD6ul3l+4eIGR8Nej30em7+BPzejxwxNP4U6AMbGVcgTHxIFUgMViBEc3udTfLg3Oq4FAVQqO1ZCx5aSxVMGxnDDro9s0Bcf6mD7iBIEsEqiWjkd9yps0BMf6lJ76FJdSBcf6lIY041KfBMc005V1vzTLR6N/NHMi34hgd/SeRkxWk9GIRo0c3X///b2ZBFFp14cWTU3WKKqNN964VoXEqPhk5R71fu3mFIJjMt6lCo7JfM+eLerv7OVZbcUYwbG2SGcoHATH7zMLwTFDhZaoVg0BOh61n9UIjjXHHMExyJYOS5BHfbnSVGx3qq1G3YWNZirY6Yg6arZFNZnbb7/dT7+Wugkbjax01zusbxtGhuNbn66p92s3NxAck/FGcAxyov4O8uBqHQEEx3UsOPuBgCs43nvVjubR//7a+2mqdKWbLq9e76f3jos289eALGXTmEpnRfogUBcE3I7HXxv93tx4X2Pv1/b16A2p6iKOlRCmFqe3bN2dNovZNKYSONR0GlzBsc/Z2xqtwajf6DYX1nTQ9cb/5bMnmSE3HOqle+BV+5W0hmO9SUwFR8TdVV7io9Ywb9asmXn44YfNueeeG1jXV7szFztFPOvotE671mW3oqvWsNZ61I8++qjHyd0sRpvm9ejRI+tJrrX4U+/XPGpN57Z1/jWtG/rrOxa7aUzNx7T+hOAKjv0v+5Vffy8YmftBpv7EOt2YUH+ny7NSfUNwrNScLSNdruBoN2jRcXj/N8rwNRtOtdmMm2Z7juCYjfwjlpVPwO14uAueaydJTHoE7nziRr/D4XJGcEyPsXwKCI5nbe2LbRIdq8UsmTDMT7e7QU0xm8ZUC6u6TKc2/thtt918Qc0Ka+GjhMgZM2bUZVTrLGx3A7kwF3utTdaefvrpOotjFgOm3q/5XNMGN25db88RHOPZu4KjW3fN6fdOvKMKe0L9XWEZWkPJqVjBUQtKa/dL96cFwDGFCXz4UhPTvuXhOb/JY/sWdpxxGz06NstJt1iMGfpBxlNG9CFQGQSmzJhotIty+KfdnTHpEXixU9scxmI+aES/9ALBJ2/jl2HNTjDh39inr6oaOpqGNax5LoPRDxW/E3zVQKujhGqjw0ceecRbp3DzzTf3xUetXajpwu3atTPaIKqajTZcOfPMM73dvjWSUUKjjtr9+4orrjAjRoyoZjwlpZ16vyRsRTlasGie0YfbcNuqxWPXFeVPNVke//zNOXW36vJFY76oGgzU31WT1WUltGIFx7Ko4BgCEIAABCAAAQhAAAIQiCUwb9681Hfvjg0sgw9WrVplZs6cWfUibAazjihDAAIQgEBKBBAcUwKJNxCAAAQgAAEIQAACEIAABCAAAQhAAAIQgIAxCI6UAghAAAIQgAAEIAABCEAAAhCAAAQgAAEIQCA1AgiOqaHEIwhAAAIQgAAEIAABCEAAAhCAAAQgAAEIQADBkTIAAQhAAAIQgAAEIAABCEAAAhCAAAQgAAEIpEYAwTE1lHgEAQhAAAIQgAAEIAABCEAAAhCAAAQgAAEIIDhSBiAAAQhAAAIQgAAEIAABCEAAAhCAAAQgAIHUCCA4poYSjyAAAQhAAAIQgAAEIAABCEAAAhCAAAQgAAEER8oABCAAAQhAAAIQgAAEIAABCEAAAhCAAAQgkBoBBMfUUOIRBCAAAQhAAAIQgAAEIAABCEAAAhCAAAQggOBIGYAABCAAAQhAAAIQgAAEIAABCEAAAhCAAARSI4DgmBpKPIIABCAAAQhAAAIQgAAEIAABCEAAAhCAAAQQHCkDEIAABCAAAQhAAAIQgAAEIAABCEAAAhCAQGoEEBxTQ4lHEIAABCAAAQhAAAIQgAAEIAABCEAAAhCAQFULjgsWLDAzZszwf0uXLq2TEjFz5kw/DorP2rVr6yQeSQKdPO5zM3F0T++3Zs3qJE4K2pkyrp/v55KFswval4WVK5b4bmZNHZHIDZYgAAEIQAACEIAABCAAAQhAAAIQgAAEap5AnQmObdu2Ndtuu23gN3/+/JpPsRPCkUceadZbbz3/d/XVVztPa+d09uzZfvg2Ln379q2dwIsMZdXKZabpBev5v+kTBxfpQ671VauW+/7J7w6tjjTfffddrsXQnVGD3vHdPXH770JP6/5ySO/nTN8uD9Z9RIgBBCAAAQhAAAIQgAAEIAABCEAAAhCoZQJ1Jjg+8MADOUKbxLfaNGHBsUmTJrUZvBfWrFmzcjj06dOn1uORJMDaEBwlOn7+8cMFo+MKjk82PaCg/dqyMG/OBNO+1RGeGPrG42fWVrCEAwEIQAACEIAABCAAAQhAAAIQgAAE6g0BBEdnhCOCY/5yWVuC450X/9jMnTk2b2Tqq+D4ZZ8X/JGXCI55s5CHEIAABCAAAQhAAAIQgAAEIAABCFQoAQRHBMfERbu2BEeNctQowXxrWSI4Js42LEIAAhCAAAQgAAEIQAACEIAABCAAgVolgOCI4Ji4wNWm4CjRMd8aiAiOibMNixCAAAQgAAEIQAACEIAABCAAAQhAoFYJVITg+PXXX5tWrVqZyy67zJx66qnmlFNOMRdeeKH573//a7p3727WrFkTCTVuDcdevXp5/p1++unm4osvNk899ZQZOzb/FF8FoF2uO3fubFq0aGHktkGDBuahhx4yPXr0MKtXR+/oXElrOK5csdQM+qydeeupc83Tdxxi2ty0l3nh/hPMR69cazTVeO3a3HwIbxpzz5U/8ack33HRZmbujDGReecKjvk2jVm6+FvTr+sj5p32Dc1TzX9vHr/1t+atp84xfT68zyycNzXH729GdDPd3vyv/1swd3KOHd0YPbiTb6f7W7eZxQtmmm5v3mKev+8vfvwfun63H+zcYpLuvh0ZGDchAAEIQAACEIAABCAAAQhAAAIQgECGCGRacFy2bJk57bTTzPrrr5+z8Yrd8VnHE044wSxevDgnW8KCY+PGjT2R0HVrzzfZZBPz8MPxm5kMHjzY/OpXv4qNx6GHHmomTJiQE4c0BEcJndtvv73ZbrvtivrttNNOOfHJdyPfCMeF86aZB6/7hS+2aYRi+Pd0iz+ab2eNCwQRFhw4bksvAAAgAElEQVTHDP3ANL9wI99tuzsPi5xanURwHPtVF3Nfk518v8Lxueuyrc1XX7wWiM+EUZ+aZg028N28cN9fA891MXvaSCMx1Pr33L1/NpPG9Pav7X33OGVcvxx/uAEBCEAAAhCAAAQgAAEIQAACEIAABCqRQKYFxxNPPDFW4LNCoT0eeOCB5rvvvgvkYVhwtHbzHaM2lnnnnXeMBMl87vRsq622Mr179w7EIQ3BcdGiRQXDjorbBhtsEIhLoYs4wVFcn7ht/4Dg9vCNe3ijCZs12DDnvhtOWHDUSECNFHTFuj4f3u868c4LCY5D+75oml6wfsCfB67d1WjUYfj+F90eC/j/8Ws3BNwN6fWs/3z16pWBtN7zn596oxunTxpiWjXeMsdv3dNv5uRhvh+cQAACEIAABCAAAQhAAAIQgAAEIACBSiaQWcFRU6XDItqPfvQjc9hhh5nDDz/cbLzxxjnP+/fvH8jLOMFx88039/zZZZddcvzYcMMNzciRI31/NLpw5513zrG33377mYMOOshI1HPjefDBB/tudZKG4KiRnvJX4RXz06jLYkyc4Dhj8lBfoJPAOH5UD99bTWnu9f7d/nMJiRoNaE2U4ChR77Fb9/XdaDThnBlfWyfeMZ/guGLZInPvf3bw3T9+235GgqA1Go3Z4a6j/Oca6bhk0Rz72Hii4u2/CzxftGCG91zTw9eJoesbjaJ0DbtUuzQ4hwAEIAABCEAAAhCAAAQgAAEIQKAaCWRWcDz//PMDQt4vfvELs3DhQj8PowTJF154wX+ukyjBUYKlREBrWrZsGQhH4qHWiLTmtttuCzzfaKONzLvvvmsfe+s3brbZZgE7nTp18p+nITj6ntXwSZzgOPDTtr4Ip92lo0zbFn/w7LRouIknQFo7UYKjnk2bMDA0tfrQwNTqfIJj19dv8uOjNSFdMdGGu2bNavNk0wN9ex+8+B/7yDuGp02/9tgZZvzITwIjGD9+/caAG10gOOYg4QYEIAABCEAAAhCAAAQgAAEIQAACVUYgs4Kj8mnSpEneJi133XWXGThwYCDrtEmL1jV0Rxc++uijATthwVGjIsePHx+wo4sjjjgi4M+2227r29lrr70Czy699FL/mT3R5jVuPP7613XrAlaC4Djuq4994a55w41Nz86tzPKlC2zyvaOmSs+fMzEgGupBnOCoZ93futX3V6MKtdGLNfkER1dI/LzLQ9ZJznF4/9d9/6M2ntFmM+tGMwbXpJSAKtEybBAcw0S4hgAEIAABCEAAAhCAAAQgAAEIQKDaCGRacHQza9WqVWbAgAFGouI555yTIzZK8Lv33ntdJzkjHI877rjAc3vRoUOHgGAovxYsWODtfh1eu/Huu+/2drTWrtb29+STTwbca3MZaypBcJRo6G6iIpFOG790aHWk+axTSzNtwqCc9TNt+vMJjjlTqxttauZMH+05zSc4fr+W4vcC4ZtPnm36fvRA5O/Dl6/2BcWWl2xuo+QftTalNo0Ji46tLt3KzJuTuwGQHCI4+vg4gQAEIAABCEAAAhCAAAQgAAEIQKBKCWRacJQg9PLLL3u7UIenLbsjCu35/fcHNx8Jj3DUNO0oEzU9e9CgQWbcuHEBIdGGU+i4xRZb+MGkITiuXLnSXHjhhd4O2w0aNEh8vPjii/14JDmJm1Itt6MHdzJ3Xvw/OeKcFevuv3pn0+XV643WV3RNPsFR9iRWurtWa6frtWvXmjjBcfHCWbFxsHGJO9p1Gt346Z7ESNfN4F7PuFYC5wiOARxcQAACEIAABCAAAQhAAAIQgAAEIFCFBDIrOGpE43nnnRcr+IU3a5EI+NBDwem1YcGxUaNGkUVA07XDIqJ2m9YvfD/ptXaWlklDcKzrXaottOkTB5tXHzndaJ1GV6Bzzx+5eW8zd8YY6yTvlGprqftbtwX86/3BPbGC46ypIwJ23bALnWvdxrCZO3OsuaPRpgE/Oz17Sdiaf43g6KPgBAIQgAAEIAABCEAAAhCAAAQgAIEqJZBZwfHaa6/NEfv23HNPo/valOXbb781Bx54YMBOmzZtAtkcFhzdzWBciz9ACvg1depUb73HsMCo9R41UrLQrz4IjtpxuxiTb4Sj68+K5Yu9EY/vPX+Zeej6XwbEOol+EiWtKTTCUfbWrF5lHr/1t74/EgB7vneXf+2uv6iwXWFRO2LPmz0+0U/huEZrNNrNblw/dT56SGfXqn+O4Oij4AQCEIAABCAAAQhAAAIQgAAEIACBKiWQWcFR4qIr9v35z3/OWScwbKfQpjFbb721Wb58eU5RaNq0aSCsTTfd1AtLG9NoV2o3Hs8++2yOe015Xrp0ac593UhjhKP1Z8aMGaaY3+zZsyPjFHczTnCUaDhj8lAzvP8bZvGCmTnOZ075yjx9xyG+EKg1EO2GK0kER3mo0ZPakCYs/OnaFRxl996rdvTtxQmDsqf0TBj1qef30sXf5sT7k45NfX+aNdjQaFq4DV+7X2v6dtggOIaJcA0BCEAAAhCAAAQgAAEIQAACEIBAtRHIpOA4c+bMgMgnwU8bs7hG06A1gs8VAwtNqZbdW265xfXGzJs3z2y33XYBf/bdd1/fzm9/+9vAM42q1BqDrjn22GONpnj/8pe/NH/7299MixYt/MdpCY6+hzV4Eic4PnPX0b4QFzfdeMq4fr4diXZ2vcSkgqOS5QqAVviLEhzd+LRvdUQskb5dHvTjpGngK1cs8e1OHve5kchow/n4tRvMgm+nGHdDmpcePMm3b0+G9n3Rd/NKm1PtbY4QgAAEIAABCEAAAhCAAAQgAAEIQKBqCNQrwXH33Xc3++yzT8HfE088kSMmHnDAAWbMmDFGowk7d+5s5JcrNuq8ZcuWgYwNT6m29hs2bGg+/PBD8/rrr5s99tgjx5927dr5/mhEo3Vnj3//+9/NqFGjzOTJk83tt9+e8/yiiy7y3VeC4NjtzVt8kU2jEKN2cB7Q4ynfjtZxtKYYwdGbWn3bfr4/VgwMj3AcOfDtgJ1P322RM/pVIzLvuvR/fXtvPXWOjZLRtOyHb9jdf6b4rl61wns+8NO2/n2F3/+TJ3x3Ohkx4E3/+eO37ZcTbsAyFxCAAAQgAAEIQAACEIAABCAAAQhAoAIJ1CvB0Qp2hY4S8cLrM1o3P/7xj3MEPvvMFfqUl3GCo7Ufdfz1r39t1qxZ4xcFTauOEjej3OqedtOeNGmS774SBEdt1OLuJK3pxp++e4eR8Des3yumY7sGgeddX7/JT38xgqMcTZ80JGdqdVhwlL3n7z3eF/4kDHa46yjTr+sj3tqPLz30t8BGMC0a/cjMmPSlH6d3OzTy3WqUo0Znuua5e/7kP7/z4h+bOTO+9h9/M6Kb/0zhSnRUeIo3BgIQgAAEIAABCEAAAhCAAAQgAAEIVAOBzAqOn3/+ec4ox7DIFx6duNNOOwWmO4cFxyuuuMLkEyx33nlno6naYaN1Ew877LBYodPGS35369Yt4LwSBEclaMAnTwaENjv6MHyUEOiul1is4KiwenRsFggrSnCcP2eiear57wP2wnHRtQTFUYPe8fNk5KCOATddXr3ef2ZP5HfLSzb37Skcuyal0tay8Rb+MxumxE4MBCAAAQhAAAIQgAAEIAABCEAAAhCoBgJ1Jjg+/PDDBQU6K9SFj3YNxE8++cSbfh1+LqHxgw8+8EYShp998cUXfr4ec8wxgTh0797d9O/f3xx00EHemovW7cYbb+ytvZhvk5VVq1aZa665xuy2225m/fXXD/irtSTPOOMMM3ToUD9sezJ37tyAXYXZr19wRJ21W9dHTSt2N27RyEbXaETjY7f8Jkdsk+im3aq1BmN4fcvVq1f6fkr8W7Zknutl5LmmVj9x2/5+ONqQJsqsXbvGfNappdGISyv8uUetwThtQlBAfvDan/t2H7npV0aCaJTp3/1x3578HNzrGd+aNqK5r8n/BZ5/8NJV/nNOIAABCEAAAhCAAAQgAAEIQAACEIBAJROoM8ExLagSsL755htvzcUuXbqYOXPmpOL1ggULPNGyT58+kTtX5wtk4cKFplevXqZjx47eiMj58+fns15xz7R78/iRn5jh/V/3jsuW1n36lyyc7cVlxIC3PJExibBZbsbMnTnWm0q9aP501nIsFybuIQABCEAAAhCAAAQgAAEIQAACEMgMgcwLjpkhTUQhAAEIQAACEIAABCAAAQhAAAIQgAAEIFAFBBAcqyCTSSIEIAABCEAAAhCAAAQgAAEIQAACEIAABGqLAIJjbZEmHAhAAAIQgAAEIAABCEAAAhCAAAQgAAEIVAEBBMcqyGSSCAEIQAACEIAABCAAAQhAAAIQgAAEIACB2iKA4FhbpAkHAhCAAAQgAAEIQAACEIAABCAAAQhAAAJVQADBsQoymSRCAAIQgAAEIAABCEAAAhCAAAQgAAEIQKC2CCA41hZpwoEABCAAAQhAAAIQgAAEIAABCEAAAhCAQBUQQHCsgkwmiRCAAAQgAAEIQAACEIAABCAAAQhAAAIQqC0CCI61RZpwIAABCEAAAhCAAAQgAAEIQAACEIAABCBQBQQQHKsgk0kiBCAAAQhAAAIQgAAEIAABCEAAAhCAAARqiwCCY22RJhwIQAACEIAABCAAAQhAAAIQgAAEIAABCFQBAQTHKshkkggBCEAAAhCAAAQgAAEIQAACEIAABCAAgdoigOBYW6QJBwIQgAAEIAABCEAAAhCAAAQgAAEIQAACVUAAwbEKMpkkQgACEIAABCAAAQhAAAIQgAAEIAABCECgtgggONYWacKBAAQgAAEIQAACEIAABCAAAQhAAAIQgEAVEEBwrIJMJokQgAAEIAABCEAAAhCAAAQgAAEIQAACEKgtAgiOtUWacCAAAQhAAAIQgAAEIAABCEAAAhCAAAQgUAUEEByrIJNJIgQgAAEIQAACEIAABCAAAQhAAAIQgAAEaosAgmNtkSYcCEAAAhCAAAQgAAEIQAACEIAABCAAAQhUAQEExyrIZJIIAQhAAAIQgAAEIAABCEAAAhCAAAQgAIHaIoDgWFukCQcCEIAABCAAAQhAAAIQgAAEIAABCEAAAlVAAMGxCjKZJEIAAhCAAAQgAAEIQAACEIAABCAAAQhAoLYIIDjWFmnCgQAEIAABCEAAAhCAAAQgAAEIQAACEIBAFRBAcKyCTCaJEIAABCAAAQhAAAIQgAAEIAABCEAAAhCoLQIIjrVFmnAgAAEIQAACEIAABCAAAQhAAAIQgAAEIFAFBBAcqyCTSSIEIAABCEAAAhCAAAQgAAEIQAACEIAABGqLAIJjbZEmHAhAAAIQgAAEIAABCEAAAhCAAAQgAAEIVAEBBMcqyGSSCAEIQAACEIAABCAAAQhAAAIQgAAEIACB2iKA4FhbpAkHAhCAwP9v7zzApCjSN26801PP89S/4TzPO7Oe2fNUUM946pnOnIkiCgZA5RRlCQIiIFmRpKAkEUkqWRQk55xzXsIuOVv/522s2q97Os30zOzMzlvPs9s93RW++nVXV/XbFUiABEiABEiABEiABEiABEiABEiABHKAAAXHHLjIzCIJkAAJkAAJkAAJkAAJkAAJkAAJkAAJkAAJpIsABcd0kWY6JEACJEACJEACJEACJEACJEACJEACJEACJJADBCg45sBFZhZJgARIgARIgARIgARIgARIgARIgARIgARIIF0EKDimizTTIQESIAESIAESIAESIAESIAESIAESIAESIIEcIEDBMQcuMrNIAiRAAiRAAiRAAiRAAiRAAiRAAiRAAiRAAukiQMExXaSZDgmQAAmQAAmQAAmQAAmQAAmQAAmQAAmQAAnkAAEKjjlwkZlFEiABEiABEiABEiABEiABEiABEiABEiABEkgXAQqO6SLNdEiABEiABEiABEiABEiABEiABEiABEiABEggBwhQcMyBi8wskgAJkAAJkAAJkAAJkAAJkAAJkAAJkAAJkEC6CFBwTBdppkMCJEACJEACJEACJEACJEACJEACJEACJEACOUCAgmMOXGRmkQRIgARIgARIgARIgARIgARIgARIgARIgATSRYCCY7pIMx0SIAESIAESIAESIAESIAESIAESIAESIAESyAECFBxz4CIziyRAAiRAAiRAAiRAAiRAAiRAAiRAAiRAAiSQLgIUHNNFmumQAAmQAAmQAAmQAAmQAAmQAAmQAAmQAAmQQA4QoOCYAxeZWSQBEiABEiABEiABEiABEiABEiABEiABEiCBdBGg4Jgu0kyHBEiABEiABEiABEiABEiABEiABEiABEiABHKAAAXHHLjIzCIJkAAJkAAJkAAJkAAJkAAJkAAJkAAJkAAJpIsABcd0kWY6JEACJEACJEACJEACJEACJEACJEACJEACJJADBCg45sBFZhZJgARIgARIgARIgARIgARIgARIgARIgARIIF0EKDimizTTIQESIAESIAESIAESIAESIAESIAESIAESIIEcIEDBMQcuMrNIAiRAAiRAAiRAAiRAAiRAAiRAAiRAAiRAAukiQMExXaSZDgmQAAmQAAmQAAmQAAmQAAmQAAmQAAmQAAnkAAEKjjlwkZlFEiABEiABEiABEiABEiABEiABEiABEiABEkgXAQqO6SLNdEiABEiABEiABEiABEiABEiABEiABEiABEggBwhQcMyBi8wskgAJkAAJkAAJkAAJkAAJkAAJkAAJkAAJkEC6CFBwTBdppkMCJEACJEACJEACJEACJEACJEACJEACJEACOUCAgmMOXGRmkQRIgARIgARIgARIgARIgARIgARIgARIgATSRYCCY7pIMx0SIAESIAESIAESIAESIAESIAESIAESIAESyAECFBxz4CIziyRAAiRAAiRAAiRAAiRAAiRAAiRAAiRAAiSQLgLFIjhu27ZNrVu3zvxt2bIlXfllOiEI5K+dp5bPHxXzt2f3dt/QmzcsVjPGfqlGDWyovu1aRQ3/+h015adOatn8n9TBgwd8wxZsWmHSw35Ut3//XrV2+VQ1dfRnanCP6mrYV/9TM8f3UBtWz/G1ZfOGJcYOyWDn9s1RTbKFLywsNPe/7QR/ZAyBHTu3qU0F+TF/B369l3fv3W07t7lgY1y2796zyxZ+5+4docIXbi8w4WBjFLd2wyr148Qhqtegz9W46T+pjVs2hIpO2o79MG7Hru3GbnBFOOTZjfH+/fvCRJk1fljes+ZSeRq6c80CtXXe2Ji/Az714t4t69SWaUPVqv7N1ZLP3lBrvv9YFc4epfZtC65P9m3bFJOWW/pux7YtnBiTj22LJ/vHt2C82rF8ltq9fqk6sNe9TP9yYL9rHDuWzYxJjwdSS6A4nym//PKL63N7u6iPtmzdZPOza/fOuIBsLrSHDxuY9WNYUtnrb//+/WrixImqbdu2qnPnzmro0KFq+/btpk29Y4e9LZXKspLKuBO5Qp9++qlq2rSp+umnn2zBFy9ebB3HuYKCAts5+SPe8LgW+n3eyV3GW1L2Dxw4YPKLey5eFzV82PSkznLw4MGwwSL5Q7vBrT2yc9Vcz3jZRvJEU+JOFIvg+N///lcddthh5u/iiy8ucWD9MrR27VpVu3ZtPy/Feq7j+zeqvLKHxfzNntjb1a65U/qqzz64VeWVPTwmjI6n5VvnqWmjP/cU+/p1Km/C9utUwTWdMAchivbtUFbVrXC0iU/boLf1Kx6jerZ+RG3ZuCwmyu4tH3QNN2F42xi/YQ9MmzZNffPNNzbvN998s7n/ly2LtcPmmT+KhcAbjV9Q1z9xbszf5NljLXva9WwWc275miWhbW3Y7m1b+Hpt3wgMu2fvHnVHuStNuDI1HwgM4/QAkbH6BxXU7WWvMPHIfN5d8R/W+TmLZziDmt+tv2xkwrb58gNz3Gtn8coF6p4X/mHClHr6QkvgfP+TmuaYtGHY2G+9ogo87lbeAgMlyYNX2rlQ3r3yniS0xR7NzLx/qzFPnxTzt3F8vxjbCmb+oCa9clmMXxl+8quXq/U/dFUQb9zcmu/a+IaXcbntH3B8wHDz43VsbJnT1YLWFRXyIe2DsOgWZsKL57llgcdSSOC2224zbQiICel085bOcn1uV8570jIDH+Xk8xz777Z4NbSJ6zeuiQmPeivIsX4MIpT957t3766OO+44c+/rd8l+/fqZY6++ar/XUllWklW3J6P+hAB2xBFHWBzq169vu9hNmjQxfDZscP+wnEh4P+42A0rIj2HDhhmOFSrE/646atQoE/7ZZ59NGZXHHnvMpDNlypSUpSMjRnvBrX0w9c0bpDdrn22kGCQl/kCxCI4PPfSQKQioLC666KISDxoZ3LNnj2rUqJE6/vjj1R//+MeMzXNYwXHfvt2qf+cXXAU6Le45tz1aPqQOHNgfk/dkCI7rVkxXrWpeENqeBi8er1YtmWCzJZmCI74wVa1aVR155JHq5ZdftqWTrEaKLVL+SCqBGo0rxrz04MVp0qxDguMnLoJjp69bh7IBPfjuKn+1Lf66bYIFxyE/D7CFgT2zF00PlSY8QcjzEhqdL4j43W1gB9e4W31RJDhCfPRzEBshYur4b3rmYjV68ggriKfgOGagX5Su5/zKm2uAJB4MSrskl/egvCcRc7FGFUZw/OXgQbW8Rx3XRrdbQxzH5rcqrxDO6YpTcJS2rujd0JhGwdGgKPadW2+91bSjFy1alFZ75i1xFxxfzHvCsmP/gf3mea+f+7c+f5nCqIAwDvWODqe3azasDAzK+jEQUVZ7mDlzpjr22GPNfa/FxqOPPlr17dvXHH/llVds+UxlWYlatyez/kSvRs1k0KBBNgZPPPGEde7Pf/6z7bj8kUh4P+4y7pKyj960mnH58uXjzpZk/Mwzz8QdPmyARx991Ng5efLksMEi+QsjOLKNFAlxVgem4Jimyzd16lR17rnnmgdAtgiOg3vUUDPHdbf+tm8t+iqGLtqHejUW9YSsW/4o9XW7p9X4Ya0Vej1OHdVZDfj8RYUehVJ47PPps7ZeE7gEUQXHA/v3qY9q/MWWzsfvXaFG9q2jJv/YQU0a+aka/nUthZ6W0pbGVU9Ru3cWmrsAAqTOb4d61xu/ifRw/O6778z1rlKlikkDO1EbKbbI+CMlBKTg2LlPG4WXGfwVbjs0BYSb4PjMG/eEsuXnKT/EvFCFERyr1n82Jlz9j98KleaUOeNtYW8rc7lq3OFd1fO7z9Sg0f1U94EdVb2P31QQBPVLHrYYcu10YQVHp9h4y3OXqgkzRpvo8OKqub7esJxJd1gCgqNfeTMJpmgnKO2SXN6D8p4i5GmPVgqOy758V+WP6W397S3MN7asH/G5TWwcV+YMtaj9K2rNd23VhlE91OqBrdSCNi+oMc+eYvO3ql8zE4fekYIj4pnb7OnQf/NblFEHHdMSSBFxxru3xcb14RNq9vsPqElV/26zDeE2jjvUQx9DpnS+pX3s4aivWvq2qRRRgnIhBcfn3rrPPMOnzB5nBXUTHFGXjBw/OChq63zZtx80dYGui8IIjqwfQ+HNWk8ffPCBaVNDOGvQoIH6/vvvFXrZ+QlfqSwrUev2ZNafzZo1M3zy84vqJVxw/f6JEYZeLpHwfty90snm4xQcva+eFBwxgkO3FQpm/WgCsY1kUOTcDgXHNF3ydu3amYoAX0eyRXBcMudQTyQnJszTKIW7Tg1vch2ijHBbt6xWbWv93eZ//jR7D6aogiPmZ5T2TBjexmmy9RtzSY7o857NL/Li5qRNFBzdCJXsY1JwXLg8dg4SN8ERL0fLVgcPb8trXT3mhSpIcMSQMv3yVaXeMwo9RvD7lmcvUVu3F4nmXlfltQZlTfjytR5W23ZsdfW6YdNa9UT1u4zfp2rcHfOBIIzg6BQbYS9ETy8n46Tg6EUp844n84Up83JXZJEUHAtm2+fH0r6m1PiHEeswjGhvYdFHOu0HW8yTKIdcT3jhr8o5BFoKejPeu0MGT2hfCo7bFtp79ssIfzl4QK38+gObKDqtZinpxdrfs2mVySsFxxg8KT+wcuVKNWvWLOsvXXN06UxJwfGtJpX1YbP1EhxrhRhWvXLdMlP36PoO2yDBkfWjwV9idzBSSPcu+/zzz2359BO+UllWMklwfOqppyw+Z599to0N1knQ3CDSerlEwvtx90onm49HFRwx0lE/tzH3ZapccfdwnFnXvfMF20ipuuKZHy8FxzRdo5IkOBZsXG6bI7Hj+6XU3j32SZqdWCE6Nn7lVCP0dW50i82LFPcSmcMRC8NowbFr03/b4nb70aXJncY/xFI3J22i4OhGqGQfi0dwlPMqBg2rxrAy9C6UL1PYDxIcO3zVwoTBIi+YE0vH0eO7zoEX41/P/934X7nWf97QpasWGr9IY9kq+5A9KQ66Dal2io0Yxj1zgf88MjJOCo6BlzNjPFBwPHQp9u/cagQ4iHtuC7fIi7Z1/jibf6eIWVyCo7ZxWfe8Ivue+aM6sMu+QBUFR00q97bxCo56Gg/UQUHDqj/r08ZW9+g6LkhwZP1Y8u/Dp59+2ghnmAtPuuISvjJJcDz//PMtPg8//LBEo+S8g0OGxI5Y0Z4TCV9c3LXN6d5GFRzTZW8mCo5sI6Xr6mdmOhkpOI4fP17h65X+0/PT4CvVl19+qV566SX1yCOPqLp16yrMUyEnNdeYsXKYDo/tgAEDrFM7d+5UeODWrFlTYS7J9957Tw0cOFBhpS03h0l0ZTzYRxxON3fuXJs/nd7mzZut45irQX9hwvaYY44x/seMGeOMrlh/yzkc3Xo4yt6NdcodoTasnh3K3h/71zciH8RBuWiLFPcSERyxUIwWHBFXkMNwb+0fQqibkzbFIzhipTbcJ5i4Wl/zW265xVxv3D/ORgq+QPbs2VPVqFFDPfjgg6pWrVoKL/J+q8lpm1esWGGVizfeeEM98MAD1ryRHTt2VAsWLNBe4t6iUkUe+vfvb4dH99MAACAASURBVIXFfYyFb5AnVGTNmzdXmORalj0M4ejVq5eqXLmyQoPnf//7nxo5cmRg2uvXr7eGxGC4TLly5dR//vMfhflmUL5Hjy4afisjQlq6XOpFdzBtAVYtxETMaJhiNb6xYw/NtyjDht2PR3Bs1L6WeUl6usbdvkn8MH6Q8YveIfqFyk9wRA+WB18ubfxCMJTDsh9/3b8HFFaD1ulgG2YVaAyV02Fgs3RSHHQKjotWzLfN2Yi5KvGCGuRknPEIjmHKm0wb5QL3CeZXRXnBPY3yMm/ePOkt1H7YtJNZ3nEvDB8+3Lq/n3vuOfX444+r999/X6Eyx9fzKG7r1q3Wqp94DmHoFeLHvMMYsoY6VbqweZdhEmGP54Mu62gD4HnXsGFD6zmJubrc6s9UPBODejjuzl9ZJNA9fZLas2m1zLrrvuzluHZoR5uf4hYcgwTRKIKjrl/69Olj5Xnp0qVWGcScWKg7UJfhJTmMS+RaJ7P+QFyoa7CAAJ4nqLvRpkRZXLVqlbl3Yad2a9asMcf95tdC/afvfbQRpMMzQJ+TbdJk5k2mJ/fjERxvfvZi62OaV10i48U+6k/4Rc/6R1+7zdRBfoIj60cnRfffibS1Enn+JruOwnMC9/q1115r2tRoX+r7H3WRn/DlVVYkpUTKMcInWrcnUn9Ke9Hu1fnHtkOHDurwww+3+Nx+++22c1KoxbMK/hcuXGjzk0h42OPHXdqbyHNah4cmgDYO3g/wjK1evbqVX7T5/Vw87Rm/eOQ5p+CIex3vau+++67VJoFteA/yWphn06ZNhruz7TJ48GDrnNYPwLZs2bIKPU/xzoX8SId7FosBgQv0DDDCHJF4LwsSHFPBRg6pduvhyDaSvHq5t5+RgiManVqowRYvh3ghxMTA8rjev/fee9XGjRttVw+NOH0e2wsvvNDqxnzGGWfYjms/pUqVUqtXx74gzJ49O8a/FkBlgngp03FhqxfCwQNFHnfbR2UQ1qFheeqpp6pTTjklrr8zzzwzbBIqSHCUw6O7Nb8vdLw7t29SQ3u9pbDa9bZCe1dyKe4lIjhinkYtIDas/Hu1YfUcX7swb+PiWUPVmmVTVMGmohcBGUjaFI/gCOHC7TrrY6joZSOlR48eCkMg9Hm5/b//+z8FMdvNoVJp3bq16yTaiOOoo46yRLsDBw64Bfc9pu3DvC+4h0888URX+1577TUrHlRyJ5xwgqufF154wTUtvJDVq1dP/e53v3MNpzlAUHGW7x9++MGE6dy5syUeaf/O7Ysvvqh27w43Wb00NB7BsWu/dqrc2w+ZlyO/YdVvf1TF8odejv1H9DJh/ARHzHuoX9i0uIhha3LlZ716tsyD3Mf8kjqOPkO+lKdc9xctn6emz5+ssPL27j27bH6kOCgFR6fYCPtwLIyTccYjOIYpb0gfglm1atU86xEs7oSXmL1794Yx1/ITNm1dnnBvJlrekSCEmdKlS5t733mvX3755VY9FzoDwiMaA1jQzBmn/o05s1DutAubd/iPwh4fFbUNEBpPO+0081sf1x9XUvlMDBIckc9JVS4xouPijq8rDE/2c9uXTlMQ9naunq8O7N5u81rcguOejUVDptFjs2CGfXqVKIKjLg9oj+HlCh9g9bWU2xtvvFFB8HBzUa51suqPFi1aeNa/N9xwg1U/6/zgY7l2YV/S5UsjXrql85qXLll5k2k59+MVHMdMHWnqnlrN7Qt6yLjRM17XUZg3OazgyPpRUozdj9LWiuf5i5RTUUd5vbfpsjV//nxf4currGhSiZZjhNfPMtgST90eT/2p7ZTbLl26uD4zNZOgbatWrSKHhz1Bz7Ioz2nct/fcc4+vnWjfQ7x1unjbM87wXr+l4IiVoCGAurHGtGmYX9Tp/BaN+ec//2nFBb3irbfeiokXwqN2fvcs/N1///0mvPOjVqrYBAmOsJ1tJH0Fc2+bFYLj6aefbgqOW8HGMWcXcqfgCD94AHiFx3EIeU7RMdMER6xo5pcHr3NHHHFE6LvbT3DE0Gkt7GGLRVmS4aS4l4jgWLhppc2uuhWOVv07V7RERaymnYiTNsUjOC5ZskT9/ve/V7/5zW/MtQJ/HMPf8uXLbY0Uec2wAt8f/vAHEw7n0NhCGKfTq87p8BD8rrrqqpjwd911lzNo4G/ZiDruuOOMPUjDKfxjXh0pGrqVM/SQcrqKFSuaeJEHiOj4gn3ppZfGvMThK5908qVKvqyC80knnWSLF3Hjq2O8Ll7BUa6s2bF3K9fkduzabs25iJcqzOM4eHR/84LlJzjK4dOffdPWxN2iy/sm/DvNq5rjbjttvvzA+EX6/2v2sjWnYpjejs74pDioBUen2Hhf5RtCzWep45ZxxiM4hilvEN3xUUmXFWxxz/7973+33bs4jntw37592izfbZi0EYEsT9KGeMr7hAkTbKI+ejPggwA+buG+1/GiPIwYYReHfDOhlNVbWZZhlKHrrrtO4UOVjhdbpKmFj7B5j8pevvBKW/Q+nhfapfKZGEZwxAIxcq7EqTWuU+i5uHuD/xQG2n65LW7BMX90L1te9mxeI81TyRAccQ3xYQxb3Lc33XSTuvLKK23383nnnRfTswOGRLnWyag/PvzwQ1vZQD4uueQSWxnV9yi2xSE4pqpujFdwRB2Dnu6od/yGVbfr2czUUavWLQ8tOLJ+tBXNmB9R2lrxPH9TVUehXKHtrHvwoTz99re/NW1qiJx+wpef4BilHAN0onV72Poz5mL+eqBr166254981oTZR2eFMP68/CA8nB93nI/ynJY9M2EH2jrXXHONqTO0bRAlpcPoq3jbMzK8374UHHX62OL+RHtS12c4hvu1U6dOtujCCI46rIwf+71797biaty4se3a4Z0MZUTmWYaVgmMq2YQRHNlGst0OOfUjKwRHWXBQqNwESLxwodLRzk1w1PFAQDnnnHNsBVafK1OmjI7C2maa4Lhr1y7rRRAvxfH8oadAWOcnOG5at9Am7M2e+FXYaH39SXEvEcERkWNFbSmG6v36Lxyruja5S/00oIFasXCMwsIxYZy0KR7BUcftN7eZs5GCigoige5dhbBSOMvLy9PRWlv0CtH3LF4qMExC92TEF0VUTLLHYbdu3Wzhg3447cP9A6EBwwfwNRHDLXX6evv888+bnogY7gHxU59DL2TpMFmyFmRRdtGDWdsPf+gRJScIh18MRdBOvjAiDVS0YIDyAYdepLfddptJHyzlsDMdj982XsFx/cY15mUJw8Hc3KBRfY0f9PoIIzhiQRi9cvQNT56nsKiLduiFqHuElHr6QrWpwL4yofaH7dr81bYXOB0OPS3f+LCStVr1/KWzrWssw7ntS3EQgqNTbETc6B0Zj5NxxiM46jT8yhuGOep7ES8q6DWv7zds8RvHtR/0pIvH+aWNeJzlKd7yjjKN5722D72n0KtDO5QNTEWgz1988cWe04ToMHKL4eU6LIZRyx7BM2bMUNdff7057+yxHJT3qOydL7x4FuDZgHmR8TLz6aefWllJ9TMxjOCInopuqzxDhJxS7WqFXo/5P3+l9ha499qT10QKjhNfulCtGdQu9J9cOVvHKYVQv0Vj4H/HitkKC8HoMBMrn6+jMdtkCY6473Bvr11b9FzDUGJ8ANb3pPODUdRrHbX+WLx4se15gR4l+BgMhzqyTZs2MR/mikNwBL9U1I3xCo7g0qDd/0xdNWJcbM8f+Hn01UNDqDFawPodYkg160cLlee/qG2tsM/fVNdRyKAUoJzT5fgJX16CY9RyDJui1u1B9afXhcU0YJjqSP+hjY3y/te//tUcwzm0E/RztE6dOuYcPqrqsNgmEh62+XGP8pzGqCYtMOMdZ8qUojnAMRxYrouAdwhMt6JdlPaMjsNr6xQcMTIG7x547sNhGizZFsMoNdkDM6zgiGuGdyj0ZMTUbxgmjx6feLeSH5JQJnT8uCcwrFpz09ddCo6pZBNGcGQbyevOKvnHs0ZwxENUC4qo2GTFowuVVv9x2bwER8zdqOdrnDlzpvrb3/5mHsaIBw+u6dOnmysfVXBEWviShQe9thNbDF3DcfzhYZ9Jzk9wXDbvR5uot35V8NxsYfImxb1EBUekM35YK4V5JbXY6Lb9oMofFdLbuLbohd3NRmlTKgXHs846y5rryWlDs2bNzD0jv+BBlESvD30/4eXGzcmK7U9/+pMR49z8Oo/JRhTCOoe1YQ4qlBVtA/w7nRwyoqcY0H4goOqwVapU0YdtW1Tg6MGl/eHruXbOF0ZUyk6Hih+9JnX4cePGOb34/o5XcERkL7z3mHmpci60gvPVP6hgnb+rwjXWPIphBMevBnUxcb7y/vMxNj9f835zHsPQ/Fzhti2qkrBRi45ye3fFf6j6H7+lZi30nh9HioOvNyyn/l3xWmODjgu24lkd1sk4kyk44j6Q9yrmSnVzmHdH3yt4SXf2dncLo48FvTTI8hRveUcamDZA24a6EHMLOx1Yo1Gq/WHIVFh39dVXm3B4CXM6fGzQ8WK4j3R+eU8Ge+cLL6Yvcbp0PBPDCI6wa++WtWra2zcZsU6Lds7tjHdvV+tGfOY57FoKjs6wQb8LZsXOnSvDLOtWW20Y1cP2t25YJ7W8Zz01t8kTMbbDTqdLluAIYVGLdTINudABPhLrF7pkXOuo9Qfakbo8yLpZ2t++fXvjB36LS3BMRd2YiOAohz27Daueu3imqUO6f3uoV1CYIdWsH+VdF7sfta0V5vmLVFNdRyEN+d6XDMExajmGTVHrdr/6M/Zqeh/R77KYgkg6DOvVzyq/kQ+JhvcSHKM+p6VYKYcSy7zdfffdVt7wsRjzUmoXpT2j4/DaOgVH9JB1OtRV6KmvuWN+eu3kexnWdpBOD6lGOIxsc87bC7+1a9c28aJThZuTZR5xScExlWzCCI6wl20kt6tW8o9lheAItX7SpEm2q4Gvdrow663u6QCPboLjv/8du3oxVjrT4fUWQo92UQVHHY/8GoN0MOw0U52f4Lhw5iCbmIcVq5PhpLgXRXCELWuWTbaGUzd57QybrU7xsV6F36iR/ep6mi9tSqXg6NWbCoK4vidREWmHsqCPQ5DzE3UwRE371UMhdTx+W9mIcnthQVg53NJtyDT86C9x6G0pHfLw8ccfW4vkyJ5a0g/2sYCOtv/HH380p+UL48knn2w+IhgPv+7I/GNC5nhcIoJjr+8/Ny9NHXq3tCVXuL1AoRciBLkP2teyzoURHKWgCP9OhxWrtciHhWUOBPTg3btvj+o3oqeqUu8ZVfrpi0xYHYfcYtj39p321WmRvhQHpX/n6ttd+n7iNNfzt4wzmYKjbNCjseVXXjCMWN9vmI8prJNpuAnosjzFW95hg/xijqFUXg4vFNp+NMbDuvvuu8+Ew0sdhEKnQ69h/SVdnvPLuzyXKHv5wovnie6ZKm1IxzMxrOAIuw7s2anWDmmvMHH6mGdPiRHwpPg37X+l1a41C2V2rP1UCo4y/aD92Q0fci0zyRIcMem9l0NPXn0/63oiGdc6av1xxx13GLtkzxuZD9ynF1xwgfFXHIJjqurGRARHzDmMj1moL6xh1Y55gVt2bWidQy/+/M2HegCHERxZP8q7LnY/alsrzPMXqaa6jkIayRYco5Zj2BS1bpd1pFvbIfaKxh5BpxX9nHQKYJgnHefwHu1cdETHFCW8l+AY9Tkt3+HRccBtPkTYjYW5nG26KO0ZzcRrKwVHiIJ6VJXTPzpA6Wvyr3/9y5wOKziip6Kbk+9EXgIy2m8Y4q3Tl4JjKtmEFRyRL7aR3K5uyT6WFYIjhj+7OecE97JHh3xY6UKHLyZuDsPbtB9ssQq2dhQc7XOBYZEVKdxh4ZVkOCnuRRUctT2ohNaumKZGf/uBNaT6/UrH2WzX+fASHaVNqRQc9Uqd2m69lY0A3KPade/e3dyvV1xxhbUiJlbFdPuTPZ6++OILHUXgVjaivFaKluXGa2Eb3cMQPVSCHK4XepWhEsX8MJiQWVaasnKVL4wQibwchnnrsg0+8bhEBEe8KOGFCS9VzmHVEPm0ODdlzqEFAIIERwxx1mFuK3uF2r03dj5S9FqUwuGoycNDZxOrV/80cahq2rmOZa9OS24r1X5c7dlrX/1YioPa7zNv3qs2F25SbzZ50dhc6qkL1MwFRUNh/AyTcSZTcMRCMPoeQE9zP4dGXli/Mp6glwZZnuIt70hHChcoG25lHcfkswEfI8I653xOGLaMlzEMFZo1y78Xu1/ek8FevvBiShU3J/OdqmdiPIKjtHH/jkK1cXxftbhjNTWl+rWu4uOkqpdaX/1lOCk4Ynjzqr5NQ//t3WJflA3xBgmLzvMYRr3+h67ql1+HiknbsJ8swdFtET6d1ttvv23Ko/4AkIxrHbX+0PMUY75lP4e2pH6eFIfgmKq6MRHBEZwad3jX1A1yWDXq/gdeLm2de6lu0SKKQYIj60e/u8/7XDxtrTDPX6SU6joKaSRbcIxajmFT1Lrdr/70voL2M1IEw7NNOr14iHNkgvQTJbyX4Bj1OY17VE6rgecotIDKlStbw7jdesXrPEVpz+g4vLaSFaaf8XKYFko/++WirWEFx6++cp+uTE8Hh6Hcbh9ftT3yA4AUHFPJJh7BUduJLdtIkkbJ3c8KwRG9lNwc5kbQBRrbIMER4qGbw3LyMp4777zTeHMTHNHTw+nq169vi8P5cE9WD0d0U8cq3uXKlYvrr1KlSk6TPX/79XDcumWNTbQbO6S5ZzzxnJDiXrIER2f6+/fvVYtmDVGdG91iywN6OiJfTidtSqXg6PVCj6+R+r6UCyPUrVvXHNfnw2zRFT+sk42oOXPcV/y+7LLLjB1uXf+Rlm4weAmOGHaNOUUwEbTXhMc6b16CI4RJLyfngUyH4Ag7XqrzlHmpWrqq6FlRtf6z1vH7K99ohgcGCY4QArWgh+0jr97q+if9vN6onBeOwOMQTHt811ndUe5KW7o4Jp0UB5F2mZoPKAifcAVbN6t7K/3ThH+oyk1q246tMrjrvowzmYKjnG9UDrtxMwJzner77cknn3Tz4nos6KVBlqd4yzum5XAu1KRt9Nti8vKwi99gbiDn5O4y7rPPPtta4VtPayIh+OU9GezlCy++7ru5dDwTExUcnfbuzl+pVvX7SI0r9yebCLjkszdsXqXgOOO9O2znEvkhBcW5zZ5WS7u+bftb9uW7as13bdWmCQPU9qXTrR4IfukkQ3BErxu0abzcJ598Ysojhj/CJeNaS8Ex3voDC7jpsoE60M/JBSmKQ3CMN29+eZHnEhUcp8weZ+oFucjZ9HmTzPG+w4p6lgcJjqwf5VXx30+0rRXm+ZuOOgq5S6bgmIxyDJui1O0I71d/+l1RzLOMPOBPftjDnMv6OLZ6zQOM8JPHMae5/p1oeNjnJTgm4zk9cuTImEUw9bMXbSIsiImOFBAnpYvSnpHxuO1LwRFzK/o52WFCT4MTVnDE4i5OJ0VMTM3j5yDMalZScEwlm0QFR2c+2EZyEikZv7NCcPRaZRcFThcobIMER1S4bg5fKWQ8cviqm+DoJsC8++67tjicc9YlS3As7lWqseBKg8onGMEOK0HH477/8lX1bdcqavbE3mrn9qK5K6W4F6/guGtngVqx8Gc1Z1IftWROcO8uVE7jhrY0eUBPx4k/xA79lDalUnDEJMBuzktwlBWJvG+D9mXPXbf05DHZiHITGeBXCo5uQzDhx09wxAukc3JjnQeIJVioRjeWcNxLcHQu9CTzURyCY58hX5qXJz2senPBRnXjk+dbx1t0bWBM9BMcMfT5zvJXmbikqOi3jx6WazYUTaCNxNAzcu2GVWrO4hlq337vF3xtGIRH9GzU6Tz31n36lLWV4iCGtDkFxbFTfzRhEUfNZkW9xm0RiR8yzmQKjlJIwzyNfg6itL4H0TMgrAt6aZDlKd7yjvlTtU3xbjds2BA2C1ajHdMnYMEZr3ROPPFEhUaDdH55TwZ7+cLrXLBG25GOZ2KQ4Lhz1VxVMGOEtSjMvm1FdZu20bndvWG5mv72zUZ0nFj5ApuXVAqOQYvG2Azx+JEMwRFzb/m5Ll26mHsRH1rhknGtpeAYb/0hhwpefvnlfuZbbVJdlhIRHB955BGTf+eUKF4LYUTJm29mxMlEBUfMbaY/Rt3y3KVq96/Dqpt0yrPqC0w5oj9cITk/wZH1o7ggAbtR2lphnr/pqqOSKTgmoxwDe5S6HeH96k+/yyqfjfoZE88W78vx+Hf61e/bXoJjMp7TyD/e23Hdjz32WE978WHT2eMR73mJtGf8mOOcFBy9psfRcWD+e81Nd8oIKzjKRdR0fBhJpuPDnJt+DmKo9isFR4RJFZsgwZFtJL8rVvLPZYXgiDkH3Fy8gqOzq7mOEz0adcHEVvZscRMc5aIyOg6soijjyDTBEd2vwzq/Ho6Io1fbx4xY90ntq8JGq5wrXGOos3ZS3ItXcJwx9ktjT+NXTg29CnWrmheYcEN6vqlNMVtpUyYJjqjk9L2GF3AIgmH+5CrPJpMeO2EaUVEER2e3fiyEgV64WAAH5VTPNeM1X0k6XqoSGVINnBhWrMXFJ6sfmjdWTmwP0U87P8Fx6JiBRrRDj0P0XPT7k70S23a3T2SNHohaPBw1aZhO3nc7fvooE+bW5+09eaQ4iFWq3Zx+idTpfj3Ef0i/jDOZgmO1atVMefFaYEnbj3lFddnSAoc+57cNemkIU568PjDgJV3PhQrbMJddmPIOP3qhDT/b3c4hDbxQoO5F72TNBFvUJZjuQTu/vCeDvXzh9eqpn45nYpDgiFWodS/CtYMPrZytGXlt88f0NmEQFvMaaZcLgiPuJ685sMChQYMG5t5DLxy4ZFzrKPWHnOrktNNO05fLdfvmm28a+70ER3wU83LolaTLXkkQHJHPZp3rmnpl+LjvrDmH76l0nXWsWqNDorLm4Sc4sn7UlPy3UdtaYZ6/6aqjkik4JqMcg3yUuh3h/epPvyub6YJjMp7TMv+oJ3Avvv766wrv1/q5qLc47uXiac94xaGPS8GxVq1Dc7Hrc3KL4c5oK8G+k046yZyKIjhi5W6dX3z89XNS8HUKjjJcMtkECY5sI0nyubefU4Ij5gNyOgznQaNRF2Js5UNEflHQfuTiFTo+57Bsp+CIBW10eGyD5v7R8bpt0WsFi+bE85efn+8WleuxIMFx+pgvjFCH3oHzpsYuZOEW8eAe1U24OuWOVIWbVxlvUtyLV3BcOm+kiRf2hOnliITb173OhBvR511ji96RNmWS4Pj111+be+mBBx7Q5rpu0QUfK0o7hxy4ehYHwzSiogiOMmzFihU9F325/vrrTV6HDBliLIzywmgiCdhJVHBEtK/Uf868VGG16hfznrB+P/qqfVU5P8ERqzxrsa7Nl0XivJfZEBm1/3te+IetJ2PNppXNubxW1byisB3HcHAd3+1lr7Cdk+Kgl+CIXpVPVL/LxHHzsxerhcvn2uKRP2ScyRQcpYj46quvyiRj9tFo1c9pLXDEeHI5EPTSEKY8eQmOSE7Olzp1qvfq4fCLHpQYLhWvw3PCbYVqDMHBQjW68Qw+cqVvv7wng32YF950PBODBMdZ9f5jxMOZde4JhX/LtKEmzJhn/qgOit7HuSI4es3/C4CYOkaXR9xLcMm41lHrDz33G3roo3eXl9OrqCIPUnDs37+/yZffhw30oNT5LymC4/T5k02dgNWqJ80aa34PGtXXhtJPcGT9aEPl+SNqWyvM8xeJp6OOSqbgCJujlmPEEbVu96s/PS8qFsdcs0ZhPmg57QQ6IOCY/tOL4qDuxpyA+ji2GE6NbZTwsM+rh2MyntMYNo7FM9EGcboFCxYo2VnI+c6daHvGmY7ztxQcZeckpz9Mvaaf3ddee605HUVwxHuc/PgMAdLLyY9VTsExVWyCBEe2kbyuVm4czynBEfMprFxpH2rYtm1b81DQDwe5Cii6Nevjetuokb1HD3o8Ouefc87h2LFjR1s8eGhkqgsSHPfu2ak+qn62Ees+qvEXtXnDEt/sQJTMK3u4CdO9hV0ok+JevILj7p2FSi4I0y7valWwaYWvPRtWz7HZg16STidtSkRwxKpq+p5x9syJ0kjBHHA6XtxHS5Z4s0dFB78YutahQwdnFj1/h7FPNmTjGVINv3IotdcLG1afk3PXyVXqor4wemZcnIgiOMoFYuRE+e16NhMpKOUlOK7buMYsPgPRb/HKBbZwbj9WrFlqXtwQZsjPRYtkdR/Y0ZzDCqFT505wi8J2rGPvViZM+VoP285JcdBLcESAeUtnmZW5YdMT1e5Uu3a7i2EyzkQER6/yNnz4cFNe8KHH617FcXyJ1mULLwJhnVfaOnyY8uQnOMqhlc5niU4D218rdCsPYReNwRQheq4hfHzzEivl1COYQkQ7v7wng32YF950PBODBMflveoXiYdPn6SCejni5WFB64omDL7+S5crgiNGh7g5vEzJ3rXosQuXjGsdtf6QPe9r1KjhZr7ChwFZz0nBER/P9HPmttvsH6F0ZKj/jjjiCOOvpAiOuO/vf6mUVbegLqrb5g1r/5ZnL1FYxEw6L8GR9WO4BfCS0dYK8/zFNUtlHaXviWQLjlHLMeyKWrf71Z86335bGX7UqFE2r/fcc4/1/JCLTto8KGWt/qyfRYmE9xIcoz6n8bFJP/+aNbO3m3UeUCdo2+EXHYiitmd03F5bKTiecMIJnj308XFb2yYXl4kiOMImucq01yKIEJOx8J9OXwuOqWYTJDiyjeR1V+XG8ZwSHFH48ELVvn176yGLHo+y1wbOY84FOcQHk+7LLwrwg7kkIEpiuDXi+stf/mIKti7gTsERjU19Tm/RgwaTin/00UcZdbcFCY4wFnMwojeh/sNQZhzDHI/SYaGWMYOaqQYvHm/81q1wtFq5aKz0pqS4F6/giIi+7/aaiR82fVDlZGtOjEUErAAAIABJREFUR4ij0qGxO2305zZ7PqjyR7Vn93bpzdqXNiUiOGLCY32tndMCRG2kyPmbsBL1jh32hjoygOGjOn1UPl7CXkzGQzaiEhUcIWjIcte7d+8YE9Aj1zls4ptvvjH+or4wmoh8dqIIjpiHCvNR6R6CeisXkUHSXoKjFPuc8yf6mGx6UiI99KrUbseu7baFYLB69JcD2rsOud2/f59q062xTfD8Zlh3HZW1leKgn+AIz136fmLjUO/j2OkL4E/GmYjg6FXeMLRF9hQqW7ZsTI9a+EFPI11e0PPBbzELGwyllFfa2l/U8o5e9do2iBh4yXA6TJmAekf7C+rNqcNjwn/d0wNhUSc5HZ6burcE/EBI1M4v78lgH/aFN9XPxCDBcW/BejW2zOlGQMQQ6QWtKqjd+bEfv/ZsXqNmN3rY5ndVP/tLVa4IjmhPoReLdLhvUE71vYye7tJFvdZR6w8pJqJ9KHv8wk58BJT1I/IhBUfMS6bzhq3svY/w+PiA1daln5IiOCJ/mMdY14l6KxeR0dfaS3Bk/RhOcExGWyvs8zeVdZS+H5ItOEYtx7Arat3uV3/qfPtt69WrZz0nILjphUm0fz2HOp6lXi5qeC/BEelFeU5DZNTPPywQ6/aOA4FU+yldurSVxajtGS9O+rgUHJH2448/HrNa9IQJE4xugOsi67eogiPel3SeMazauaYE8v/oo48aP/CrBcdUswkSHNlG0ndRbm5zTnDUBdVr27mzfTVW3Bb33nuvrfB6hZXHnYKjfDBKf9j3WoW7uG7JMIIjbOvbsZxN5IPQh96OfT59Vg3qXk31bP2walbtrBg/037uEpM1Ke4hnkYvnxT491mjf5l4du3Yolq/fXFMWnXKHWEdR4/KT+tcq96v9LsYP5NGus+3JW1KRHDEKmP6WkMkeOaZZ6z5R9BzIWojBWI3FlbR8Z9//vkKc7qMGzdOffbZZwpD/PXXQfipUqWKYRVmJ4x98oXKq9eYbvA4V6mWAhDmb8TkzhgiMXHiRNWkSZMYsRF5gLivXdQXRh2P3zaK4Ih4Md+ifpnC9pk3741Jzk1whLjzUNWbTdhuA8P3TP125NcmHNJcInpGQsST9mAfPUwqvvuo+rBjbdX88/rq1QZllJ5PS/st+/aDChP0SyfFwSDBEfM7Vc570pa2c+gc4pZxJiI4+pU32cjDvYTGKYYY4X5DA07e77hXnV/6Zd7d9v3Shn8Zf7yLxuj0MHxHl3c8T1555RU1bNgwS/zDogDnnHOOOY8v7349n3Wceou4dNzorY9pRfAsQZlEA/s///mPOY9eonL166C8R2Uf9oU31c/EIMERLNcN62QTEfWcjuNfOEfNev9+NafRI2rSK5fF+Jla4zq1f6d9JXcpOCIexBHP3+oBLfTltbbaFmwzZdEYfc+hzOEFc8yYMWrAgAG2oXKox1BOpYt6rZNRfzz11FOmTCAf6Kn4xhtvWHOA6x7DOn/YSsERebnqqqtMeLxQY75HfFTDZP9uCzeVJMFx9qLptvoAdc3ICUVTpuhr7SY4sn48V8VTP0Zta4V9/uKapbKOQvzJFhwRZ9RyHLVuD6o/dVnw2mJxOzxfLrnkEpuXFStWmOeL39zVUcP7CY5RntN4T5ILxWAxVzwfMQUHhGJ01Dn55JNNHvHeoF2U9oyOw2vrFBzBHu0jtCPRbsQISNlJCVNGSSfbQ3gnlA551HWG26Ix2q/MH9p6zZs3t+pOTNVxyy23mDh0XFpwRHgZNt62nk7faxskOCIc20he9Er+8ZwSHOUcI7ogyi0eDG6T7OPB59aLUYfFwyVolWp8sT/jjDNiHgSIAy+KmeTCCo5o+A39qmaMgKd7PTq39Sseo8YOae6aVSnuOcN5/W7zjr2CxTBqDKf28u88Xrf8UWrUt/bh8dI4aVMigiN6SGnBTd8r2GJuk6iNFNiJYfpyyJlMQ+6jMsSXrXhcGPuiCI544ZOCqLRX76PXlRw+gIahdsl4YdRxeW2jCo7f/tjH9lKFnn5O5yY4Tpw5xoTD4jMbt4RfaRjDlW8rc7kJ37RzHVuSGOoNkVGLiUFbiI1btm6yxYEfUhwMEhzhf23+aoV5IHV6WIRm5Vr76uwyznheqLRxfuUNfho3bmwboq/vM7lFAxf3VrwuKO0w5clvSDXsQQ9lt8aktB/7mD4h3jygV7+efsEZn/x9yimnKOccxkF5j8o+nhfeVD4TwwiOyOvqb1ursc+fFiMqSsFP7k9983q1Z2PRfMb63nMKjjJMmP3lPevqqKytDJNpgqO8x+Q+esJj/ms3F+VaJ6P+wH1foUIF1zYd8oC6X/bSR70vHV6e5ZQhMt/Yh7AvpzEoSYIjOMiPaqgbnB+14MdNcGT9GJ/giHs9SlsrnudvKuso3A+pEByjluOodXuY+lM+N5z7+r3y+eeft53C80U/U9DjzstFDe8nOCLNKM/pXr162aal0PlxbjGcX/bujNKe8eKkj0vB8fTTTzeMnTbhN3p4OhfrTIbgCD1Bzg/sTBsfpOXaFFJwTCWbMIIjOLKNpO+m3NoWi+Do7O7rnF8Cc1TJAoTeWm5O9uiAf8zHqB0KmIwD+5jXAMKgc75FFEy3no06LmwxASx6xch5EbBfqlQp68uCnK8CaV166aUyuLWPHiNO4RIN6quvts/dFBMwzQfCCo7arDXLJqu+HcoqCIpOUQ+/cbx/54pq65bVOkjMdmCXl1zDusWnj7mtkA3BePKP7VX3lg+qZtX/7Bon5nvEStvrVhatFhxjkFK2Yd6JCI6IE/chevDJexErb8qhBs55RbUtqEBRcSAshle5OSzycNddd1kig0wD+3/+85+tMoEGTbwujH26hwZshFji5nRjBj0+nA4NWbeeHBBR0XjCsGrM46Uby/iSpz8IyErbb9J9+TXPbRiq0yb5O0hw7PBVCyOgYXiy023bsVWVfvoi42fthlhRYdjYb8359z+paUXRqH0tcww9DuN1Ddu9bcLfVf7qmAWD1m9coz76vJ7Vs/GW5y41frUYiO3zNe9XWFVa83baIBeo+bh70Zdlpz/5G70aZRqVaj8uT9tEzEQER0TmVd50Qphv94YbbrD1DkZZwT2Me3706NHaa9xbv7TDlKcw5R0febB69Jlnnml7pug8YHgPehUk4rBqJ3poOetHxI3yi0nIUYe6Ob+8a/+JspcN/JdeeklH57lN1TMxrOAIw3atW6wWd6qhZrx7e8wway38TX3zBqvhfXD/Pte8rB3SIbRoqeOU25Vf2xeakiLo9qXTXdOM5+CeTauMfRNePC+eoLYPbugVAiFdP+dxv+EPbSsMN/RziV7rZNYf6LmInioY1YI2IepF3Kf4UI2P2Do/choCnSe0CdFW1H6wxcgF9HSZMWOG9bKuz6GMSScXTNDzW+J8MvMm05P785bMMs/yt5pUlqes/QMHDyh8LMPzHh+43BwWQtP1gdc0G3LRMdRbcKwf4xMcwSxKWyve528q6ygpwDt7PQ8cONCUo2rV7AvjeZUVeV8mWo6TUbeHqT+lrXofi3/o5wNWI5funXfesc7ho4bboivwGzU84vDjru1J9DmN8IMHD3b9GIo2G0Z2NW3aVCdj20Zpz9gicvyQH6ugOeAPH2L1dcAWH4vy8vJc28/oxa/9liljb9/feOON5hwWh/VzeOdCPSN7UyJe6BkY5Va/fn0TF9pe0qWKTVjBEbawjSSvSG7sF4vgmA60eIDrQq23WthBby90ye7Xr5+1omc89uDrAB44+MN+vA4v8FiGHl+F8NUpkTjiTTNe//EKjjp+zNeIxWOWzf9JLZw5SC2eNVQVbFzu+tDVYVK93bE1Xy2aNUQtmP6t9QdxdN/ecNctag9HmTe8EOChjy/AaJAl2+GLF+aFwj09YsQI677GsUx3KA9gg6GhGEqHhkkq+CTCIUhwTCTOTAuDF0PMKzli3Pdq1OThatrciWrDprXFYmbUHo7S6KDyhgY4hjJhlUYIHn7DV2S8YfaD0g4TRxg/aDRCXEBdgvrMS/QPE5f0g/oRw5YwPAdxL1q0KHSZDJP3VLKX+Uj2MzEewVHa8cuB/WrHijlq4/i+asv0Yapw7s9qd7598TrpP1v2kyU46ikGcP9iLkO8YOpjYVkk+1oHpev1Au8MJ3voT5o0yXna/EZZhrCDdqXbXGXGY4bsBAmOGWJmZDNKUv1YHG2tVNVRkS/srxEkuxxHtStM/SnTwLOiW7du1h/EQ+nQJsA5vBN4uajhveL1Oh7lOY2egmjvYCoctNm2bdvmlYzteJT2jC0inx94Z8H7F9pLmIYmne8whYWFauzYsdZwc7TV4nHJZhOP4CjtZBtJ0ii5+zkpOJbcy5mcnCUqOCYn9cyJJZmCY+bkipaEJZALgmNYFunwl0zBMR32Mo3cIpCo4FhSKSVbcMwmTujRiJ74V155pZmQ32k/Xv70HGToZRT2BdkZTyb+zhXBMZPYs35M/tXI9XKcfKKMMZcJJCo4llRmUdpIJZEJBceSeFUj5omC4yGAFBwj3khZHpyCY3ovIF+o0subqcVHgIKjnVeUxnSYec/sqWXWr9q1a5sRNJjSxOnQm0zmMdMWBnTaG+9vCo7xEovun/VjdIbOGHK9HDt58DcJRCFAwdFOL0obyR5TyfhFwbFkXMek5kIKjk1eO0O1eedS6w9DpUu6G9LzTZPf+i8ca+aATHQOx5LOqyTnTwqOWGW5ZtPK1t+yVfENWyjJjKLmrc/Qbobrf6veYub0SnQOx6j2MDwJeBGQguPEly9SmIMRf4Vzx3gFKXHHd+evUNPeutHK9+TXrkjKHI7xDp/OBKiYexHzb+vpejBXMeYdxmqwderUsS0Wg7kpg+aizIQ8xWODFBzvrvgP8wxv/5X7ooDxxE2/RQRYPxaxSMVerpfjVDBlnLlLQAqOY5452bSR5rcqnzNQktVGKonAKDiWxKsaMU9ScNQLtGA7e2LviDFnfnAsNiPzrPcpOGb+tUu2hVJw1JPbYztp1thkJ5Wz8WGhHMlW71NwzNlbImMzLgVHuTjLxvHec2RlbGYSNGzHsplGZJQMoiwak42CI/C1aNHCCI5aeHRusWJ8hw4dEqSducGk4Kif2di+mPdE5hqdhZaxfkz9Rcvlcpx6ukwhlwjYBMenTzJtBXyYzRWXrDZSSeRVYgVHTL6LVTXlHyYwpgsmMKjb66pTg9IxfysXlXyhZWTfOjH5BouFM74PBkcfJYrAJz2aKqyk7PxbtHxeicpncWYGq3s7+eL3lDnji9Mspk0CMQSWdn1bzaxzT8zftoUTYvyW1AMYIjSzbiyD+S3sq20G5f+1115TpUuXtv7y8/ODvGfseSw89eSTT6qzzjrLrLKNHo34XbVqVTVnzpyMtT2KYavWLXd9bn/0eb0o0TKsgwDrRweQFP3M1XKcIpyMNkcJYHE8tzbSog6v5QyRZLWRSiKwEis4lsSLxTyRAAmQAAmQAAmQAAlkFoF9+/ap9evXK6z8SUcCJJCdBFiOs/O60WoSIIHMJkDBMbOvD60jARIgARIgARIgARIgARIgARIgARIgARIggawiQMExqy4XjSUBEiABEiABEiABEiABEiABEiABEiABEiCBzCZAwTGzrw+tIwESIAESIAESIAESIAESIAESIAESIAESIIGsIkDBMasuF40lARIgARIgARIgARIgARIgARIgARIgARIggcwmQMExs68PrSMBEiABEiABEiABEiABEiABEiABEiABEiCBrCJAwTGrLheNJQESIAESIAESIAESIAESIAESIAESIAESIIHMJkDBMbOvD60jARIgARIgARIgARIgARIgARIgARIgARIggawiQMExqy4XjSUBEiABEiABEiABEiABEiABEiABEiABEiCBzCZAwTGzrw+tIwESIAESIAESIAESIAESIAESIAESIAESIIGsIkDBMasuF40lARIgARIgARIgARIgARIgARIgARIgARIggcwmQMExs68PrSMBEiABEiABEiABEiABEiABEiABEiABEiCBrCJAwTGrLheNJQESIAESIAESIAESIAESIAESIAESIAESIIHMJpDTgmNhYaFat26d+du5c2exXK3169cbG2DPwYMHi8UOv0S3FaxVy+ePsv5WL53k59V2bsPqOSbc3j07bOdS/SMbbU41E8ZPAiRAAiRAAiRAAiRAAiRAAiRAAiRAAqkmUGyCY/v27dXJJ59s+ysoKEh1fm3x33zzzeqwww4zf9WqVbOdT8eP/Px8k762ZezYselIOq40hn5VU+WVPcz8LZ49LFT4T9670oSZN7V/qDDxepr2cxc1dkjzmGCZbHOMsXEc8MpvHFHQKwmQAAmQAAmQAAmQAAmQAAmQAAmQAAmkjECxCY4fffRRjNAG8S2dzik4vv766+lM3kprw4YNMRzGjBmTdjuCEnSKdx/V+Ivas2tbUDAlBcf5UwcE+o/Hw5aNy1SnhjdZgmbvj5+MCZqJNscYGceBoPzGERW9kgAJkAAJkAAJkAAJkAAJkAAJkAAJkEDKCFBwFD0cKTh632dO8Q69HQd8Vsk7wK9nUik4Th/zhek9GUZwzASbA4H5eAjKr09QniIBEiABEiABEiABEiABEiABEiABEiCBtBGg4EjBMdTN5iY4QsBbPGuob/hMExyL22ZfWAEnKTgGAOJpEiABEiABEiABEiABEiABEiABEiCBjCBAwZGCY6gb0UtwbFb9z2r3rq2ecWSi4FicNnuCCnGCgmMISPRCAiRAAiRAAiRAAiRAAiRAAiRAAiRQ7ARKhOC4YMEC1bBhQ/Xyyy+r//73v+qhhx5S5cuXV++8844aMWKEOnDggCtorzkcR48ebcX3yCOPqEqVKqlPP/1ULVq0yDUOeRCrXA8cOFDVq1dPIWy5cuVUixYt1MiRI9X+/fulV7OfjXM4NnrpD2YoM3oM9u9c0eTHuSMFR79FY3Duuy9eUV0+vEO1qnmB6trkLjWk5xtq7uRvnFGq7YXr1fCva6muTf9t7Gjx5rlq+NfvWMd3bD00F6gUSVNh85I5w630ujW/T7X634WW7bB53pR+MTbjwCH/sPHQX+Gmla7+MNel9jOiz3uh8+saGQ+SAAmQAAmQAAmQAAmQAAmQAAmQAAmQQJoJZLXguGvXLvXwww+rww8/PGbhFb3iM7b33HOP2r59ewxap+BYuXJlSySUYfX+b37zG9WyZcuYOPSBqVOnqosuusjTjhtvvFEtW7ZMezfbZAiOEDpPPfVUdcopp8T1d+aZZxo7gnakePdt15dVj5YPGbEPouOimYNdowgSHPPXzlOffXCrLS7EJ/8gLBZuXmXiX7HwZ9t56Rf7qxaPt/ymymYsltO3Q1lfG7q3fFDt2LbR2IydZfN+VHXKHWHCfdH0btt5/MhfM1fVf+FY46dLkztV2PzGRMYDJEACJEACJEACJEACJEACJEACJEACJFAMBLJacLz33ns9BT4tFOrtNddco3755RcbYqfgqP36bd0WlunXr5+CIOkXDudOPPFE9fPPP9tsSIbguG3btsC03Ww74ogjbLb4/XCKd+hl+EGVk40w1qzaWWr3zsKYKPwEx53bNyuEk4Jh/YrHWL0FsZXHkdb2rRus+NeumKYaVv69yit7uM0PjuFv/cqZlr9U2Lx//17V5p1Lbem+X+k41bbW31WDyifYjjevcY7au2enjcnQXm/Z/Ewb/bk5j7glrw9fPc3q3Rg2vyYi7pAACZAACZAACZAACZAACZAACZAACZBAMRLIWsERQ6WdItpvf/tbVapUKVW6dGl19NFHx5yfOHGiDbWX4Hj88cdb8Zx99tkxcRx55JFq7ty5Jh70LjzrrLNi/F1xxRXq2muvVRD1pJ3XXXedCYudZAiO6OmJeJFePH/odRnWOcU7hJs5rrtNPOvXqXxMdFJAcw6p7t7iARO+Trkj1ahvG6kD+/dZcWA7+tsPFI5r4bHPp8/Z4g+a0zAVNv/8/YfGnrrlj1Ij+9YxNh88eFBNHdVZSbF0RJ93bTZbomLtq0wcjV4+SW0rXGf5GdyjhjkOMXXRrCG2sEH5tXnmDxIgARIgARIgARIgARIgARIgARIgARIoJgJZKziWKVPGJuT99a9/VVu3Fi1e4iZIfvHFFzbMboIjBEuIgNo1aNDAlg7EQ8wRqd17771nO3/UUUep/v3769PW/I3HHnuszc+AAQPM+WQIjiayFO64iXdIrker/wqR7DC1cMb3Niu8BEcMHdZCIrYThre1hdM/Jv7wic3f6iVFonGQAJdsmzE3pOzF+GP/etpM2xbzTuq8QXzcVrDWdt45bLpX28fU0rk/2HpswnanC8qv0z9/kwAJkAAJkAAJkAAJkAAJkAAJkAAJkEBxEMhawRGwVqxYYS3S0qhRIzV58mQbPyzSgnkNZe/CNm3a2Pw4BUf0ily6dKnND37cdNNNtnhOPvlk4+fCCy+0nXvppZfMOb2DxWukHXffXTR3X7YLjs6h1U1f/5NtaLWX4Dhp5KdGlMOCLwcOuC+qg+NYREYLeGOHNNdYVZAA5yU4Jmrz/GkDjR2Nq57iaTMMlMOunT07cX78sNYmLp03vW1f75+ucQfl14DhDgmQAAmQAAmQAAmQAAmQAAmQAAmQAAkUI4GsFhwlt3379qlJkyYpiIrPPvtsjNgIwa9JkyYyiHIKjrfffrvtvP7RuXNnm2CIuAoLC63Vr51zNzZu3Nha0RqrWuu/du3a2cJjcRntsl1wRD5mju9hE8+woIp2XoIjhkdrgQ2rU/u5wT2qG78DPn/ReA0S4LwER0SQiM1jB39k7KhX8bcKv73+5NyUYwY1NTbrHcwnikVjNAO9bfjSiWrLxtjFhRAuKL86bm5JgARIgARIgARIgARIgARIgARIgARIoDgJZLXgCNGme/fu1irUzmHLskeh3m/WrJmNtVNwxDBtN+c2PHvKlClq8eLFNiFRpxO0PeGEE0wyyRAc9+7dq8qXL2+tsF2uXLnQ20qVKhk7gnb8xDuE7dn6YZt4tmD6d1aUXoJjp4Y3Gf9jBtmvi9MW2RsQK1prFyTAJdvmgV1eMjZrgTDMVoqk2nZsMXdjgxePt8U5dfRn0ottPyi/Ns/8QQIkQAIkQAIkQAIkQAIkQAIkQAIkQALFRCBrBUf0aHz++ec9BT/nYi0QAVu0aGHD7BQcK1asaDuvf2C4tlNExGrT+HMeD/sbK0vDJUNwLI5VqjUbvcUK0hhmrAW4pq+fqXbtLLCtuiyHFndrfp/xi4VY/NyUnzoavx3fL1roJkiACxIc47UZcy3q/MWz/art467Z27R+kW2BGcTpJU4igqD8uibCgyRAAiRAAiRAAiRAAiRAAiRAAiRAAiSQZgJZKzjWqFEjRuy74IILFI5jUZbNmzera665xuanVatWNrxOwVEuBiM9/grJFtfq1aut+R6dAiPme0RPyaC/TBAcseJ2WBck3iGeWRN62QS5bzqU8RQcv2n/vPE7os97vmb80DfP+O3e8kHjN0iAS7bNQ3q+YeyAYLolf2moPwibToe5KTFXo5twibki3VxQft3C8BgJkAAJkAAJkAAJkAAJkAAJkAAJkAAJpJtA1gqOEBel2HfnnXcqDLGWzuknaNGYk046Se3evVtGYe3n5eXZ0jrmmGOstLAwDVallnZ8/vnnMeEx5Hnnzp0xx3EgGT0cdTzr1q1T8fzl5+e72uR2MIx4h3C92jzqKqJBWJM9HH/sX9/4w0rXfq5n60eM3/6dXzBegwS4ZNssF7ppl3eNscNtB70XsfI0RMkD+/fFeJEiap1yRyo55+OHr/yfchMpg/IbkwgPkAAJkAAJkAAJkAAJkAAJkAAJkAAJkEAxEMhKwXH9+vU2kQ+CHxZmkQ7DoNGDT4qBQUOq4bdWrVoyGrVlyxZ1yimn2OK57LLLjJ/LL7/cdg69Kg8ePGjOY+e2225TGOL9t7/9Td1///2qXr165nyyBEcTYYp2wop3zmHKsgefFBxlb0gIbvlr5rpanr92nsJ5Hc/0MV2NvxljvzTH3UTLZNu8bN6PJj3Ys2TOcGOL3Nm3b7dq8urpxu/wr9+Rp9XKxeNseRra6y1VuHmValj59yYMelA6XVB+nf75mwRIgARIgARIgARIgARIgARIgARIgASKg0BGCY7nnXeeuuSSSwL/Pvnkkxgx8eqrr1YLFy5U6E04cOBAhbik2Ij9Bg0a2Bg7h1Rr/xUqVFCDBg1SX331lTr//PNj4unYsaOJBz0adTi9ffDBB9W8efPUypUrVe3atWPOv/BCUS+9kiY4AowUE7VQiK0UHCHKNX/jr0Zgw9yMO7bae1zu2LZRdWpQ2vipX/EYtXtnoWE/Z9LX5tzH710R08M1rOAY1mYIyZ/Uvsqk2fKt89TmDYuNPXqnX6fyxk9e2cPVpnUL9Sm1Z/d2hXCaS+u3L1b79+2xzk/+sb05jvMTf/jEhMNOUH5tnvmDBEiABEiABEiABEiABEiABEiABEiABIqJQEYJjlqwC9pCxHPOz6jD/O53v4sR+PQ5KfSBt5fgqP27bS+99FJ14MABc7kwrNpN3HQLi2NYTXvFihUmfEkUHJE5twVWpOAIP3On9LUJbFhoZmS/upbQ9mP/erZhxvUq/EYtmP6t4YYd9DDUwh22EB27tbhfrV0xzfIXj+CIAGFsXrHwZwURUaf7fqXjFHoojh/WSmGOx5Y1zzfn4Kf3x0/abO7fuaI5j56bqxaPt53v8uEd5vz7lX6nNq5bYM4H5dd45A4JkAAJkAAJkAAJkAAJkAAJkAAJkAAJFCOBrBUcx40bF9PL0SnyOXsnnnnmmbbhzk7BsWrVqspPsDzrrLMUhmo7HeZNLFWqlKfQqe1C3MOH24fhllTBEb0VG79yqhHPIL45BUdwHNb7bVWn3BE2f1rM09u6FY5W86a9a+fzAAAGdElEQVT0c2JXO7dvVg0qnxATdvyw1pbfeAXHsDaPHfyRqlfxtzHpanv1tlPDm9S+vbuM3U6BdUjPN805vVOwcblq8OLxJu5P6/5DYYEZuKD86ji4JQESIAESIAESIAESIAESIAESIAESIIHiJFBsgmPLli0DBTot1Dm3eg7EH374wRp+7TwPofH777+3ehI6z02YMMHwvvXWW202jBgxQk2cOFFde+211pyLOuzRRx9tzb3ot8jKvn37VPXq1dW5556rDj/8cFu8mEvyscceUzNmzDBp651NmzbZ/CLN8ePtvd603+LcykVOBnWvFsqU2RO/MsIZRLhFs4a4hlu5aKxql3e1q/CIodaLZg52DYeDmFex6et/sqXzfbfXLP+ptHnD6tmqc8ObFcRQLTDq7YevnqbGDGpqExthUPMa5xi/rf93kcKwcjc3ccTHxh/inDr6M+PNL7/GE3dIgARIgARIgARIgARIgARIgARIgARIoBgJFJvgmKw8Y169JUuWWHMuDhkyRG3cuDEpURcWFlqi5ZgxY1xXrvZLZOvWrWr06NGqb9++Vo/IgoICP+889ysB9AZcs2yymj2xtyUkYiGVsA6rQmMo9baCtTFzOYaNIxF/WIEa4uPcyd+oxbOHqc0blpgeiYnEFzZMceU3rH30RwIkQAIkQAIkQAIkQAIkQAIkQAIkkLsEsl5wzN1Lx5yTAAmQAAmQAAmQAAmQAAmQAAmQAAmQAAmQQOYRoOCYedeEFpEACZAACZAACZAACZAACZAACZAACZAACZBA1hKg4Ji1l46GkwAJkAAJkAAJkAAJkAAJkAAJkAAJkAAJkEDmEaDgmHnXhBaRAAmQAAmQAAmQAAmQAAmQAAmQAAmQAAmQQNYSoOCYtZeOhpMACZAACZAACZAACZAACZAACZAACZAACZBA5hGg4Jh514QWkQAJkAAJkAAJkAAJkAAJkAAJkAAJkAAJkEDWEqDgmLWXjoaTAAmQAAmQAAmQAAmQAAmQAAmQAAmQAAmQQOYRoOCYedeEFpEACZAACZAACZAACZAACZAACZAACZAACZBA1hKg4Ji1l46GkwAJkAAJkAAJkAAJkAAJkAAJkAAJkAAJkEDmEaDgmHnXhBaRAAmQAAmQAAmQAAmQAAmQAAmQAAmQAAmQQNYSoOCYtZeOhpMACZAACZAACZAACZAACZAACZAACZAACZBA5hGg4Jh514QWkQAJkAAJkAAJkAAJkAAJkAAJkAAJkAAJkEDWEqDgmLWXjoaTAAmQAAmQAAmQAAmQAAmQAAmQAAmQAAmQQOYRoOCYedeEFpEACZAACZAACZAACZAACZAACZAACZAACZBA1hKg4Ji1l46GkwAJkAAJkAAJkAAJkAAJkAAJkAAJkAAJkEDmEaDgmHnXhBaRAAmQAAmQAAmQAAmQAAmQAAmQAAmQAAmQQNYSoOCYtZeOhpMACZAACZAACZAACZAACZAACZAACZAACZBA5hGg4Jh514QWkQAJkAAJkAAJkAAJkAAJkAAJkAAJkAAJkEDWEqDgmLWXjoaTAAmQAAmQAAmQAAmQAAmQAAmQAAmQAAmQQOYRoOCYedeEFpEACZAACZAACZAACZAACZAACZAACZAACZBA1hKg4Ji1l46GkwAJkAAJkAAJkAAJkAAJkAAJkAAJkAAJkEDmEaDgmHnXhBaRAAmQAAmQAAmQAAmQAAmQAAmQAAmQAAmQQNYSoOCYtZeOhpMACZAACZAACZAACZAACZAACZAACZAACZBA5hGg4Jh514QWkQAJkAAJkAAJkAAJkAAJkAAJkAAJkAAJkEDWEqDgmLWXjoaTAAmQAAmQAAmQAAmQAAmQAAmQAAmQAAmQQOYRoOCYedeEFpEACZAACZAACZAACZAACZAACZAACZAACZBA1hKg4Ji1l46GkwAJkAAJkAAJkAAJkAAJkAAJkAAJkAAJkEDmEaDgmHnXhBaRAAmQAAmQAAmQAAmQAAmQAAmQAAmQAAmQQNYSoOCYtZeOhpMACZAACZAACZAACZAACZAACZAACZAACZBA5hGIERxHjx6tduzYwT8y4D3Ae4D3AO8B3gO8B3gP8B7gPcB7gPcA7wHeA7wHeA/wHuA9wHsg7nugX79+6jC4vLy8tnl5eYp/ZMB7gPcA7wHeA7wHeA/wHuA9wHuA9wDvAd4DvAd4D/Ae4D3Ae4D3QJR74P8BB8WO2wAAPRMAAAAASUVORK5CYII=)"
      ]
    },
    {
      "cell_type": "markdown",
      "metadata": {
        "id": "fHDVAaMq8eb-"
      },
      "source": [
        "**MLM (Masked Language Model)**\n",
        "\n",
        "위 그림과 같이 [MASK]된 부분의 단어를 예측하는 것을 MLM이라 합니다.\n",
        "\n",
        "전체 단어의 15%를 선택한 후 그중 80%는 [MASK], 10%는 현재 단어 유지, 10%는 임의의 단어로 대체 합니다.\n",
        "\n",
        "**NSP (Next Sentence Prediction)**\n",
        "\n",
        "위 그림과 같이 첫 번째([CLS]) Token으로 문장 A와 문장 B의 관계를 예측하는 것을 NSP라 합니다.\n",
        "\n",
        "A 다음문장이 B가 맞을 경우는 True, A 다음문장이 B가 아닐 경우 False로 예측하도록 합니다."
      ]
    },
    {
      "cell_type": "code",
      "metadata": {
        "id": "W9J4mmug8Pjh"
      },
      "source": [
        "\"\"\" BERT pretrain \"\"\"\n",
        "class BERTPretrain(nn.Module):\n",
        "    def __init__(self, config):\n",
        "        super().__init__()\n",
        "        self.config = config\n",
        "\n",
        "        self.bert = BERT(self.config)\n",
        "        # classfier\n",
        "        self.projection_cls = nn.Linear(self.config.d_hidn, 2, bias=False)\n",
        "        # lm\n",
        "        self.projection_lm = nn.Linear(self.config.d_hidn, self.config.n_enc_vocab, bias=False)\n",
        "        self.projection_lm.weight = self.bert.encoder.enc_emb.weight\n",
        "    \n",
        "    def forward(self, inputs, segments):\n",
        "        # (bs, n_enc_seq, d_hidn), (bs, d_hidn), [(bs, n_head, n_enc_seq, n_enc_seq)]\n",
        "        outputs, outputs_cls, attn_probs = self.bert(inputs, segments)\n",
        "        # (bs, 2)\n",
        "        logits_cls = self.projection_cls(outputs_cls)\n",
        "        # (bs, n_enc_seq, n_enc_vocab)\n",
        "        logits_lm = self.projection_lm(outputs)\n",
        "        # (bs, n_enc_vocab), (bs, n_enc_seq, n_enc_vocab), [(bs, n_head, n_enc_seq, n_enc_seq)]\n",
        "        return logits_cls, logits_lm, attn_probs"
      ],
      "execution_count": 23,
      "outputs": []
    },
    {
      "cell_type": "markdown",
      "metadata": {
        "id": "y04qLmVA8qMW"
      },
      "source": [
        "### Pretrain Data 생성\n",
        "\n",
        "[mask]를 생성해보자\n",
        "\n",
        "token을 단어별로 index 배열 행태로 저장 합니다. (줄: 4 ~ 10)\n",
        "\n",
        "u”\\u2581”은 단어의 시작을 의미하는 값으로 시작하지 않으면 이전 Token과 연결된 subword 입니다.\n",
        "\n",
        "Random 선택을 위해 단어의 index를 섞습니다. (줄: 11)\n",
        "\n",
        "index를 for loop를 돌며 아래내용(4 ~ 9)을 실행 합니다. (줄: 10)\n",
        "\n",
        "mask_lms의 개수가 mask_cnt를 넘지 않도록 합니다. (줄: 15 ~ 18)\n",
        "\n",
        "mask_cnt는 전체 token개수의 15%에 해당하는 개수 입니다.\n",
        "\n",
        "index에 대해 80% 확률로 [MASK]를 취합니다. (줄: 21, 22)\n",
        "\n",
        "index에 대해 10% 확률로 현재 값을 유지 합니다. (줄: 24, 25)\n",
        "\n",
        "index에 대해 10% 확률로 vocab_list에서 임의의 값을 선택합니다. (줄: 26, 27)\n",
        "\n",
        "mask된 index의 값과 정답 label을 mask_lms에 저장 합니다. (줄: 28)\n",
        "\n",
        "token index의 값을 mask 합니다. (줄: 29)\n",
        "\n",
        "Random하게 mask된 값을 index순으로 정렬 합니다. (줄: 30)\n",
        "\n",
        "10번에서 정렬된 값을 이용해 mask_index, mask_label을 만듭니다. (줄 31, 32)\n"
      ]
    },
    {
      "cell_type": "code",
      "metadata": {
        "id": "fChEZvPE8nKR"
      },
      "source": [
        "\"\"\" 마스크 생성 \"\"\"\n",
        "def create_pretrain_mask(tokens, mask_cnt, vocab_list):\n",
        "    cand_idx = []\n",
        "    for (i, token) in enumerate(tokens):\n",
        "        if token == \"[CLS]\" or token == \"[SEP]\":\n",
        "            continue\n",
        "        if 0 < len(cand_idx) and not token.startswith(u\"\\u2581\"):\n",
        "            cand_idx[-1].append(i)\n",
        "        else:\n",
        "            cand_idx.append([i])\n",
        "    shuffle(cand_idx)\n",
        "\n",
        "    mask_lms = []\n",
        "    for index_set in cand_idx:\n",
        "        if len(mask_lms) >= mask_cnt:\n",
        "            break\n",
        "        if len(mask_lms) + len(index_set) > mask_cnt:\n",
        "            continue\n",
        "        for index in index_set:\n",
        "            masked_token = None\n",
        "            if random() < 0.8: # 80% replace with [MASK]\n",
        "                masked_token = \"[MASK]\"\n",
        "            else:\n",
        "                if random() < 0.5: # 10% keep original\n",
        "                    masked_token = tokens[index]\n",
        "                else: # 10% random word\n",
        "                    masked_token = choice(vocab_list)\n",
        "            mask_lms.append({\"index\": index, \"label\": tokens[index]})\n",
        "            tokens[index] = masked_token\n",
        "    mask_lms = sorted(mask_lms, key=lambda x: x[\"index\"])\n",
        "    mask_idx = [p[\"index\"] for p in mask_lms]\n",
        "    mask_label = [p[\"label\"] for p in mask_lms]\n",
        "\n",
        "    return tokens, mask_idx, mask_label"
      ],
      "execution_count": 24,
      "outputs": []
    },
    {
      "cell_type": "code",
      "metadata": {
        "id": "ERcIjN3P86W9"
      },
      "source": [
        "\"\"\" 쵀대 길이 초과하는 토큰 자르기 \"\"\"\n",
        "def trim_tokens(tokens_a, tokens_b, max_seq):\n",
        "    while True:\n",
        "        total_length = len(tokens_a) + len(tokens_b)\n",
        "        if total_length <= max_seq:\n",
        "            break\n",
        "\n",
        "        if len(tokens_a) > len(tokens_b):\n",
        "            del tokens_a[0]\n",
        "        else:\n",
        "            tokens_b.pop()"
      ],
      "execution_count": 25,
      "outputs": []
    },
    {
      "cell_type": "markdown",
      "metadata": {
        "id": "Ii3dCEKH9I6E"
      },
      "source": [
        "### 단락별 pretrain data 생성"
      ]
    },
    {
      "cell_type": "code",
      "metadata": {
        "id": "A4W0unXq87mS"
      },
      "source": [
        "\"\"\" doc별 pretrain 데이터 생성 \"\"\"\n",
        "def create_pretrain_instances(docs, doc_idx, doc, n_seq, mask_prob, vocab_list):\n",
        "    # for [CLS], [SEP], [SEP]\n",
        "    max_seq = n_seq - 3\n",
        "    tgt_seq = max_seq\n",
        "    \n",
        "    instances = []\n",
        "    current_chunk = []\n",
        "    current_length = 0\n",
        "    for i in range(len(doc)):\n",
        "        current_chunk.append(doc[i]) # line\n",
        "        current_length += len(doc[i])\n",
        "        if i == len(doc) - 1 or current_length >= tgt_seq:\n",
        "            if 0 < len(current_chunk):\n",
        "                a_end = 1\n",
        "                if 1 < len(current_chunk):\n",
        "                    a_end = randrange(1, len(current_chunk))\n",
        "                tokens_a = []\n",
        "                for j in range(a_end):\n",
        "                    tokens_a.extend(current_chunk[j])\n",
        "                \n",
        "                tokens_b = []\n",
        "                if len(current_chunk) == 1 or random() < 0.5:\n",
        "                    is_next = 0\n",
        "                    tokens_b_len = tgt_seq - len(tokens_a)\n",
        "                    random_doc_idx = doc_idx\n",
        "                    while doc_idx == random_doc_idx:\n",
        "                        random_doc_idx = randrange(0, len(docs))\n",
        "                    random_doc = docs[random_doc_idx]\n",
        "\n",
        "                    random_start = randrange(0, len(random_doc))\n",
        "                    for j in range(random_start, len(random_doc)):\n",
        "                        tokens_b.extend(random_doc[j])\n",
        "                else:\n",
        "                    is_next = 1\n",
        "                    for j in range(a_end, len(current_chunk)):\n",
        "                        tokens_b.extend(current_chunk[j])\n",
        "\n",
        "                trim_tokens(tokens_a, tokens_b, max_seq)\n",
        "                assert 0 < len(tokens_a)\n",
        "                assert 0 < len(tokens_b)\n",
        "\n",
        "                tokens = [\"[CLS]\"] + tokens_a + [\"[SEP]\"] + tokens_b + [\"[SEP]\"]\n",
        "                segment = [0] * (len(tokens_a) + 2) + [1] * (len(tokens_b) + 1)\n",
        "\n",
        "                tokens, mask_idx, mask_label = create_pretrain_mask(tokens, int((len(tokens) - 3) * mask_prob), vocab_list)\n",
        "\n",
        "                instance = {\n",
        "                    \"tokens\": tokens,\n",
        "                    \"segment\": segment,\n",
        "                    \"is_next\": is_next,\n",
        "                    \"mask_idx\": mask_idx,\n",
        "                    \"mask_label\": mask_label\n",
        "                }\n",
        "                instances.append(instance)\n",
        "\n",
        "            current_chunk = []\n",
        "            current_length = 0\n",
        "    return instances"
      ],
      "execution_count": 58,
      "outputs": []
    },
    {
      "cell_type": "code",
      "metadata": {
        "id": "jCs9lFPm9T7W"
      },
      "source": [
        "\"\"\" pretrain 데이터 생성 \"\"\"\n",
        "def make_pretrain_data(vocab, in_file, out_file, count, n_seq, mask_prob):\n",
        "    vocab_list = []\n",
        "    for id in range(vocab.get_piece_size()):\n",
        "        if not vocab.is_unknown(id):\n",
        "            vocab_list.append(vocab.id_to_piece(id))\n",
        "\n",
        "    line_cnt = 0\n",
        "    with open(in_file, \"r\") as in_f:\n",
        "        for line in in_f:\n",
        "            line_cnt += 1\n",
        "    \n",
        "    docs = []\n",
        "    with open(in_file, \"r\") as f:\n",
        "        doc = []\n",
        "        with tqdm_notebook(total=line_cnt, desc=f\"Loading\") as pbar:\n",
        "            for i, line in enumerate(f):\n",
        "                line = line.strip()\n",
        "                if line == \"\":\n",
        "                    if 0 < len(doc):\n",
        "                        docs.append(doc)\n",
        "                        doc = []\n",
        "                        # 메모리 사용량을 줄이기 위해 100,000개만 처리 함\n",
        "                        if 100000 < len(docs): break\n",
        "                else:\n",
        "                    pieces = vocab.encode_as_pieces(line)\n",
        "                    if 0 < len(pieces):\n",
        "                        doc.append(pieces)\n",
        "                pbar.update(1)\n",
        "        if doc:\n",
        "            docs.append(doc)\n",
        "\n",
        "    for index in range(count):\n",
        "        output = out_file.format(index)\n",
        "        if os.path.isfile(output): continue\n",
        "\n",
        "        with open(output, \"w\") as out_f:\n",
        "            with tqdm_notebook(total=len(docs), desc=f\"Making\") as pbar:\n",
        "                for i, doc in enumerate(docs):\n",
        "                    instances = create_pretrain_instances(docs, i, doc, n_seq, mask_prob, vocab_list)\n",
        "                    for instance in instances:\n",
        "                        out_f.write(json.dumps(instance))\n",
        "                        out_f.write(\"\\n\")\n",
        "                    pbar.update(1)"
      ],
      "execution_count": 59,
      "outputs": []
    },
    {
      "cell_type": "code",
      "metadata": {
        "colab": {
          "base_uri": "https://localhost:8080/",
          "height": 123,
          "referenced_widgets": [
            "250832f1e0254aabb502ed7caa0cecbb",
            "46e97d0db0c847289ae5819071050699",
            "c22be067b6d84f69afe5a54f303e6081",
            "51d8fa56b7c54ff58bfd1838a4a9bc7e",
            "a0107317f7574ade898d60e6947fd41b",
            "af01cd1a5ace4b5999aed91a5f7bd257",
            "2575733298fe46d0891ee27fc81c8822",
            "bf8a716ccb5047f798b7d98c7c502efd",
            "0d86e46545f84591a63083f5cda130a2",
            "f2d8dfe5a8ce4d2c9fd855a73aca0622",
            "8145eb4b8b674b6195b5205b526d9777"
          ]
        },
        "id": "BCMBMCiB9Uf1",
        "outputId": "e186e773-ad7d-4895-eb56-9bbe1e6a9345"
      },
      "source": [
        "in_file = f\"{data_dir}/kowiki.txt\"\n",
        "out_file = f\"{data_dir}/kowiki_bert\" + \"_{}.json\"\n",
        "count = 1\n",
        "n_seq = 256\n",
        "mask_prob = 0.15\n",
        "\n",
        "make_pretrain_data(vocab, in_file, out_file, count, n_seq, mask_prob)"
      ],
      "execution_count": 60,
      "outputs": [
        {
          "output_type": "stream",
          "name": "stderr",
          "text": [
            "/usr/local/lib/python3.7/dist-packages/ipykernel_launcher.py:16: TqdmDeprecationWarning: This function will be removed in tqdm==5.0.0\n",
            "Please use `tqdm.notebook.tqdm` instead of `tqdm.tqdm_notebook`\n",
            "  app.launch_new_instance()\n"
          ]
        },
        {
          "output_type": "display_data",
          "data": {
            "application/vnd.jupyter.widget-view+json": {
              "model_id": "250832f1e0254aabb502ed7caa0cecbb",
              "version_minor": 0,
              "version_major": 2
            },
            "text/plain": [
              "Loading: 0it [00:00, ?it/s]"
            ]
          },
          "metadata": {}
        }
      ]
    },
    {
      "cell_type": "markdown",
      "metadata": {
        "id": "W42OfRtH9w2q"
      },
      "source": [
        "### GDT Pretrained Data"
      ]
    },
    {
      "cell_type": "code",
      "metadata": {
        "id": "5FdDXFVs9Vk0"
      },
      "source": [
        "\"\"\" pretrain 데이터 생성 \"\"\"\n",
        "def make_pretrain_data(vocab, in_file, out_file, count, n_seq, mask_prob):\n",
        "    vocab_list = []\n",
        "    for id in range(vocab.get_piece_size()):\n",
        "        if not vocab.is_unknown(id):\n",
        "            vocab_list.append(vocab.id_to_piece(id))\n",
        "\n",
        "    line_cnt = 0\n",
        "    with open(in_file, \"r\") as in_f:\n",
        "        for line in in_f:\n",
        "            line_cnt += 1\n",
        "    \n",
        "    docs = []\n",
        "    with open(in_file, \"r\") as f:\n",
        "        doc = []\n",
        "        with tqdm(total=line_cnt, desc=f\"Loading\") as pbar:\n",
        "            for i, line in enumerate(f):\n",
        "                line = line.strip()\n",
        "                if line == \"\":\n",
        "                    if 0 < len(doc):\n",
        "                        docs.append(doc)\n",
        "                        doc = []\n",
        "                else:\n",
        "                    pieces = vocab.encode_as_pieces(line)\n",
        "                    if 0 < len(pieces):\n",
        "                        doc.append(pieces)\n",
        "                pbar.update(1)\n",
        "        if doc:\n",
        "            docs.append(doc)\n",
        "\n",
        "    for index in range(count):\n",
        "        output = out_file.format(index)\n",
        "        if os.path.isfile(output): continue\n",
        "\n",
        "        with open(output, \"w\") as out_f:\n",
        "            with tqdm(total=len(docs), desc=f\"Making\") as pbar:\n",
        "                for i, doc in enumerate(docs):\n",
        "                    instances = create_pretrain_instances(docs, i, doc, n_seq, mask_prob, vocab_list)\n",
        "                    for instance in instances:\n",
        "                        out_f.write(json.dumps(instance))\n",
        "                        out_f.write(\"\\n\")\n",
        "                    pbar.update(1)"
      ],
      "execution_count": 61,
      "outputs": []
    },
    {
      "cell_type": "code",
      "metadata": {
        "id": "uAmswceiAnfZ"
      },
      "source": [
        "\"\"\" pretrain data collate_fn \"\"\"\n",
        "def pretrin_collate_fn(inputs):\n",
        "    labels_cls, labels_lm, inputs, segments = list(zip(*inputs))\n",
        "\n",
        "    labels_lm = torch.nn.utils.rnn.pad_sequence(labels_lm, batch_first=True, padding_value=-1)\n",
        "    inputs = torch.nn.utils.rnn.pad_sequence(inputs, batch_first=True, padding_value=0)\n",
        "    segments = torch.nn.utils.rnn.pad_sequence(segments, batch_first=True, padding_value=0)\n",
        "\n",
        "    batch = [\n",
        "        torch.stack(labels_cls, dim=0),\n",
        "        labels_lm,\n",
        "        inputs,\n",
        "        segments\n",
        "    ]\n",
        "    return batch"
      ],
      "execution_count": 62,
      "outputs": []
    },
    {
      "cell_type": "code",
      "metadata": {
        "colab": {
          "base_uri": "https://localhost:8080/",
          "height": 412
        },
        "id": "2zd7PG01AqTg",
        "outputId": "3162edc6-f12c-4c00-dc29-572a92ded903"
      },
      "source": [
        "\"\"\" pretrain 데이터 로더 \"\"\"\n",
        "batch_size = 128\n",
        "dataset = PretrainDataSet(vocab, f\"{data_dir}/kowiki_bert_0.json\")\n",
        "train_loader = torch.utils.data.DataLoader(dataset, batch_size=batch_size, shuffle=True, collate_fn=pretrin_collate_fn)\n"
      ],
      "execution_count": 63,
      "outputs": [
        {
          "output_type": "stream",
          "name": "stderr",
          "text": [
            "Loading /content/drive/My Drive/BERT_DATA/kowiki_bert_0.json: 0 lines [00:00, ? lines/s]\n"
          ]
        },
        {
          "output_type": "error",
          "ename": "ValueError",
          "evalue": "ignored",
          "traceback": [
            "\u001b[0;31m---------------------------------------------------------------------------\u001b[0m",
            "\u001b[0;31mValueError\u001b[0m                                Traceback (most recent call last)",
            "\u001b[0;32m<ipython-input-63-59b0d7841d23>\u001b[0m in \u001b[0;36m<module>\u001b[0;34m()\u001b[0m\n\u001b[1;32m      2\u001b[0m \u001b[0mbatch_size\u001b[0m \u001b[0;34m=\u001b[0m \u001b[0;36m128\u001b[0m\u001b[0;34m\u001b[0m\u001b[0;34m\u001b[0m\u001b[0m\n\u001b[1;32m      3\u001b[0m \u001b[0mdataset\u001b[0m \u001b[0;34m=\u001b[0m \u001b[0mPretrainDataSet\u001b[0m\u001b[0;34m(\u001b[0m\u001b[0mvocab\u001b[0m\u001b[0;34m,\u001b[0m \u001b[0;34mf\"{data_dir}/kowiki_bert_0.json\"\u001b[0m\u001b[0;34m)\u001b[0m\u001b[0;34m\u001b[0m\u001b[0;34m\u001b[0m\u001b[0m\n\u001b[0;32m----> 4\u001b[0;31m \u001b[0mtrain_loader\u001b[0m \u001b[0;34m=\u001b[0m \u001b[0mtorch\u001b[0m\u001b[0;34m.\u001b[0m\u001b[0mutils\u001b[0m\u001b[0;34m.\u001b[0m\u001b[0mdata\u001b[0m\u001b[0;34m.\u001b[0m\u001b[0mDataLoader\u001b[0m\u001b[0;34m(\u001b[0m\u001b[0mdataset\u001b[0m\u001b[0;34m,\u001b[0m \u001b[0mbatch_size\u001b[0m\u001b[0;34m=\u001b[0m\u001b[0mbatch_size\u001b[0m\u001b[0;34m,\u001b[0m \u001b[0mshuffle\u001b[0m\u001b[0;34m=\u001b[0m\u001b[0;32mTrue\u001b[0m\u001b[0;34m,\u001b[0m \u001b[0mcollate_fn\u001b[0m\u001b[0;34m=\u001b[0m\u001b[0mpretrin_collate_fn\u001b[0m\u001b[0;34m)\u001b[0m\u001b[0;34m\u001b[0m\u001b[0;34m\u001b[0m\u001b[0m\n\u001b[0m",
            "\u001b[0;32m/usr/local/lib/python3.7/dist-packages/torch/utils/data/dataloader.py\u001b[0m in \u001b[0;36m__init__\u001b[0;34m(self, dataset, batch_size, shuffle, sampler, batch_sampler, num_workers, collate_fn, pin_memory, drop_last, timeout, worker_init_fn, multiprocessing_context, generator, prefetch_factor, persistent_workers)\u001b[0m\n\u001b[1;32m    268\u001b[0m                     \u001b[0;31m# Cannot statically verify that dataset is Sized\u001b[0m\u001b[0;34m\u001b[0m\u001b[0;34m\u001b[0m\u001b[0;34m\u001b[0m\u001b[0m\n\u001b[1;32m    269\u001b[0m                     \u001b[0;31m# Somewhat related: see NOTE [ Lack of Default `__len__` in Python Abstract Base Classes ]\u001b[0m\u001b[0;34m\u001b[0m\u001b[0;34m\u001b[0m\u001b[0;34m\u001b[0m\u001b[0m\n\u001b[0;32m--> 270\u001b[0;31m                     \u001b[0msampler\u001b[0m \u001b[0;34m=\u001b[0m \u001b[0mRandomSampler\u001b[0m\u001b[0;34m(\u001b[0m\u001b[0mdataset\u001b[0m\u001b[0;34m,\u001b[0m \u001b[0mgenerator\u001b[0m\u001b[0;34m=\u001b[0m\u001b[0mgenerator\u001b[0m\u001b[0;34m)\u001b[0m  \u001b[0;31m# type: ignore[arg-type]\u001b[0m\u001b[0;34m\u001b[0m\u001b[0;34m\u001b[0m\u001b[0m\n\u001b[0m\u001b[1;32m    271\u001b[0m                 \u001b[0;32melse\u001b[0m\u001b[0;34m:\u001b[0m\u001b[0;34m\u001b[0m\u001b[0;34m\u001b[0m\u001b[0m\n\u001b[1;32m    272\u001b[0m                     \u001b[0msampler\u001b[0m \u001b[0;34m=\u001b[0m \u001b[0mSequentialSampler\u001b[0m\u001b[0;34m(\u001b[0m\u001b[0mdataset\u001b[0m\u001b[0;34m)\u001b[0m  \u001b[0;31m# type: ignore[arg-type]\u001b[0m\u001b[0;34m\u001b[0m\u001b[0;34m\u001b[0m\u001b[0m\n",
            "\u001b[0;32m/usr/local/lib/python3.7/dist-packages/torch/utils/data/sampler.py\u001b[0m in \u001b[0;36m__init__\u001b[0;34m(self, data_source, replacement, num_samples, generator)\u001b[0m\n\u001b[1;32m    101\u001b[0m         \u001b[0;32mif\u001b[0m \u001b[0;32mnot\u001b[0m \u001b[0misinstance\u001b[0m\u001b[0;34m(\u001b[0m\u001b[0mself\u001b[0m\u001b[0;34m.\u001b[0m\u001b[0mnum_samples\u001b[0m\u001b[0;34m,\u001b[0m \u001b[0mint\u001b[0m\u001b[0;34m)\u001b[0m \u001b[0;32mor\u001b[0m \u001b[0mself\u001b[0m\u001b[0;34m.\u001b[0m\u001b[0mnum_samples\u001b[0m \u001b[0;34m<=\u001b[0m \u001b[0;36m0\u001b[0m\u001b[0;34m:\u001b[0m\u001b[0;34m\u001b[0m\u001b[0;34m\u001b[0m\u001b[0m\n\u001b[1;32m    102\u001b[0m             raise ValueError(\"num_samples should be a positive integer \"\n\u001b[0;32m--> 103\u001b[0;31m                              \"value, but got num_samples={}\".format(self.num_samples))\n\u001b[0m\u001b[1;32m    104\u001b[0m \u001b[0;34m\u001b[0m\u001b[0m\n\u001b[1;32m    105\u001b[0m     \u001b[0;34m@\u001b[0m\u001b[0mproperty\u001b[0m\u001b[0;34m\u001b[0m\u001b[0;34m\u001b[0m\u001b[0m\n",
            "\u001b[0;31mValueError\u001b[0m: num_samples should be a positive integer value, but got num_samples=0"
          ]
        }
      ]
    },
    {
      "cell_type": "code",
      "metadata": {
        "id": "hs7TQcvI-D2m"
      },
      "source": [
        "\"\"\" pretrain 데이터셋 \"\"\"\n",
        "class PretrainDataSet(torch.utils.data.Dataset):\n",
        "    def __init__(self, vocab, infile):\n",
        "        self.vocab = vocab\n",
        "        self.labels_cls = []\n",
        "        self.labels_lm = []\n",
        "        self.sentences = []\n",
        "        self.segments = []\n",
        "\n",
        "        line_cnt = 0\n",
        "        with open(infile, \"r\") as f:\n",
        "            for line in f:\n",
        "                line_cnt += 1\n",
        "\n",
        "        with open(infile, \"r\") as f:\n",
        "            for i, line in enumerate(tqdm(f, total=line_cnt, desc=f\"Loading {infile}\", unit=\" lines\")):\n",
        "                instance = json.loads(line)\n",
        "                self.labels_cls.append(instance[\"is_next\"])\n",
        "                sentences = [vocab.piece_to_id(p) for p in instance[\"tokens\"]]\n",
        "                self.sentences.append(sentences)\n",
        "                self.segments.append(instance[\"segment\"])\n",
        "                mask_idx = np.array(instance[\"mask_idx\"], dtype=np.int)\n",
        "                mask_label = np.array([vocab.piece_to_id(p) for p in instance[\"mask_label\"]], dtype=np.int)\n",
        "                label_lm = np.full(len(sentences), dtype=np.int, fill_value=-1)\n",
        "                label_lm[mask_idx] = mask_label\n",
        "                self.labels_lm.append(label_lm)\n",
        "    \n",
        "    def __len__(self):\n",
        "        assert len(self.labels_cls) == len(self.labels_lm)\n",
        "        assert len(self.labels_cls) == len(self.sentences)\n",
        "        assert len(self.labels_cls) == len(self.segments)\n",
        "        return len(self.labels_cls)\n",
        "    \n",
        "    def __getitem__(self, item):\n",
        "        return (torch.tensor(self.labels_cls[item]),\n",
        "                torch.tensor(self.labels_lm[item]),\n",
        "                torch.tensor(self.sentences[item]),\n",
        "                torch.tensor(self.segments[item]))"
      ],
      "execution_count": 39,
      "outputs": []
    },
    {
      "cell_type": "code",
      "metadata": {
        "id": "hU5pCTfH_Ij-"
      },
      "source": [
        "\n",
        "\"\"\" pretrain data collate_fn \"\"\"\n",
        "def pretrin_collate_fn(inputs):\n",
        "    labels_cls, labels_lm, inputs, segments = list(zip(*inputs))\n",
        "\n",
        "    labels_lm = torch.nn.utils.rnn.pad_sequence(labels_lm, batch_first=True, padding_value=-1)\n",
        "    inputs = torch.nn.utils.rnn.pad_sequence(inputs, batch_first=True, padding_value=0)\n",
        "    segments = torch.nn.utils.rnn.pad_sequence(segments, batch_first=True, padding_value=0)\n",
        "\n",
        "    batch = [\n",
        "        torch.stack(labels_cls, dim=0),\n",
        "        labels_lm,\n",
        "        inputs,\n",
        "        segments\n",
        "    ]\n",
        "    return batch"
      ],
      "execution_count": 41,
      "outputs": []
    },
    {
      "cell_type": "code",
      "metadata": {
        "colab": {
          "base_uri": "https://localhost:8080/",
          "height": 412
        },
        "id": "w_gkFhaO_Li_",
        "outputId": "fdd3ab9b-164d-41ed-8fa8-8672d52b86eb"
      },
      "source": [
        "\n",
        "\"\"\" pretrain 데이터 로더 \"\"\"\n",
        "batch_size = 128\n",
        "dataset = PretrainDataSet(vocab, f\"{data_dir}/kowiki_bert_0.json\")\n",
        "train_loader = torch.utils.data.DataLoader(dataset, batch_size=batch_size, shuffle=True, collate_fn=pretrin_collate_fn)"
      ],
      "execution_count": 42,
      "outputs": [
        {
          "output_type": "stream",
          "name": "stderr",
          "text": [
            "Loading /content/drive/My Drive/BERT_DATA/kowiki_bert_0.json: 0 lines [00:00, ? lines/s]\n"
          ]
        },
        {
          "output_type": "error",
          "ename": "ValueError",
          "evalue": "ignored",
          "traceback": [
            "\u001b[0;31m---------------------------------------------------------------------------\u001b[0m",
            "\u001b[0;31mValueError\u001b[0m                                Traceback (most recent call last)",
            "\u001b[0;32m<ipython-input-42-fa4eb6ed2afd>\u001b[0m in \u001b[0;36m<module>\u001b[0;34m()\u001b[0m\n\u001b[1;32m      3\u001b[0m \u001b[0mbatch_size\u001b[0m \u001b[0;34m=\u001b[0m \u001b[0;36m128\u001b[0m\u001b[0;34m\u001b[0m\u001b[0;34m\u001b[0m\u001b[0m\n\u001b[1;32m      4\u001b[0m \u001b[0mdataset\u001b[0m \u001b[0;34m=\u001b[0m \u001b[0mPretrainDataSet\u001b[0m\u001b[0;34m(\u001b[0m\u001b[0mvocab\u001b[0m\u001b[0;34m,\u001b[0m \u001b[0;34mf\"{data_dir}/kowiki_bert_0.json\"\u001b[0m\u001b[0;34m)\u001b[0m\u001b[0;34m\u001b[0m\u001b[0;34m\u001b[0m\u001b[0m\n\u001b[0;32m----> 5\u001b[0;31m \u001b[0mtrain_loader\u001b[0m \u001b[0;34m=\u001b[0m \u001b[0mtorch\u001b[0m\u001b[0;34m.\u001b[0m\u001b[0mutils\u001b[0m\u001b[0;34m.\u001b[0m\u001b[0mdata\u001b[0m\u001b[0;34m.\u001b[0m\u001b[0mDataLoader\u001b[0m\u001b[0;34m(\u001b[0m\u001b[0mdataset\u001b[0m\u001b[0;34m,\u001b[0m \u001b[0mbatch_size\u001b[0m\u001b[0;34m=\u001b[0m\u001b[0mbatch_size\u001b[0m\u001b[0;34m,\u001b[0m \u001b[0mshuffle\u001b[0m\u001b[0;34m=\u001b[0m\u001b[0;32mTrue\u001b[0m\u001b[0;34m,\u001b[0m \u001b[0mcollate_fn\u001b[0m\u001b[0;34m=\u001b[0m\u001b[0mpretrin_collate_fn\u001b[0m\u001b[0;34m)\u001b[0m\u001b[0;34m\u001b[0m\u001b[0;34m\u001b[0m\u001b[0m\n\u001b[0m",
            "\u001b[0;32m/usr/local/lib/python3.7/dist-packages/torch/utils/data/dataloader.py\u001b[0m in \u001b[0;36m__init__\u001b[0;34m(self, dataset, batch_size, shuffle, sampler, batch_sampler, num_workers, collate_fn, pin_memory, drop_last, timeout, worker_init_fn, multiprocessing_context, generator, prefetch_factor, persistent_workers)\u001b[0m\n\u001b[1;32m    268\u001b[0m                     \u001b[0;31m# Cannot statically verify that dataset is Sized\u001b[0m\u001b[0;34m\u001b[0m\u001b[0;34m\u001b[0m\u001b[0;34m\u001b[0m\u001b[0m\n\u001b[1;32m    269\u001b[0m                     \u001b[0;31m# Somewhat related: see NOTE [ Lack of Default `__len__` in Python Abstract Base Classes ]\u001b[0m\u001b[0;34m\u001b[0m\u001b[0;34m\u001b[0m\u001b[0;34m\u001b[0m\u001b[0m\n\u001b[0;32m--> 270\u001b[0;31m                     \u001b[0msampler\u001b[0m \u001b[0;34m=\u001b[0m \u001b[0mRandomSampler\u001b[0m\u001b[0;34m(\u001b[0m\u001b[0mdataset\u001b[0m\u001b[0;34m,\u001b[0m \u001b[0mgenerator\u001b[0m\u001b[0;34m=\u001b[0m\u001b[0mgenerator\u001b[0m\u001b[0;34m)\u001b[0m  \u001b[0;31m# type: ignore[arg-type]\u001b[0m\u001b[0;34m\u001b[0m\u001b[0;34m\u001b[0m\u001b[0m\n\u001b[0m\u001b[1;32m    271\u001b[0m                 \u001b[0;32melse\u001b[0m\u001b[0;34m:\u001b[0m\u001b[0;34m\u001b[0m\u001b[0;34m\u001b[0m\u001b[0m\n\u001b[1;32m    272\u001b[0m                     \u001b[0msampler\u001b[0m \u001b[0;34m=\u001b[0m \u001b[0mSequentialSampler\u001b[0m\u001b[0;34m(\u001b[0m\u001b[0mdataset\u001b[0m\u001b[0;34m)\u001b[0m  \u001b[0;31m# type: ignore[arg-type]\u001b[0m\u001b[0;34m\u001b[0m\u001b[0;34m\u001b[0m\u001b[0m\n",
            "\u001b[0;32m/usr/local/lib/python3.7/dist-packages/torch/utils/data/sampler.py\u001b[0m in \u001b[0;36m__init__\u001b[0;34m(self, data_source, replacement, num_samples, generator)\u001b[0m\n\u001b[1;32m    101\u001b[0m         \u001b[0;32mif\u001b[0m \u001b[0;32mnot\u001b[0m \u001b[0misinstance\u001b[0m\u001b[0;34m(\u001b[0m\u001b[0mself\u001b[0m\u001b[0;34m.\u001b[0m\u001b[0mnum_samples\u001b[0m\u001b[0;34m,\u001b[0m \u001b[0mint\u001b[0m\u001b[0;34m)\u001b[0m \u001b[0;32mor\u001b[0m \u001b[0mself\u001b[0m\u001b[0;34m.\u001b[0m\u001b[0mnum_samples\u001b[0m \u001b[0;34m<=\u001b[0m \u001b[0;36m0\u001b[0m\u001b[0;34m:\u001b[0m\u001b[0;34m\u001b[0m\u001b[0;34m\u001b[0m\u001b[0m\n\u001b[1;32m    102\u001b[0m             raise ValueError(\"num_samples should be a positive integer \"\n\u001b[0;32m--> 103\u001b[0;31m                              \"value, but got num_samples={}\".format(self.num_samples))\n\u001b[0m\u001b[1;32m    104\u001b[0m \u001b[0;34m\u001b[0m\u001b[0m\n\u001b[1;32m    105\u001b[0m     \u001b[0;34m@\u001b[0m\u001b[0mproperty\u001b[0m\u001b[0;34m\u001b[0m\u001b[0;34m\u001b[0m\u001b[0m\n",
            "\u001b[0;31mValueError\u001b[0m: num_samples should be a positive integer value, but got num_samples=0"
          ]
        }
      ]
    },
    {
      "cell_type": "code",
      "metadata": {
        "id": "w5Gf1CFd_L_4"
      },
      "source": [
        "\"\"\" 모델 epoch 학습 \"\"\"\n",
        "def train_epoch(config, epoch, model, criterion_lm, criterion_cls, optimizer, train_loader):\n",
        "    losses = []\n",
        "    model.train()\n",
        "\n",
        "    with tqdm(total=len(train_loader), desc=f\"Train({epoch})\") as pbar:\n",
        "        for i, value in enumerate(train_loader):\n",
        "            labels_cls, labels_lm, inputs, segments = map(lambda v: v.to(config.device), value)\n",
        "\n",
        "            optimizer.zero_grad()\n",
        "            outputs = model(inputs, segments)\n",
        "            logits_cls, logits_lm = outputs[0], outputs[1]\n",
        "\n",
        "            loss_cls = criterion_cls(logits_cls, labels_cls)\n",
        "            loss_lm = criterion_lm(logits_lm.view(-1, logits_lm.size(2)), labels_lm.view(-1))\n",
        "            loss = loss_cls + loss_lm\n",
        "\n",
        "            loss_val = loss_lm.item()\n",
        "            losses.append(loss_val)\n",
        "\n",
        "            loss.backward()\n",
        "            optimizer.step()\n",
        "\n",
        "            pbar.update(1)\n",
        "            pbar.set_postfix_str(f\"Loss: {loss_val:.3f} ({np.mean(losses):.3f})\")\n",
        "    return np.mean(losses)"
      ],
      "execution_count": 43,
      "outputs": []
    },
    {
      "cell_type": "code",
      "metadata": {
        "colab": {
          "base_uri": "https://localhost:8080/"
        },
        "id": "Pimt_dh7_P5b",
        "outputId": "f83ae680-6040-4c06-8584-7a2fcce1c3df"
      },
      "source": [
        "config.device = torch.device(\"cuda\" if torch.cuda.is_available() else \"cpu\")\n",
        "print(config)\n",
        "\n",
        "learning_rate = 5e-5\n",
        "n_epoch = 20"
      ],
      "execution_count": 44,
      "outputs": [
        {
          "output_type": "stream",
          "name": "stdout",
          "text": [
            "{'n_enc_vocab': 8007, 'n_enc_seq': 256, 'n_seg_type': 2, 'n_layer': 6, 'd_hidn': 256, 'i_pad': 0, 'd_ff': 1024, 'n_head': 4, 'd_head': 64, 'dropout': 0.1, 'layer_norm_epsilon': 1e-12, 'device': device(type='cpu')}\n"
          ]
        }
      ]
    },
    {
      "cell_type": "code",
      "metadata": {
        "colab": {
          "base_uri": "https://localhost:8080/",
          "height": 394
        },
        "id": "1Jxrezl5_Rel",
        "outputId": "54cfc7e6-ec64-419e-a22f-a07c938f13ae"
      },
      "source": [
        "\n",
        "model = BERTPretrain(config)\n",
        "\n",
        "save_pretrain = f\"{data_dir}/save_bert_pretrain.pth\"\n",
        "best_epoch, best_loss = 0, 0\n",
        "if os.path.isfile(save_pretrain):\n",
        "    best_epoch, best_loss = model.bert.load(save_pretrain)\n",
        "    print(f\"load pretrain from: {save_pretrain}, epoch={best_epoch}, loss={best_loss}\")\n",
        "    best_epoch += 1\n",
        "\n",
        "model.to(config.device)\n",
        "\n",
        "criterion_lm = torch.nn.CrossEntropyLoss(ignore_index=-1, reduction='mean')\n",
        "criterion_cls = torch.nn.CrossEntropyLoss()\n",
        "optimizer = torch.optim.Adam(model.parameters(), lr=learning_rate)\n",
        "\n",
        "losses = []\n",
        "offset = best_epoch\n",
        "for step in range(n_epoch):\n",
        "    epoch = step + offset\n",
        "    if 0 < step:\n",
        "        del train_loader\n",
        "        dataset = PretrainDataSet(vocab, f\"{data_dir}/kowiki_bert_{epoch % count}.json\")\n",
        "        train_loader = torch.utils.data.DataLoader(dataset, batch_size=batch_size, shuffle=True, collate_fn=pretrin_collate_fn)\n",
        "\n",
        "    loss = train_epoch(config, epoch, model, criterion_lm, criterion_cls, optimizer, train_loader)\n",
        "    losses.append(loss)\n",
        "    model.bert.save(epoch, loss, save_pretrain)"
      ],
      "execution_count": 45,
      "outputs": [
        {
          "output_type": "error",
          "ename": "AttributeError",
          "evalue": "ignored",
          "traceback": [
            "\u001b[0;31m---------------------------------------------------------------------------\u001b[0m",
            "\u001b[0;31mAttributeError\u001b[0m                            Traceback (most recent call last)",
            "\u001b[0;32m<ipython-input-45-a28d7a07d7d0>\u001b[0m in \u001b[0;36m<module>\u001b[0;34m()\u001b[0m\n\u001b[1;32m      1\u001b[0m \u001b[0;34m\u001b[0m\u001b[0m\n\u001b[0;32m----> 2\u001b[0;31m \u001b[0mmodel\u001b[0m \u001b[0;34m=\u001b[0m \u001b[0mBERTPretrain\u001b[0m\u001b[0;34m(\u001b[0m\u001b[0mconfig\u001b[0m\u001b[0;34m)\u001b[0m\u001b[0;34m\u001b[0m\u001b[0;34m\u001b[0m\u001b[0m\n\u001b[0m\u001b[1;32m      3\u001b[0m \u001b[0;34m\u001b[0m\u001b[0m\n\u001b[1;32m      4\u001b[0m \u001b[0msave_pretrain\u001b[0m \u001b[0;34m=\u001b[0m \u001b[0;34mf\"{data_dir}/save_bert_pretrain.pth\"\u001b[0m\u001b[0;34m\u001b[0m\u001b[0;34m\u001b[0m\u001b[0m\n\u001b[1;32m      5\u001b[0m \u001b[0mbest_epoch\u001b[0m\u001b[0;34m,\u001b[0m \u001b[0mbest_loss\u001b[0m \u001b[0;34m=\u001b[0m \u001b[0;36m0\u001b[0m\u001b[0;34m,\u001b[0m \u001b[0;36m0\u001b[0m\u001b[0;34m\u001b[0m\u001b[0;34m\u001b[0m\u001b[0m\n",
            "\u001b[0;32m<ipython-input-23-3f5e854f93b8>\u001b[0m in \u001b[0;36m__init__\u001b[0;34m(self, config)\u001b[0m\n\u001b[1;32m      5\u001b[0m         \u001b[0mself\u001b[0m\u001b[0;34m.\u001b[0m\u001b[0mconfig\u001b[0m \u001b[0;34m=\u001b[0m \u001b[0mconfig\u001b[0m\u001b[0;34m\u001b[0m\u001b[0;34m\u001b[0m\u001b[0m\n\u001b[1;32m      6\u001b[0m \u001b[0;34m\u001b[0m\u001b[0m\n\u001b[0;32m----> 7\u001b[0;31m         \u001b[0mself\u001b[0m\u001b[0;34m.\u001b[0m\u001b[0mbert\u001b[0m \u001b[0;34m=\u001b[0m \u001b[0mBERT\u001b[0m\u001b[0;34m(\u001b[0m\u001b[0mself\u001b[0m\u001b[0;34m.\u001b[0m\u001b[0mconfig\u001b[0m\u001b[0;34m)\u001b[0m\u001b[0;34m\u001b[0m\u001b[0;34m\u001b[0m\u001b[0m\n\u001b[0m\u001b[1;32m      8\u001b[0m         \u001b[0;31m# classfier\u001b[0m\u001b[0;34m\u001b[0m\u001b[0;34m\u001b[0m\u001b[0;34m\u001b[0m\u001b[0m\n\u001b[1;32m      9\u001b[0m         \u001b[0mself\u001b[0m\u001b[0;34m.\u001b[0m\u001b[0mprojection_cls\u001b[0m \u001b[0;34m=\u001b[0m \u001b[0mnn\u001b[0m\u001b[0;34m.\u001b[0m\u001b[0mLinear\u001b[0m\u001b[0;34m(\u001b[0m\u001b[0mself\u001b[0m\u001b[0;34m.\u001b[0m\u001b[0mconfig\u001b[0m\u001b[0;34m.\u001b[0m\u001b[0md_hidn\u001b[0m\u001b[0;34m,\u001b[0m \u001b[0;36m2\u001b[0m\u001b[0;34m,\u001b[0m \u001b[0mbias\u001b[0m\u001b[0;34m=\u001b[0m\u001b[0;32mFalse\u001b[0m\u001b[0;34m)\u001b[0m\u001b[0;34m\u001b[0m\u001b[0;34m\u001b[0m\u001b[0m\n",
            "\u001b[0;32m<ipython-input-22-3e65041e7b6b>\u001b[0m in \u001b[0;36m__init__\u001b[0;34m(self, config)\u001b[0m\n\u001b[1;32m      5\u001b[0m         \u001b[0mself\u001b[0m\u001b[0;34m.\u001b[0m\u001b[0mconfig\u001b[0m \u001b[0;34m=\u001b[0m \u001b[0mconfig\u001b[0m\u001b[0;34m\u001b[0m\u001b[0;34m\u001b[0m\u001b[0m\n\u001b[1;32m      6\u001b[0m \u001b[0;34m\u001b[0m\u001b[0m\n\u001b[0;32m----> 7\u001b[0;31m         \u001b[0mself\u001b[0m\u001b[0;34m.\u001b[0m\u001b[0mencoder\u001b[0m \u001b[0;34m=\u001b[0m \u001b[0mEncoder\u001b[0m\u001b[0;34m(\u001b[0m\u001b[0mself\u001b[0m\u001b[0;34m.\u001b[0m\u001b[0mconfig\u001b[0m\u001b[0;34m)\u001b[0m\u001b[0;34m\u001b[0m\u001b[0;34m\u001b[0m\u001b[0m\n\u001b[0m\u001b[1;32m      8\u001b[0m \u001b[0;34m\u001b[0m\u001b[0m\n\u001b[1;32m      9\u001b[0m         \u001b[0mself\u001b[0m\u001b[0;34m.\u001b[0m\u001b[0mlinear\u001b[0m \u001b[0;34m=\u001b[0m \u001b[0mnn\u001b[0m\u001b[0;34m.\u001b[0m\u001b[0mLinear\u001b[0m\u001b[0;34m(\u001b[0m\u001b[0mconfig\u001b[0m\u001b[0;34m.\u001b[0m\u001b[0md_hidn\u001b[0m\u001b[0;34m,\u001b[0m \u001b[0mconfig\u001b[0m\u001b[0;34m.\u001b[0m\u001b[0md_hidn\u001b[0m\u001b[0;34m)\u001b[0m\u001b[0;34m\u001b[0m\u001b[0;34m\u001b[0m\u001b[0m\n",
            "\u001b[0;32m<ipython-input-21-e9f0374eb36c>\u001b[0m in \u001b[0;36m__init__\u001b[0;34m(self, config)\u001b[0m\n\u001b[1;32m      7\u001b[0m     \u001b[0mself\u001b[0m\u001b[0;34m.\u001b[0m\u001b[0mpos_emb\u001b[0m\u001b[0;34m=\u001b[0m\u001b[0mnn\u001b[0m\u001b[0;34m.\u001b[0m\u001b[0mEmbedding\u001b[0m\u001b[0;34m(\u001b[0m\u001b[0mself\u001b[0m\u001b[0;34m.\u001b[0m\u001b[0mconfig\u001b[0m\u001b[0;34m.\u001b[0m\u001b[0mn_enc_seq\u001b[0m\u001b[0;34m+\u001b[0m\u001b[0;36m1\u001b[0m\u001b[0;34m,\u001b[0m \u001b[0mself\u001b[0m\u001b[0;34m.\u001b[0m\u001b[0mconfig\u001b[0m\u001b[0;34m.\u001b[0m\u001b[0md_hidn\u001b[0m\u001b[0;34m)\u001b[0m\u001b[0;34m\u001b[0m\u001b[0;34m\u001b[0m\u001b[0m\n\u001b[1;32m      8\u001b[0m     \u001b[0mself\u001b[0m\u001b[0;34m.\u001b[0m\u001b[0mseg_emb\u001b[0m\u001b[0;34m=\u001b[0m\u001b[0mnn\u001b[0m\u001b[0;34m.\u001b[0m\u001b[0mEmbedding\u001b[0m\u001b[0;34m(\u001b[0m\u001b[0mself\u001b[0m\u001b[0;34m.\u001b[0m\u001b[0mconfig\u001b[0m\u001b[0;34m.\u001b[0m\u001b[0mn_seg_type\u001b[0m\u001b[0;34m,\u001b[0m \u001b[0mself\u001b[0m\u001b[0;34m.\u001b[0m\u001b[0mconfig\u001b[0m\u001b[0;34m.\u001b[0m\u001b[0md_hidn\u001b[0m\u001b[0;34m)\u001b[0m\u001b[0;34m\u001b[0m\u001b[0;34m\u001b[0m\u001b[0m\n\u001b[0;32m----> 9\u001b[0;31m     \u001b[0mself\u001b[0m\u001b[0;34m.\u001b[0m\u001b[0mlayers\u001b[0m\u001b[0;34m=\u001b[0m\u001b[0mnn\u001b[0m\u001b[0;34m.\u001b[0m\u001b[0mModuleList\u001b[0m\u001b[0;34m(\u001b[0m\u001b[0;34m[\u001b[0m\u001b[0mEncoderLayer\u001b[0m\u001b[0;34m(\u001b[0m\u001b[0mself\u001b[0m\u001b[0;34m.\u001b[0m\u001b[0mconfig\u001b[0m\u001b[0;34m)\u001b[0m \u001b[0;32mfor\u001b[0m \u001b[0m_\u001b[0m \u001b[0;32min\u001b[0m \u001b[0mrange\u001b[0m\u001b[0;34m(\u001b[0m\u001b[0mself\u001b[0m\u001b[0;34m.\u001b[0m\u001b[0mconfig\u001b[0m\u001b[0;34m.\u001b[0m\u001b[0mn_layer\u001b[0m\u001b[0;34m)\u001b[0m\u001b[0;34m]\u001b[0m\u001b[0;34m)\u001b[0m\u001b[0;34m\u001b[0m\u001b[0;34m\u001b[0m\u001b[0m\n\u001b[0m\u001b[1;32m     10\u001b[0m \u001b[0;34m\u001b[0m\u001b[0m\n\u001b[1;32m     11\u001b[0m   \u001b[0;32mdef\u001b[0m \u001b[0mforward\u001b[0m\u001b[0;34m(\u001b[0m\u001b[0mself\u001b[0m\u001b[0;34m,\u001b[0m \u001b[0minputs\u001b[0m\u001b[0;34m,\u001b[0m \u001b[0msegments\u001b[0m\u001b[0;34m)\u001b[0m\u001b[0;34m:\u001b[0m\u001b[0;34m\u001b[0m\u001b[0;34m\u001b[0m\u001b[0m\n",
            "\u001b[0;32m<ipython-input-21-e9f0374eb36c>\u001b[0m in \u001b[0;36m<listcomp>\u001b[0;34m(.0)\u001b[0m\n\u001b[1;32m      7\u001b[0m     \u001b[0mself\u001b[0m\u001b[0;34m.\u001b[0m\u001b[0mpos_emb\u001b[0m\u001b[0;34m=\u001b[0m\u001b[0mnn\u001b[0m\u001b[0;34m.\u001b[0m\u001b[0mEmbedding\u001b[0m\u001b[0;34m(\u001b[0m\u001b[0mself\u001b[0m\u001b[0;34m.\u001b[0m\u001b[0mconfig\u001b[0m\u001b[0;34m.\u001b[0m\u001b[0mn_enc_seq\u001b[0m\u001b[0;34m+\u001b[0m\u001b[0;36m1\u001b[0m\u001b[0;34m,\u001b[0m \u001b[0mself\u001b[0m\u001b[0;34m.\u001b[0m\u001b[0mconfig\u001b[0m\u001b[0;34m.\u001b[0m\u001b[0md_hidn\u001b[0m\u001b[0;34m)\u001b[0m\u001b[0;34m\u001b[0m\u001b[0;34m\u001b[0m\u001b[0m\n\u001b[1;32m      8\u001b[0m     \u001b[0mself\u001b[0m\u001b[0;34m.\u001b[0m\u001b[0mseg_emb\u001b[0m\u001b[0;34m=\u001b[0m\u001b[0mnn\u001b[0m\u001b[0;34m.\u001b[0m\u001b[0mEmbedding\u001b[0m\u001b[0;34m(\u001b[0m\u001b[0mself\u001b[0m\u001b[0;34m.\u001b[0m\u001b[0mconfig\u001b[0m\u001b[0;34m.\u001b[0m\u001b[0mn_seg_type\u001b[0m\u001b[0;34m,\u001b[0m \u001b[0mself\u001b[0m\u001b[0;34m.\u001b[0m\u001b[0mconfig\u001b[0m\u001b[0;34m.\u001b[0m\u001b[0md_hidn\u001b[0m\u001b[0;34m)\u001b[0m\u001b[0;34m\u001b[0m\u001b[0;34m\u001b[0m\u001b[0m\n\u001b[0;32m----> 9\u001b[0;31m     \u001b[0mself\u001b[0m\u001b[0;34m.\u001b[0m\u001b[0mlayers\u001b[0m\u001b[0;34m=\u001b[0m\u001b[0mnn\u001b[0m\u001b[0;34m.\u001b[0m\u001b[0mModuleList\u001b[0m\u001b[0;34m(\u001b[0m\u001b[0;34m[\u001b[0m\u001b[0mEncoderLayer\u001b[0m\u001b[0;34m(\u001b[0m\u001b[0mself\u001b[0m\u001b[0;34m.\u001b[0m\u001b[0mconfig\u001b[0m\u001b[0;34m)\u001b[0m \u001b[0;32mfor\u001b[0m \u001b[0m_\u001b[0m \u001b[0;32min\u001b[0m \u001b[0mrange\u001b[0m\u001b[0;34m(\u001b[0m\u001b[0mself\u001b[0m\u001b[0;34m.\u001b[0m\u001b[0mconfig\u001b[0m\u001b[0;34m.\u001b[0m\u001b[0mn_layer\u001b[0m\u001b[0;34m)\u001b[0m\u001b[0;34m]\u001b[0m\u001b[0;34m)\u001b[0m\u001b[0;34m\u001b[0m\u001b[0;34m\u001b[0m\u001b[0m\n\u001b[0m\u001b[1;32m     10\u001b[0m \u001b[0;34m\u001b[0m\u001b[0m\n\u001b[1;32m     11\u001b[0m   \u001b[0;32mdef\u001b[0m \u001b[0mforward\u001b[0m\u001b[0;34m(\u001b[0m\u001b[0mself\u001b[0m\u001b[0;34m,\u001b[0m \u001b[0minputs\u001b[0m\u001b[0;34m,\u001b[0m \u001b[0msegments\u001b[0m\u001b[0;34m)\u001b[0m\u001b[0;34m:\u001b[0m\u001b[0;34m\u001b[0m\u001b[0;34m\u001b[0m\u001b[0m\n",
            "\u001b[0;32m<ipython-input-20-ce5d812af31f>\u001b[0m in \u001b[0;36m__init__\u001b[0;34m(self, config)\u001b[0m\n\u001b[1;32m      6\u001b[0m \u001b[0;34m\u001b[0m\u001b[0m\n\u001b[1;32m      7\u001b[0m     \u001b[0mself\u001b[0m\u001b[0;34m.\u001b[0m\u001b[0mself_attn\u001b[0m\u001b[0;34m=\u001b[0m\u001b[0mMultiHeadAttention\u001b[0m\u001b[0;34m(\u001b[0m\u001b[0mself\u001b[0m\u001b[0;34m.\u001b[0m\u001b[0mconfig\u001b[0m\u001b[0;34m)\u001b[0m\u001b[0;34m\u001b[0m\u001b[0;34m\u001b[0m\u001b[0m\n\u001b[0;32m----> 8\u001b[0;31m     \u001b[0mself\u001b[0m\u001b[0;34m.\u001b[0m\u001b[0mlayer_norm1\u001b[0m\u001b[0;34m=\u001b[0m\u001b[0mnn\u001b[0m\u001b[0;34m.\u001b[0m\u001b[0mLayerNorm\u001b[0m\u001b[0;34m(\u001b[0m\u001b[0mself\u001b[0m\u001b[0;34m.\u001b[0m\u001b[0mconfig_hidn\u001b[0m\u001b[0;34m,\u001b[0m \u001b[0meps\u001b[0m\u001b[0;34m=\u001b[0m\u001b[0mself\u001b[0m\u001b[0;34m.\u001b[0m\u001b[0mconfig\u001b[0m\u001b[0;34m.\u001b[0m\u001b[0mlayer_norm_epsilon\u001b[0m\u001b[0;34m)\u001b[0m\u001b[0;34m\u001b[0m\u001b[0;34m\u001b[0m\u001b[0m\n\u001b[0m\u001b[1;32m      9\u001b[0m     \u001b[0mself\u001b[0m\u001b[0;34m.\u001b[0m\u001b[0mpos_ffn\u001b[0m\u001b[0;34m=\u001b[0m\u001b[0mPoswiseFeedForwardNet\u001b[0m\u001b[0;34m(\u001b[0m\u001b[0mself\u001b[0m\u001b[0;34m.\u001b[0m\u001b[0mconfig\u001b[0m\u001b[0;34m)\u001b[0m\u001b[0;34m\u001b[0m\u001b[0;34m\u001b[0m\u001b[0m\n\u001b[1;32m     10\u001b[0m     \u001b[0mself\u001b[0m\u001b[0;34m.\u001b[0m\u001b[0mlayer_norm2\u001b[0m\u001b[0;34m=\u001b[0m\u001b[0mnn\u001b[0m\u001b[0;34m.\u001b[0m\u001b[0mLayerNorm\u001b[0m\u001b[0;34m(\u001b[0m\u001b[0mself\u001b[0m\u001b[0;34m.\u001b[0m\u001b[0mconfig\u001b[0m\u001b[0;34m.\u001b[0m\u001b[0md_hidn\u001b[0m\u001b[0;34m,\u001b[0m \u001b[0meps\u001b[0m\u001b[0;34m=\u001b[0m\u001b[0mself\u001b[0m\u001b[0;34m.\u001b[0m\u001b[0mconfig\u001b[0m\u001b[0;34m.\u001b[0m\u001b[0mlayer_norm_epsilon\u001b[0m\u001b[0;34m)\u001b[0m\u001b[0;34m\u001b[0m\u001b[0;34m\u001b[0m\u001b[0m\n",
            "\u001b[0;32m/usr/local/lib/python3.7/dist-packages/torch/nn/modules/module.py\u001b[0m in \u001b[0;36m__getattr__\u001b[0;34m(self, name)\u001b[0m\n\u001b[1;32m   1129\u001b[0m                 \u001b[0;32mreturn\u001b[0m \u001b[0mmodules\u001b[0m\u001b[0;34m[\u001b[0m\u001b[0mname\u001b[0m\u001b[0;34m]\u001b[0m\u001b[0;34m\u001b[0m\u001b[0;34m\u001b[0m\u001b[0m\n\u001b[1;32m   1130\u001b[0m         raise AttributeError(\"'{}' object has no attribute '{}'\".format(\n\u001b[0;32m-> 1131\u001b[0;31m             type(self).__name__, name))\n\u001b[0m\u001b[1;32m   1132\u001b[0m \u001b[0;34m\u001b[0m\u001b[0m\n\u001b[1;32m   1133\u001b[0m     \u001b[0;32mdef\u001b[0m \u001b[0m__setattr__\u001b[0m\u001b[0;34m(\u001b[0m\u001b[0mself\u001b[0m\u001b[0;34m,\u001b[0m \u001b[0mname\u001b[0m\u001b[0;34m:\u001b[0m \u001b[0mstr\u001b[0m\u001b[0;34m,\u001b[0m \u001b[0mvalue\u001b[0m\u001b[0;34m:\u001b[0m \u001b[0mUnion\u001b[0m\u001b[0;34m[\u001b[0m\u001b[0mTensor\u001b[0m\u001b[0;34m,\u001b[0m \u001b[0;34m'Module'\u001b[0m\u001b[0;34m]\u001b[0m\u001b[0;34m)\u001b[0m \u001b[0;34m->\u001b[0m \u001b[0;32mNone\u001b[0m\u001b[0;34m:\u001b[0m\u001b[0;34m\u001b[0m\u001b[0;34m\u001b[0m\u001b[0m\n",
            "\u001b[0;31mAttributeError\u001b[0m: 'EncoderLayer' object has no attribute 'config_hidn'"
          ]
        }
      ]
    },
    {
      "cell_type": "code",
      "metadata": {
        "colab": {
          "base_uri": "https://localhost:8080/",
          "height": 244
        },
        "id": "aPzNsEY1_S2L",
        "outputId": "2dd55bd2-ace6-427a-fb38-e8994e7f59d6"
      },
      "source": [
        "# data\n",
        "data = {\n",
        "    \"loss\": losses\n",
        "}\n",
        "df = pd.DataFrame(data)\n",
        "display(df)\n",
        "\n",
        "# graph\n",
        "plt.figure(figsize=[12, 4])\n",
        "plt.plot(losses, label=\"loss\")\n",
        "plt.legend()\n",
        "plt.xlabel('Epoch')\n",
        "plt.ylabel('Loss')\n",
        "plt.show()"
      ],
      "execution_count": 46,
      "outputs": [
        {
          "output_type": "error",
          "ename": "NameError",
          "evalue": "ignored",
          "traceback": [
            "\u001b[0;31m---------------------------------------------------------------------------\u001b[0m",
            "\u001b[0;31mNameError\u001b[0m                                 Traceback (most recent call last)",
            "\u001b[0;32m<ipython-input-46-3664c93d96d1>\u001b[0m in \u001b[0;36m<module>\u001b[0;34m()\u001b[0m\n\u001b[1;32m      1\u001b[0m \u001b[0;31m# data\u001b[0m\u001b[0;34m\u001b[0m\u001b[0;34m\u001b[0m\u001b[0;34m\u001b[0m\u001b[0m\n\u001b[1;32m      2\u001b[0m data = {\n\u001b[0;32m----> 3\u001b[0;31m     \u001b[0;34m\"loss\"\u001b[0m\u001b[0;34m:\u001b[0m \u001b[0mlosses\u001b[0m\u001b[0;34m\u001b[0m\u001b[0;34m\u001b[0m\u001b[0m\n\u001b[0m\u001b[1;32m      4\u001b[0m }\n\u001b[1;32m      5\u001b[0m \u001b[0mdf\u001b[0m \u001b[0;34m=\u001b[0m \u001b[0mpd\u001b[0m\u001b[0;34m.\u001b[0m\u001b[0mDataFrame\u001b[0m\u001b[0;34m(\u001b[0m\u001b[0mdata\u001b[0m\u001b[0;34m)\u001b[0m\u001b[0;34m\u001b[0m\u001b[0;34m\u001b[0m\u001b[0m\n",
            "\u001b[0;31mNameError\u001b[0m: name 'losses' is not defined"
          ]
        }
      ]
    },
    {
      "cell_type": "code",
      "metadata": {
        "id": "gqIT8e0j_Uzq"
      },
      "source": [
        ""
      ],
      "execution_count": null,
      "outputs": []
    }
  ]
}
